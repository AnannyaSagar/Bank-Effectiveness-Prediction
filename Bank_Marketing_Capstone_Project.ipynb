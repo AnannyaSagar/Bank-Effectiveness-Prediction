{
  "cells": [
    {
      "cell_type": "markdown",
      "metadata": {
        "id": "view-in-github",
        "colab_type": "text"
      },
      "source": [
        "<a href=\"https://colab.research.google.com/github/AnannyaSagar/Bank-Effectiveness-Prediction/blob/main/Bank_Marketing_Capstone_Project.ipynb\" target=\"_parent\"><img src=\"https://colab.research.google.com/assets/colab-badge.svg\" alt=\"Open In Colab\"/></a>"
      ]
    },
    {
      "cell_type": "markdown",
      "metadata": {
        "id": "tOGC-qoyhJeX"
      },
      "source": [
        "# <b><u> Project Title : Predicting the effectiveness of bank marketing campaigns </u></b>"
      ]
    },
    {
      "cell_type": "markdown",
      "metadata": {
        "id": "Y06xIdG26kRF"
      },
      "source": [
        "## <b> Problem Description </b>\n",
        "\n",
        "### The data is related with direct marketing campaigns (phone calls) of a Portuguese banking institution. The marketing campaigns were based on phone calls. Often, more than one contact to the same client was required, in order to access if the product (bank term deposit) would be ('yes') or not ('no') subscribed. The classification goal is to predict if the client will subscribe a term deposit (variable y).\n"
      ]
    },
    {
      "cell_type": "markdown",
      "metadata": {
        "id": "AlLxAtlziMbP"
      },
      "source": [
        "## <b> Data Description </b>\n",
        "\n",
        "## <b>Input variables: </b>\n",
        "### <b> Bank Client data: </b>\n",
        "\n",
        "* ### age (numeric)\n",
        "* ### job : type of job (categorical: 'admin.','blue-collar','entrepreneur','housemaid','management','retired','self-employed','services','student','technician','unemployed','unknown')\n",
        "* ### marital : marital status (categorical: 'divorced','married','single','unknown'; note: 'divorced' means divorced or widowed)\n",
        "* ### education (categorical: 'basic.4y','basic.6y','basic.9y','high.school','illiterate','professional.course','university.degree','unknown')\n",
        "* ### default: has credit in default? (categorical: 'no','yes','unknown')\n",
        "* ### housing: has housing loan? (categorical: 'no','yes','unknown')\n",
        "* ### loan: has personal loan? (categorical: 'no','yes','unknown')\n",
        "\n",
        "### <b> Related with the last contact of the current campaign:</b>\n",
        "* ### contact: contact communication type (categorical: 'cellular','telephone')\n",
        "* ### month: last contact month of year (categorical: 'jan', 'feb', 'mar', ..., 'nov', 'dec')\n",
        "* ### day_of_week: last contact day of the week (categorical: 'mon','tue','wed','thu','fri')\n",
        "* ### duration: last contact duration, in seconds (numeric). Important note: this attribute highly affects the output target (e.g., if duration=0 then y='no'). Yet, the duration is not known before a call is performed. Also, after the end of the call y is obviously known. Thus, this input should only be included for benchmark purposes and should be discarded if the intention is to have a realistic predictive model.\n",
        "\n",
        "### <b>Other attributes: </b>\n",
        "* ### campaign: number of contacts performed during this campaign and for this client (numeric, includes last contact)\n",
        "* ### pdays: number of days that passed by after the client was last contacted from a previous campaign (numeric; 999 means client was not previously contacted)\n",
        "* ### previous: number of contacts performed before this campaign and for this client (numeric)\n",
        "* ### poutcome: outcome of the previous marketing campaign (categorical: 'failure','nonexistent','success')\n",
        "\n",
        "\n",
        "### <b>Output variable (desired target):</b>\n",
        "* ### y - has the client subscribed a term deposit? (binary: 'yes','no')"
      ]
    },
    {
      "cell_type": "code",
      "execution_count": null,
      "metadata": {
        "id": "BwfF3qgudWk0"
      },
      "outputs": [],
      "source": [
        "import pandas as pd\n",
        "import numpy as np\n",
        "import matplotlib.pyplot as plt\n",
        "import seaborn as sns\n",
        "import warnings\n",
        "\n",
        "from sklearn.model_selection import train_test_split\n",
        "from sklearn.preprocessing import OneHotEncoder\n",
        "from sklearn.model_selection import GridSearchCV\n",
        "from sklearn.model_selection import RandomizedSearchCV\n",
        "from sklearn.model_selection import train_test_split\n",
        "%matplotlib inline\n",
        "warnings.filterwarnings('ignore')"
      ]
    },
    {
      "cell_type": "code",
      "execution_count": null,
      "metadata": {
        "id": "tmdsGwqauzYu"
      },
      "outputs": [],
      "source": [
        "from sklearn.metrics import roc_curve\n",
        "from sklearn.metrics import roc_auc_score"
      ]
    },
    {
      "cell_type": "code",
      "execution_count": null,
      "metadata": {
        "colab": {
          "base_uri": "https://localhost:8080/"
        },
        "id": "dByMsuzT8Tnw",
        "outputId": "7dcd22d8-f402-4c81-e548-11f1389e1004"
      },
      "outputs": [
        {
          "output_type": "stream",
          "name": "stdout",
          "text": [
            "Mounted at /content/drive\n"
          ]
        }
      ],
      "source": [
        "from google.colab import drive\n",
        "drive.mount('/content/drive')"
      ]
    },
    {
      "cell_type": "code",
      "execution_count": null,
      "metadata": {
        "id": "ap8CuG4OYxdd"
      },
      "outputs": [],
      "source": [
        "df = pd.read_csv('/content/drive/MyDrive/Almabetter Notes/bank-full.csv', sep = \";\")"
      ]
    },
    {
      "cell_type": "code",
      "execution_count": null,
      "metadata": {
        "colab": {
          "base_uri": "https://localhost:8080/",
          "height": 206
        },
        "id": "0G56AMNQZVd_",
        "outputId": "b86b3a4b-92bb-4ccf-a1b8-2e10ffee7c99"
      },
      "outputs": [
        {
          "output_type": "execute_result",
          "data": {
            "text/plain": [
              "   age           job  marital  education default  balance housing loan  \\\n",
              "0   58    management  married   tertiary      no     2143     yes   no   \n",
              "1   44    technician   single  secondary      no       29     yes   no   \n",
              "2   33  entrepreneur  married  secondary      no        2     yes  yes   \n",
              "3   47   blue-collar  married    unknown      no     1506     yes   no   \n",
              "4   33       unknown   single    unknown      no        1      no   no   \n",
              "\n",
              "   contact  day month  duration  campaign  pdays  previous poutcome   y  \n",
              "0  unknown    5   may       261         1     -1         0  unknown  no  \n",
              "1  unknown    5   may       151         1     -1         0  unknown  no  \n",
              "2  unknown    5   may        76         1     -1         0  unknown  no  \n",
              "3  unknown    5   may        92         1     -1         0  unknown  no  \n",
              "4  unknown    5   may       198         1     -1         0  unknown  no  "
            ],
            "text/html": [
              "\n",
              "  <div id=\"df-a18d352d-0cc6-4519-ac61-40d0f3284410\">\n",
              "    <div class=\"colab-df-container\">\n",
              "      <div>\n",
              "<style scoped>\n",
              "    .dataframe tbody tr th:only-of-type {\n",
              "        vertical-align: middle;\n",
              "    }\n",
              "\n",
              "    .dataframe tbody tr th {\n",
              "        vertical-align: top;\n",
              "    }\n",
              "\n",
              "    .dataframe thead th {\n",
              "        text-align: right;\n",
              "    }\n",
              "</style>\n",
              "<table border=\"1\" class=\"dataframe\">\n",
              "  <thead>\n",
              "    <tr style=\"text-align: right;\">\n",
              "      <th></th>\n",
              "      <th>age</th>\n",
              "      <th>job</th>\n",
              "      <th>marital</th>\n",
              "      <th>education</th>\n",
              "      <th>default</th>\n",
              "      <th>balance</th>\n",
              "      <th>housing</th>\n",
              "      <th>loan</th>\n",
              "      <th>contact</th>\n",
              "      <th>day</th>\n",
              "      <th>month</th>\n",
              "      <th>duration</th>\n",
              "      <th>campaign</th>\n",
              "      <th>pdays</th>\n",
              "      <th>previous</th>\n",
              "      <th>poutcome</th>\n",
              "      <th>y</th>\n",
              "    </tr>\n",
              "  </thead>\n",
              "  <tbody>\n",
              "    <tr>\n",
              "      <th>0</th>\n",
              "      <td>58</td>\n",
              "      <td>management</td>\n",
              "      <td>married</td>\n",
              "      <td>tertiary</td>\n",
              "      <td>no</td>\n",
              "      <td>2143</td>\n",
              "      <td>yes</td>\n",
              "      <td>no</td>\n",
              "      <td>unknown</td>\n",
              "      <td>5</td>\n",
              "      <td>may</td>\n",
              "      <td>261</td>\n",
              "      <td>1</td>\n",
              "      <td>-1</td>\n",
              "      <td>0</td>\n",
              "      <td>unknown</td>\n",
              "      <td>no</td>\n",
              "    </tr>\n",
              "    <tr>\n",
              "      <th>1</th>\n",
              "      <td>44</td>\n",
              "      <td>technician</td>\n",
              "      <td>single</td>\n",
              "      <td>secondary</td>\n",
              "      <td>no</td>\n",
              "      <td>29</td>\n",
              "      <td>yes</td>\n",
              "      <td>no</td>\n",
              "      <td>unknown</td>\n",
              "      <td>5</td>\n",
              "      <td>may</td>\n",
              "      <td>151</td>\n",
              "      <td>1</td>\n",
              "      <td>-1</td>\n",
              "      <td>0</td>\n",
              "      <td>unknown</td>\n",
              "      <td>no</td>\n",
              "    </tr>\n",
              "    <tr>\n",
              "      <th>2</th>\n",
              "      <td>33</td>\n",
              "      <td>entrepreneur</td>\n",
              "      <td>married</td>\n",
              "      <td>secondary</td>\n",
              "      <td>no</td>\n",
              "      <td>2</td>\n",
              "      <td>yes</td>\n",
              "      <td>yes</td>\n",
              "      <td>unknown</td>\n",
              "      <td>5</td>\n",
              "      <td>may</td>\n",
              "      <td>76</td>\n",
              "      <td>1</td>\n",
              "      <td>-1</td>\n",
              "      <td>0</td>\n",
              "      <td>unknown</td>\n",
              "      <td>no</td>\n",
              "    </tr>\n",
              "    <tr>\n",
              "      <th>3</th>\n",
              "      <td>47</td>\n",
              "      <td>blue-collar</td>\n",
              "      <td>married</td>\n",
              "      <td>unknown</td>\n",
              "      <td>no</td>\n",
              "      <td>1506</td>\n",
              "      <td>yes</td>\n",
              "      <td>no</td>\n",
              "      <td>unknown</td>\n",
              "      <td>5</td>\n",
              "      <td>may</td>\n",
              "      <td>92</td>\n",
              "      <td>1</td>\n",
              "      <td>-1</td>\n",
              "      <td>0</td>\n",
              "      <td>unknown</td>\n",
              "      <td>no</td>\n",
              "    </tr>\n",
              "    <tr>\n",
              "      <th>4</th>\n",
              "      <td>33</td>\n",
              "      <td>unknown</td>\n",
              "      <td>single</td>\n",
              "      <td>unknown</td>\n",
              "      <td>no</td>\n",
              "      <td>1</td>\n",
              "      <td>no</td>\n",
              "      <td>no</td>\n",
              "      <td>unknown</td>\n",
              "      <td>5</td>\n",
              "      <td>may</td>\n",
              "      <td>198</td>\n",
              "      <td>1</td>\n",
              "      <td>-1</td>\n",
              "      <td>0</td>\n",
              "      <td>unknown</td>\n",
              "      <td>no</td>\n",
              "    </tr>\n",
              "  </tbody>\n",
              "</table>\n",
              "</div>\n",
              "      <button class=\"colab-df-convert\" onclick=\"convertToInteractive('df-a18d352d-0cc6-4519-ac61-40d0f3284410')\"\n",
              "              title=\"Convert this dataframe to an interactive table.\"\n",
              "              style=\"display:none;\">\n",
              "        \n",
              "  <svg xmlns=\"http://www.w3.org/2000/svg\" height=\"24px\"viewBox=\"0 0 24 24\"\n",
              "       width=\"24px\">\n",
              "    <path d=\"M0 0h24v24H0V0z\" fill=\"none\"/>\n",
              "    <path d=\"M18.56 5.44l.94 2.06.94-2.06 2.06-.94-2.06-.94-.94-2.06-.94 2.06-2.06.94zm-11 1L8.5 8.5l.94-2.06 2.06-.94-2.06-.94L8.5 2.5l-.94 2.06-2.06.94zm10 10l.94 2.06.94-2.06 2.06-.94-2.06-.94-.94-2.06-.94 2.06-2.06.94z\"/><path d=\"M17.41 7.96l-1.37-1.37c-.4-.4-.92-.59-1.43-.59-.52 0-1.04.2-1.43.59L10.3 9.45l-7.72 7.72c-.78.78-.78 2.05 0 2.83L4 21.41c.39.39.9.59 1.41.59.51 0 1.02-.2 1.41-.59l7.78-7.78 2.81-2.81c.8-.78.8-2.07 0-2.86zM5.41 20L4 18.59l7.72-7.72 1.47 1.35L5.41 20z\"/>\n",
              "  </svg>\n",
              "      </button>\n",
              "      \n",
              "  <style>\n",
              "    .colab-df-container {\n",
              "      display:flex;\n",
              "      flex-wrap:wrap;\n",
              "      gap: 12px;\n",
              "    }\n",
              "\n",
              "    .colab-df-convert {\n",
              "      background-color: #E8F0FE;\n",
              "      border: none;\n",
              "      border-radius: 50%;\n",
              "      cursor: pointer;\n",
              "      display: none;\n",
              "      fill: #1967D2;\n",
              "      height: 32px;\n",
              "      padding: 0 0 0 0;\n",
              "      width: 32px;\n",
              "    }\n",
              "\n",
              "    .colab-df-convert:hover {\n",
              "      background-color: #E2EBFA;\n",
              "      box-shadow: 0px 1px 2px rgba(60, 64, 67, 0.3), 0px 1px 3px 1px rgba(60, 64, 67, 0.15);\n",
              "      fill: #174EA6;\n",
              "    }\n",
              "\n",
              "    [theme=dark] .colab-df-convert {\n",
              "      background-color: #3B4455;\n",
              "      fill: #D2E3FC;\n",
              "    }\n",
              "\n",
              "    [theme=dark] .colab-df-convert:hover {\n",
              "      background-color: #434B5C;\n",
              "      box-shadow: 0px 1px 3px 1px rgba(0, 0, 0, 0.15);\n",
              "      filter: drop-shadow(0px 1px 2px rgba(0, 0, 0, 0.3));\n",
              "      fill: #FFFFFF;\n",
              "    }\n",
              "  </style>\n",
              "\n",
              "      <script>\n",
              "        const buttonEl =\n",
              "          document.querySelector('#df-a18d352d-0cc6-4519-ac61-40d0f3284410 button.colab-df-convert');\n",
              "        buttonEl.style.display =\n",
              "          google.colab.kernel.accessAllowed ? 'block' : 'none';\n",
              "\n",
              "        async function convertToInteractive(key) {\n",
              "          const element = document.querySelector('#df-a18d352d-0cc6-4519-ac61-40d0f3284410');\n",
              "          const dataTable =\n",
              "            await google.colab.kernel.invokeFunction('convertToInteractive',\n",
              "                                                     [key], {});\n",
              "          if (!dataTable) return;\n",
              "\n",
              "          const docLinkHtml = 'Like what you see? Visit the ' +\n",
              "            '<a target=\"_blank\" href=https://colab.research.google.com/notebooks/data_table.ipynb>data table notebook</a>'\n",
              "            + ' to learn more about interactive tables.';\n",
              "          element.innerHTML = '';\n",
              "          dataTable['output_type'] = 'display_data';\n",
              "          await google.colab.output.renderOutput(dataTable, element);\n",
              "          const docLink = document.createElement('div');\n",
              "          docLink.innerHTML = docLinkHtml;\n",
              "          element.appendChild(docLink);\n",
              "        }\n",
              "      </script>\n",
              "    </div>\n",
              "  </div>\n",
              "  "
            ]
          },
          "metadata": {},
          "execution_count": 5
        }
      ],
      "source": [
        "df.head()"
      ]
    },
    {
      "cell_type": "code",
      "execution_count": null,
      "metadata": {
        "colab": {
          "base_uri": "https://localhost:8080/"
        },
        "id": "BoGmNuvccWt_",
        "outputId": "52a46e84-bccf-45ab-a099-a3fbdb0f066f"
      },
      "outputs": [
        {
          "output_type": "execute_result",
          "data": {
            "text/plain": [
              "age          0\n",
              "job          0\n",
              "marital      0\n",
              "education    0\n",
              "default      0\n",
              "balance      0\n",
              "housing      0\n",
              "loan         0\n",
              "contact      0\n",
              "day          0\n",
              "month        0\n",
              "duration     0\n",
              "campaign     0\n",
              "pdays        0\n",
              "previous     0\n",
              "poutcome     0\n",
              "y            0\n",
              "dtype: int64"
            ]
          },
          "metadata": {},
          "execution_count": 6
        }
      ],
      "source": [
        "df.isna().sum()"
      ]
    },
    {
      "cell_type": "code",
      "execution_count": null,
      "metadata": {
        "colab": {
          "base_uri": "https://localhost:8080/"
        },
        "id": "6_DJYev3caCw",
        "outputId": "d4e5b869-e806-46f8-91a2-9d719301b26e"
      },
      "outputs": [
        {
          "output_type": "stream",
          "name": "stdout",
          "text": [
            "<class 'pandas.core.frame.DataFrame'>\n",
            "RangeIndex: 45211 entries, 0 to 45210\n",
            "Data columns (total 17 columns):\n",
            " #   Column     Non-Null Count  Dtype \n",
            "---  ------     --------------  ----- \n",
            " 0   age        45211 non-null  int64 \n",
            " 1   job        45211 non-null  object\n",
            " 2   marital    45211 non-null  object\n",
            " 3   education  45211 non-null  object\n",
            " 4   default    45211 non-null  object\n",
            " 5   balance    45211 non-null  int64 \n",
            " 6   housing    45211 non-null  object\n",
            " 7   loan       45211 non-null  object\n",
            " 8   contact    45211 non-null  object\n",
            " 9   day        45211 non-null  int64 \n",
            " 10  month      45211 non-null  object\n",
            " 11  duration   45211 non-null  int64 \n",
            " 12  campaign   45211 non-null  int64 \n",
            " 13  pdays      45211 non-null  int64 \n",
            " 14  previous   45211 non-null  int64 \n",
            " 15  poutcome   45211 non-null  object\n",
            " 16  y          45211 non-null  object\n",
            "dtypes: int64(7), object(10)\n",
            "memory usage: 5.9+ MB\n"
          ]
        }
      ],
      "source": [
        "df.info()"
      ]
    },
    {
      "cell_type": "code",
      "execution_count": null,
      "metadata": {
        "id": "vxpQtTMEc0Hy"
      },
      "outputs": [],
      "source": [
        "df=df.drop('duration', axis=1)"
      ]
    },
    {
      "cell_type": "code",
      "execution_count": null,
      "metadata": {
        "id": "SW0AJxkuwl8Q"
      },
      "outputs": [],
      "source": [
        "df1 = df.copy()"
      ]
    },
    {
      "cell_type": "code",
      "execution_count": null,
      "metadata": {
        "colab": {
          "base_uri": "https://localhost:8080/",
          "height": 436
        },
        "id": "le_DGOnicUOG",
        "outputId": "430d54b0-6176-4f5e-972d-24cf1b36dd8b"
      },
      "outputs": [
        {
          "output_type": "display_data",
          "data": {
            "text/plain": [
              "<Figure size 576x396 with 1 Axes>"
            ],
            "image/png": "[encoded data removed]"
          },
          "metadata": {
            "needs_background": "light"
          }
        }
      ],
      "source": [
        "plt.figure(figsize=(8, 5.5));\n",
        "plt.title('Job vs campaign success')\n",
        "g = sns.countplot(x= 'job', hue = 'y', data=df, palette='hsv')\n",
        "plt.xticks(rotation=70)\n",
        "plt.yticks([])\n",
        "plt.legend(title='Success', ncol=1, fancybox=True, shadow=True)\n",
        "plt.show()"
      ]
    },
    {
      "cell_type": "code",
      "execution_count": null,
      "metadata": {
        "colab": {
          "base_uri": "https://localhost:8080/",
          "height": 387
        },
        "id": "IqGoVjIydLpQ",
        "outputId": "cd5acc16-b9ec-46cc-932d-7e910d4cf426"
      },
      "outputs": [
        {
          "data": {
            "image/png": "[encoded data removed]",
            "text/plain": [
              "<Figure size 576x396 with 1 Axes>"
            ]
          },
          "metadata": {},
          "output_type": "display_data"
        }
      ],
      "source": [
        "plt.figure(figsize=(8, 5.5));\n",
        "plt.title('Job vs campaign success')\n",
        "g = sns.countplot(x= 'loan', hue = 'y', data=df1, palette='hsv')\n",
        "plt.xticks(rotation=70)\n",
        "plt.yticks([])\n",
        "plt.legend(title='Success', ncol=1, fancybox=True, shadow=True)\n",
        "plt.show()"
      ]
    },
    {
      "cell_type": "code",
      "execution_count": null,
      "metadata": {
        "colab": {
          "base_uri": "https://localhost:8080/",
          "height": 387
        },
        "id": "rKucAX0Qd1od",
        "outputId": "5e303ce4-a8dd-4418-d995-228a1d5217b4"
      },
      "outputs": [
        {
          "data": {
            "image/png": "[encoded data removed]",
            "text/plain": [
              "<Figure size 288x396 with 1 Axes>"
            ]
          },
          "metadata": {},
          "output_type": "display_data"
        }
      ],
      "source": [
        "plt.figure(figsize=(4, 5.5));\n",
        "plt.title('Job vs campaign success')\n",
        "g = sns.countplot(x= 'housing', hue = 'y', data=df1, palette='hsv')\n",
        "plt.xticks(rotation=70)\n",
        "plt.yticks([])\n",
        "plt.legend(title='Success', ncol=1, fancybox=True, shadow=True)\n",
        "plt.show()"
      ]
    },
    {
      "cell_type": "code",
      "execution_count": null,
      "metadata": {
        "colab": {
          "base_uri": "https://localhost:8080/",
          "height": 295
        },
        "id": "dEc1Fp3leZjB",
        "outputId": "b126c856-34bc-4e39-d842-81ab3449fdeb"
      },
      "outputs": [
        {
          "data": {
            "image/png": "[encoded data removed]",
            "text/plain": [
              "<Figure size 576x288 with 1 Axes>"
            ]
          },
          "metadata": {},
          "output_type": "display_data"
        }
      ],
      "source": [
        "plt.figure(figsize=(8, 4));\n",
        "plt.title('Month vs campaign success')\n",
        "g = sns.countplot(x= 'month', hue = 'y', data=df1, order=['jan','feb','mar','apr','may','jun','jul','aug','sep','oct','nov','dec'], palette='hsv');\n",
        "plt.legend(title='Success', ncol=1, fancybox=True, shadow=True)\n",
        "plt.yticks([])\n",
        "plt.show()"
      ]
    },
    {
      "cell_type": "code",
      "execution_count": null,
      "metadata": {
        "colab": {
          "base_uri": "https://localhost:8080/",
          "height": 295
        },
        "id": "CbqKoQ8be6Rm",
        "outputId": "0bd98972-c95a-433e-d9c3-904c99fe9c74"
      },
      "outputs": [
        {
          "data": {
            "image/png": "[encoded data removed]",
            "text/plain": [
              "<Figure size 360x288 with 1 Axes>"
            ]
          },
          "metadata": {},
          "output_type": "display_data"
        }
      ],
      "source": [
        "plt.figure(figsize=(5, 4));\n",
        "plt.title('Poutcome vs campaign success')\n",
        "g = sns.countplot(x= 'poutcome', hue = 'y', data=df1, palette='hsv');\n",
        "plt.legend(title='Succes?', ncol=1, fancybox=True, shadow=True)\n",
        "plt.yticks([])\n",
        "plt.show()"
      ]
    },
    {
      "cell_type": "code",
      "execution_count": null,
      "metadata": {
        "colab": {
          "base_uri": "https://localhost:8080/",
          "height": 398
        },
        "id": "Fxwe7Iqpgn4y",
        "outputId": "debc4dd0-1f13-4a3e-eaeb-612cdf99fd3b"
      },
      "outputs": [
        {
          "ename": "ValueError",
          "evalue": "ignored",
          "output_type": "error",
          "traceback": [
            "\u001b[0;31m---------------------------------------------------------------------------\u001b[0m",
            "\u001b[0;31mValueError\u001b[0m                                Traceback (most recent call last)",
            "\u001b[0;32m<ipython-input-15-3bcf819492c2>\u001b[0m in \u001b[0;36m<module>\u001b[0;34m()\u001b[0m\n\u001b[1;32m      1\u001b[0m \u001b[0mplt\u001b[0m\u001b[0;34m.\u001b[0m\u001b[0mfigure\u001b[0m\u001b[0;34m(\u001b[0m\u001b[0mfigsize\u001b[0m\u001b[0;34m=\u001b[0m\u001b[0;34m(\u001b[0m\u001b[0;36m6\u001b[0m\u001b[0;34m,\u001b[0m\u001b[0;36m4\u001b[0m\u001b[0;34m)\u001b[0m\u001b[0;34m)\u001b[0m\u001b[0;34m\u001b[0m\u001b[0;34m\u001b[0m\u001b[0m\n\u001b[0;32m----> 2\u001b[0;31m \u001b[0msns\u001b[0m\u001b[0;34m.\u001b[0m\u001b[0mboxplot\u001b[0m\u001b[0;34m(\u001b[0m\u001b[0mx\u001b[0m\u001b[0;34m=\u001b[0m\u001b[0;34m'age_cate'\u001b[0m\u001b[0;34m,\u001b[0m \u001b[0my\u001b[0m\u001b[0;34m=\u001b[0m\u001b[0;34m'balance'\u001b[0m\u001b[0;34m,\u001b[0m \u001b[0mhue\u001b[0m\u001b[0;34m=\u001b[0m\u001b[0;34m'y'\u001b[0m\u001b[0;34m,\u001b[0m \u001b[0mdata\u001b[0m\u001b[0;34m=\u001b[0m\u001b[0mdf1\u001b[0m\u001b[0;34m,\u001b[0m \u001b[0mpalette\u001b[0m\u001b[0;34m=\u001b[0m\u001b[0;34m'hsv'\u001b[0m\u001b[0;34m)\u001b[0m\u001b[0;34m\u001b[0m\u001b[0;34m\u001b[0m\u001b[0m\n\u001b[0m\u001b[1;32m      3\u001b[0m \u001b[0mplt\u001b[0m\u001b[0;34m.\u001b[0m\u001b[0mylabel\u001b[0m\u001b[0;34m(\u001b[0m\u001b[0;34m'balance($) log transform.'\u001b[0m\u001b[0;34m)\u001b[0m\u001b[0;34m\u001b[0m\u001b[0;34m\u001b[0m\u001b[0m\n\u001b[1;32m      4\u001b[0m \u001b[0mplt\u001b[0m\u001b[0;34m.\u001b[0m\u001b[0mxlabel\u001b[0m\u001b[0;34m(\u001b[0m\u001b[0;34m'Age'\u001b[0m\u001b[0;34m)\u001b[0m\u001b[0;34m\u001b[0m\u001b[0;34m\u001b[0m\u001b[0m\n\u001b[1;32m      5\u001b[0m \u001b[0mplt\u001b[0m\u001b[0;34m.\u001b[0m\u001b[0mtitle\u001b[0m\u001b[0;34m(\u001b[0m\u001b[0;34m'Balance VS Age by Deposit'\u001b[0m\u001b[0;34m)\u001b[0m\u001b[0;34m\u001b[0m\u001b[0;34m\u001b[0m\u001b[0m\n",
            "\u001b[0;32m/usr/local/lib/python3.7/dist-packages/seaborn/_decorators.py\u001b[0m in \u001b[0;36minner_f\u001b[0;34m(*args, **kwargs)\u001b[0m\n\u001b[1;32m     44\u001b[0m             )\n\u001b[1;32m     45\u001b[0m         \u001b[0mkwargs\u001b[0m\u001b[0;34m.\u001b[0m\u001b[0mupdate\u001b[0m\u001b[0;34m(\u001b[0m\u001b[0;34m{\u001b[0m\u001b[0mk\u001b[0m\u001b[0;34m:\u001b[0m \u001b[0marg\u001b[0m \u001b[0;32mfor\u001b[0m \u001b[0mk\u001b[0m\u001b[0;34m,\u001b[0m \u001b[0marg\u001b[0m \u001b[0;32min\u001b[0m \u001b[0mzip\u001b[0m\u001b[0;34m(\u001b[0m\u001b[0msig\u001b[0m\u001b[0;34m.\u001b[0m\u001b[0mparameters\u001b[0m\u001b[0;34m,\u001b[0m \u001b[0margs\u001b[0m\u001b[0;34m)\u001b[0m\u001b[0;34m}\u001b[0m\u001b[0;34m)\u001b[0m\u001b[0;34m\u001b[0m\u001b[0;34m\u001b[0m\u001b[0m\n\u001b[0;32m---> 46\u001b[0;31m         \u001b[0;32mreturn\u001b[0m \u001b[0mf\u001b[0m\u001b[0;34m(\u001b[0m\u001b[0;34m**\u001b[0m\u001b[0mkwargs\u001b[0m\u001b[0;34m)\u001b[0m\u001b[0;34m\u001b[0m\u001b[0;34m\u001b[0m\u001b[0m\n\u001b[0m\u001b[1;32m     47\u001b[0m     \u001b[0;32mreturn\u001b[0m \u001b[0minner_f\u001b[0m\u001b[0;34m\u001b[0m\u001b[0;34m\u001b[0m\u001b[0m\n\u001b[1;32m     48\u001b[0m \u001b[0;34m\u001b[0m\u001b[0m\n",
            "\u001b[0;32m/usr/local/lib/python3.7/dist-packages/seaborn/categorical.py\u001b[0m in \u001b[0;36mboxplot\u001b[0;34m(x, y, hue, data, order, hue_order, orient, color, palette, saturation, width, dodge, fliersize, linewidth, whis, ax, **kwargs)\u001b[0m\n\u001b[1;32m   2243\u001b[0m     plotter = _BoxPlotter(x, y, hue, data, order, hue_order,\n\u001b[1;32m   2244\u001b[0m                           \u001b[0morient\u001b[0m\u001b[0;34m,\u001b[0m \u001b[0mcolor\u001b[0m\u001b[0;34m,\u001b[0m \u001b[0mpalette\u001b[0m\u001b[0;34m,\u001b[0m \u001b[0msaturation\u001b[0m\u001b[0;34m,\u001b[0m\u001b[0;34m\u001b[0m\u001b[0;34m\u001b[0m\u001b[0m\n\u001b[0;32m-> 2245\u001b[0;31m                           width, dodge, fliersize, linewidth)\n\u001b[0m\u001b[1;32m   2246\u001b[0m \u001b[0;34m\u001b[0m\u001b[0m\n\u001b[1;32m   2247\u001b[0m     \u001b[0;32mif\u001b[0m \u001b[0max\u001b[0m \u001b[0;32mis\u001b[0m \u001b[0;32mNone\u001b[0m\u001b[0;34m:\u001b[0m\u001b[0;34m\u001b[0m\u001b[0;34m\u001b[0m\u001b[0m\n",
            "\u001b[0;32m/usr/local/lib/python3.7/dist-packages/seaborn/categorical.py\u001b[0m in \u001b[0;36m__init__\u001b[0;34m(self, x, y, hue, data, order, hue_order, orient, color, palette, saturation, width, dodge, fliersize, linewidth)\u001b[0m\n\u001b[1;32m    404\u001b[0m                  width, dodge, fliersize, linewidth):\n\u001b[1;32m    405\u001b[0m \u001b[0;34m\u001b[0m\u001b[0m\n\u001b[0;32m--> 406\u001b[0;31m         \u001b[0mself\u001b[0m\u001b[0;34m.\u001b[0m\u001b[0mestablish_variables\u001b[0m\u001b[0;34m(\u001b[0m\u001b[0mx\u001b[0m\u001b[0;34m,\u001b[0m \u001b[0my\u001b[0m\u001b[0;34m,\u001b[0m \u001b[0mhue\u001b[0m\u001b[0;34m,\u001b[0m \u001b[0mdata\u001b[0m\u001b[0;34m,\u001b[0m \u001b[0morient\u001b[0m\u001b[0;34m,\u001b[0m \u001b[0morder\u001b[0m\u001b[0;34m,\u001b[0m \u001b[0mhue_order\u001b[0m\u001b[0;34m)\u001b[0m\u001b[0;34m\u001b[0m\u001b[0;34m\u001b[0m\u001b[0m\n\u001b[0m\u001b[1;32m    407\u001b[0m         \u001b[0mself\u001b[0m\u001b[0;34m.\u001b[0m\u001b[0mestablish_colors\u001b[0m\u001b[0;34m(\u001b[0m\u001b[0mcolor\u001b[0m\u001b[0;34m,\u001b[0m \u001b[0mpalette\u001b[0m\u001b[0;34m,\u001b[0m \u001b[0msaturation\u001b[0m\u001b[0;34m)\u001b[0m\u001b[0;34m\u001b[0m\u001b[0;34m\u001b[0m\u001b[0m\n\u001b[1;32m    408\u001b[0m \u001b[0;34m\u001b[0m\u001b[0m\n",
            "\u001b[0;32m/usr/local/lib/python3.7/dist-packages/seaborn/categorical.py\u001b[0m in \u001b[0;36mestablish_variables\u001b[0;34m(self, x, y, hue, data, orient, order, hue_order, units)\u001b[0m\n\u001b[1;32m    151\u001b[0m                 \u001b[0;32mif\u001b[0m \u001b[0misinstance\u001b[0m\u001b[0;34m(\u001b[0m\u001b[0mvar\u001b[0m\u001b[0;34m,\u001b[0m \u001b[0mstr\u001b[0m\u001b[0;34m)\u001b[0m\u001b[0;34m:\u001b[0m\u001b[0;34m\u001b[0m\u001b[0;34m\u001b[0m\u001b[0m\n\u001b[1;32m    152\u001b[0m                     \u001b[0merr\u001b[0m \u001b[0;34m=\u001b[0m \u001b[0;34m\"Could not interpret input '{}'\"\u001b[0m\u001b[0;34m.\u001b[0m\u001b[0mformat\u001b[0m\u001b[0;34m(\u001b[0m\u001b[0mvar\u001b[0m\u001b[0;34m)\u001b[0m\u001b[0;34m\u001b[0m\u001b[0;34m\u001b[0m\u001b[0m\n\u001b[0;32m--> 153\u001b[0;31m                     \u001b[0;32mraise\u001b[0m \u001b[0mValueError\u001b[0m\u001b[0;34m(\u001b[0m\u001b[0merr\u001b[0m\u001b[0;34m)\u001b[0m\u001b[0;34m\u001b[0m\u001b[0;34m\u001b[0m\u001b[0m\n\u001b[0m\u001b[1;32m    154\u001b[0m \u001b[0;34m\u001b[0m\u001b[0m\n\u001b[1;32m    155\u001b[0m             \u001b[0;31m# Figure out the plotting orientation\u001b[0m\u001b[0;34m\u001b[0m\u001b[0;34m\u001b[0m\u001b[0;34m\u001b[0m\u001b[0m\n",
            "\u001b[0;31mValueError\u001b[0m: Could not interpret input 'age_cate'"
          ]
        },
        {
          "data": {
            "text/plain": [
              "<Figure size 432x288 with 0 Axes>"
            ]
          },
          "metadata": {},
          "output_type": "display_data"
        }
      ],
      "source": [
        "plt.figure(figsize=(6,4))\n",
        "sns.boxplot(x='age_cate', y='balance', hue='y', data=df1, palette='hsv')\n",
        "plt.ylabel('balance($) log transform.')\n",
        "plt.xlabel('Age')\n",
        "plt.title('Balance VS Age by Deposit')\n",
        "plt.yscale('log')\n",
        "plt.legend(bbox_to_anchor=(1.3, 0.6), title='Success', loc = 'lower right', fontsize=13, fancybox=True, shadow=True, frameon=True)\n",
        "plt.show()"
      ]
    },
    {
      "cell_type": "markdown",
      "metadata": {
        "id": "Yve3UA2Bg_BP"
      },
      "source": [
        "From this plot we can see that older customers tends to have a higher bank balance and that customers who accepted the deposit tended to have a higher balance compared to the customers who refused the deposit."
      ]
    },
    {
      "cell_type": "code",
      "execution_count": null,
      "metadata": {
        "id": "omjr2GSQx9PN"
      },
      "outputs": [],
      "source": [
        "df_unknown=df1.loc[(df1[\"education\"]==\"unknown\") & (df1[\"job\"]==\"unknown\") & (df1[\"contact\"]==\"unknown\") & (df1[\"poutcome\"]==\"unknown\") & (df1[\"balance\"]==0) ]"
      ]
    },
    {
      "cell_type": "code",
      "execution_count": null,
      "metadata": {
        "colab": {
          "base_uri": "https://localhost:8080/"
        },
        "id": "uztNQdJEyl6g",
        "outputId": "fc3ff088-ecca-4931-cd34-0f786c3d6e4e"
      },
      "outputs": [
        {
          "output_type": "execute_result",
          "data": {
            "text/plain": [
              "5"
            ]
          },
          "metadata": {},
          "execution_count": 12
        }
      ],
      "source": [
        "len(df_unknown)"
      ]
    },
    {
      "cell_type": "code",
      "execution_count": null,
      "metadata": {
        "colab": {
          "base_uri": "https://localhost:8080/"
        },
        "id": "GB-8wKIOyl3B",
        "outputId": "9b9d4e1b-801e-4ebc-a83a-4402030f184b"
      },
      "outputs": [
        {
          "output_type": "execute_result",
          "data": {
            "text/plain": [
              "Int64Index([9058, 9456, 9605, 10168, 11812], dtype='int64')"
            ]
          },
          "metadata": {},
          "execution_count": 13
        }
      ],
      "source": [
        "df_unknown.index"
      ]
    },
    {
      "cell_type": "code",
      "execution_count": null,
      "metadata": {
        "id": "iP38__97ylUQ"
      },
      "outputs": [],
      "source": [
        "df1.drop(df_unknown.index,inplace=True)"
      ]
    },
    {
      "cell_type": "code",
      "execution_count": null,
      "metadata": {
        "id": "TwV2QKZvylRF"
      },
      "outputs": [],
      "source": [
        "df1=df1.reset_index()"
      ]
    },
    {
      "cell_type": "code",
      "execution_count": null,
      "metadata": {
        "colab": {
          "base_uri": "https://localhost:8080/",
          "height": 49
        },
        "id": "kZCWfJaCylOL",
        "outputId": "b2c8eed9-264f-4b4c-cb88-f328a1cf5c5a"
      },
      "outputs": [
        {
          "output_type": "execute_result",
          "data": {
            "text/plain": [
              "Empty DataFrame\n",
              "Columns: [index, age, job, marital, education, default, balance, housing, loan, contact, day, month, campaign, pdays, previous, poutcome, y]\n",
              "Index: []"
            ],
            "text/html": [
              "\n",
              "  <div id=\"df-fde5a511-f39c-417f-94e4-168fb801f640\">\n",
              "    <div class=\"colab-df-container\">\n",
              "      <div>\n",
              "<style scoped>\n",
              "    .dataframe tbody tr th:only-of-type {\n",
              "        vertical-align: middle;\n",
              "    }\n",
              "\n",
              "    .dataframe tbody tr th {\n",
              "        vertical-align: top;\n",
              "    }\n",
              "\n",
              "    .dataframe thead th {\n",
              "        text-align: right;\n",
              "    }\n",
              "</style>\n",
              "<table border=\"1\" class=\"dataframe\">\n",
              "  <thead>\n",
              "    <tr style=\"text-align: right;\">\n",
              "      <th></th>\n",
              "      <th>index</th>\n",
              "      <th>age</th>\n",
              "      <th>job</th>\n",
              "      <th>marital</th>\n",
              "      <th>education</th>\n",
              "      <th>default</th>\n",
              "      <th>balance</th>\n",
              "      <th>housing</th>\n",
              "      <th>loan</th>\n",
              "      <th>contact</th>\n",
              "      <th>day</th>\n",
              "      <th>month</th>\n",
              "      <th>campaign</th>\n",
              "      <th>pdays</th>\n",
              "      <th>previous</th>\n",
              "      <th>poutcome</th>\n",
              "      <th>y</th>\n",
              "    </tr>\n",
              "  </thead>\n",
              "  <tbody>\n",
              "  </tbody>\n",
              "</table>\n",
              "</div>\n",
              "      <button class=\"colab-df-convert\" onclick=\"convertToInteractive('df-fde5a511-f39c-417f-94e4-168fb801f640')\"\n",
              "              title=\"Convert this dataframe to an interactive table.\"\n",
              "              style=\"display:none;\">\n",
              "        \n",
              "  <svg xmlns=\"http://www.w3.org/2000/svg\" height=\"24px\"viewBox=\"0 0 24 24\"\n",
              "       width=\"24px\">\n",
              "    <path d=\"M0 0h24v24H0V0z\" fill=\"none\"/>\n",
              "    <path d=\"M18.56 5.44l.94 2.06.94-2.06 2.06-.94-2.06-.94-.94-2.06-.94 2.06-2.06.94zm-11 1L8.5 8.5l.94-2.06 2.06-.94-2.06-.94L8.5 2.5l-.94 2.06-2.06.94zm10 10l.94 2.06.94-2.06 2.06-.94-2.06-.94-.94-2.06-.94 2.06-2.06.94z\"/><path d=\"M17.41 7.96l-1.37-1.37c-.4-.4-.92-.59-1.43-.59-.52 0-1.04.2-1.43.59L10.3 9.45l-7.72 7.72c-.78.78-.78 2.05 0 2.83L4 21.41c.39.39.9.59 1.41.59.51 0 1.02-.2 1.41-.59l7.78-7.78 2.81-2.81c.8-.78.8-2.07 0-2.86zM5.41 20L4 18.59l7.72-7.72 1.47 1.35L5.41 20z\"/>\n",
              "  </svg>\n",
              "      </button>\n",
              "      \n",
              "  <style>\n",
              "    .colab-df-container {\n",
              "      display:flex;\n",
              "      flex-wrap:wrap;\n",
              "      gap: 12px;\n",
              "    }\n",
              "\n",
              "    .colab-df-convert {\n",
              "      background-color: #E8F0FE;\n",
              "      border: none;\n",
              "      border-radius: 50%;\n",
              "      cursor: pointer;\n",
              "      display: none;\n",
              "      fill: #1967D2;\n",
              "      height: 32px;\n",
              "      padding: 0 0 0 0;\n",
              "      width: 32px;\n",
              "    }\n",
              "\n",
              "    .colab-df-convert:hover {\n",
              "      background-color: #E2EBFA;\n",
              "      box-shadow: 0px 1px 2px rgba(60, 64, 67, 0.3), 0px 1px 3px 1px rgba(60, 64, 67, 0.15);\n",
              "      fill: #174EA6;\n",
              "    }\n",
              "\n",
              "    [theme=dark] .colab-df-convert {\n",
              "      background-color: #3B4455;\n",
              "      fill: #D2E3FC;\n",
              "    }\n",
              "\n",
              "    [theme=dark] .colab-df-convert:hover {\n",
              "      background-color: #434B5C;\n",
              "      box-shadow: 0px 1px 3px 1px rgba(0, 0, 0, 0.15);\n",
              "      filter: drop-shadow(0px 1px 2px rgba(0, 0, 0, 0.3));\n",
              "      fill: #FFFFFF;\n",
              "    }\n",
              "  </style>\n",
              "\n",
              "      <script>\n",
              "        const buttonEl =\n",
              "          document.querySelector('#df-fde5a511-f39c-417f-94e4-168fb801f640 button.colab-df-convert');\n",
              "        buttonEl.style.display =\n",
              "          google.colab.kernel.accessAllowed ? 'block' : 'none';\n",
              "\n",
              "        async function convertToInteractive(key) {\n",
              "          const element = document.querySelector('#df-fde5a511-f39c-417f-94e4-168fb801f640');\n",
              "          const dataTable =\n",
              "            await google.colab.kernel.invokeFunction('convertToInteractive',\n",
              "                                                     [key], {});\n",
              "          if (!dataTable) return;\n",
              "\n",
              "          const docLinkHtml = 'Like what you see? Visit the ' +\n",
              "            '<a target=\"_blank\" href=https://colab.research.google.com/notebooks/data_table.ipynb>data table notebook</a>'\n",
              "            + ' to learn more about interactive tables.';\n",
              "          element.innerHTML = '';\n",
              "          dataTable['output_type'] = 'display_data';\n",
              "          await google.colab.output.renderOutput(dataTable, element);\n",
              "          const docLink = document.createElement('div');\n",
              "          docLink.innerHTML = docLinkHtml;\n",
              "          element.appendChild(docLink);\n",
              "        }\n",
              "      </script>\n",
              "    </div>\n",
              "  </div>\n",
              "  "
            ]
          },
          "metadata": {},
          "execution_count": 16
        }
      ],
      "source": [
        "# quick check\n",
        "df1.loc[(df[\"education\"]==\"unknown\") & (df1[\"job\"]==\"unknown\") & (df1[\"contact\"]==\"unknown\") & (df1[\"poutcome\"]==\"unknown\") & (df1[\"balance\"]==0)]"
      ]
    },
    {
      "cell_type": "code",
      "execution_count": null,
      "metadata": {
        "id": "RysE7SNc7je5"
      },
      "outputs": [],
      "source": [
        "\n",
        "df1['default'] = df1['default'].map({'yes':1,'no':0})\n",
        "df1['housing'] = df1['housing'].map({'yes':1,'no':0})\n",
        "df1['loan'] = df1['loan'].map({'yes':1,'no':0})\n",
        "df1['y'] = df1['y'].map({'yes':1,'no':0})\n",
        "df1=pd.get_dummies(df1,columns=[\"job\", \"education\", \"marital\", \"contact\", \"month\", \"poutcome\"])\n",
        "df1.drop('index',axis=1,inplace=True)\n"
      ]
    },
    {
      "cell_type": "markdown",
      "metadata": {
        "id": "sVkCMwOH8Rnk"
      },
      "source": [
        "##SMOTE"
      ]
    },
    {
      "cell_type": "code",
      "execution_count": null,
      "metadata": {
        "colab": {
          "base_uri": "https://localhost:8080/"
        },
        "id": "vrEd9zztENRB",
        "outputId": "8b11e75e-eaf9-475b-e9c2-b9359f627c14"
      },
      "outputs": [
        {
          "output_type": "stream",
          "name": "stdout",
          "text": [
            "Requirement already satisfied: imblearn in /usr/local/lib/python3.7/dist-packages (0.0)\n",
            "Requirement already satisfied: imbalanced-learn in /usr/local/lib/python3.7/dist-packages (from imblearn) (0.8.1)\n",
            "Requirement already satisfied: numpy>=1.13.3 in /usr/local/lib/python3.7/dist-packages (from imbalanced-learn->imblearn) (1.21.5)\n",
            "Requirement already satisfied: scipy>=0.19.1 in /usr/local/lib/python3.7/dist-packages (from imbalanced-learn->imblearn) (1.4.1)\n",
            "Requirement already satisfied: joblib>=0.11 in /usr/local/lib/python3.7/dist-packages (from imbalanced-learn->imblearn) (1.1.0)\n",
            "Requirement already satisfied: scikit-learn>=0.24 in /usr/local/lib/python3.7/dist-packages (from imbalanced-learn->imblearn) (1.0.2)\n",
            "Requirement already satisfied: threadpoolctl>=2.0.0 in /usr/local/lib/python3.7/dist-packages (from scikit-learn>=0.24->imbalanced-learn->imblearn) (3.1.0)\n"
          ]
        }
      ],
      "source": [
        "pip install imblearn "
      ]
    },
    {
      "cell_type": "code",
      "execution_count": null,
      "metadata": {
        "id": "pO24cvwzEU-R"
      },
      "outputs": [],
      "source": [
        "from imblearn.over_sampling import SMOTE"
      ]
    },
    {
      "cell_type": "code",
      "execution_count": null,
      "metadata": {
        "colab": {
          "base_uri": "https://localhost:8080/"
        },
        "id": "w0Iw085ZvNTQ",
        "outputId": "dcfae88c-e446-4798-f060-de4cb4f02788"
      },
      "outputs": [
        {
          "output_type": "stream",
          "name": "stdout",
          "text": [
            "Before OverSampling, counts of label '1': 5289\n",
            "Before OverSampling, counts of label '0': 39917 \n",
            "\n",
            "After OverSampling, the shape of train_X: (79834, 47)\n",
            "After OverSampling, the shape of train_y: (79834,) \n",
            "\n",
            "After OverSampling, counts of label '1': 39917\n",
            "After OverSampling, counts of label '0': 39917\n"
          ]
        }
      ],
      "source": [
        "print(\"Before OverSampling, counts of label '1': {}\".format(sum(df1['y'] == 1)))\n",
        "print(\"Before OverSampling, counts of label '0': {} \\n\".format(sum(df1['y'] == 0)))\n",
        "  \n",
        "# import SMOTE module from imblearn library\n",
        "# pip install imblearn (if you don't have imblearn in your system)\n",
        "from imblearn.over_sampling import SMOTE\n",
        "sm = SMOTE(random_state = 2)\n",
        "x_train_smote, y_train_smote = sm.fit_resample(df1.loc[:, df1.columns != 'y'], df1['y'])\n",
        "  \n",
        "print('After OverSampling, the shape of train_X: {}'.format(x_train_smote.shape))\n",
        "print('After OverSampling, the shape of train_y: {} \\n'.format(y_train_smote.shape))\n",
        "  \n",
        "print(\"After OverSampling, counts of label '1': {}\".format(sum(y_train_smote == 1)))\n",
        "print(\"After OverSampling, counts of label '0': {}\".format(sum(y_train_smote == 0)))"
      ]
    },
    {
      "cell_type": "code",
      "execution_count": null,
      "metadata": {
        "id": "e9pS0m8Cc83r"
      },
      "outputs": [],
      "source": [
        "from sklearn.preprocessing import StandardScaler\n",
        "x_train_smote_sc = StandardScaler().fit_transform(x_train_smote)"
      ]
    },
    {
      "cell_type": "code",
      "execution_count": null,
      "metadata": {
        "id": "9Fwu7MBac83s"
      },
      "outputs": [],
      "source": [
        "from sklearn.model_selection import train_test_split\n",
        "\n",
        "xx_train_smote, xx_test_smote, yy_train_smote, yy_test_smote = train_test_split(x_train_smote_sc, y_train_smote, test_size = 0.2, random_state = 3)"
      ]
    },
    {
      "cell_type": "code",
      "execution_count": null,
      "metadata": {
        "id": "tXUbmbElB6kD"
      },
      "outputs": [],
      "source": [
        "from sklearn.model_selection import GridSearchCV\n",
        "from sklearn.metrics import accuracy_score\n",
        "from sklearn.metrics import precision_score\n",
        "from sklearn.metrics import recall_score\n",
        "from sklearn.metrics import make_scorer"
      ]
    },
    {
      "cell_type": "code",
      "execution_count": null,
      "metadata": {
        "id": "dARZnPV9Er5y"
      },
      "outputs": [],
      "source": [
        "from sklearn.ensemble import GradientBoostingClassifier"
      ]
    },
    {
      "cell_type": "code",
      "execution_count": null,
      "metadata": {
        "id": "JoJxxBLW8i2z"
      },
      "outputs": [],
      "source": [
        "gbc = GradientBoostingClassifier(random_state = 42)\n",
        "parameters = {\n",
        "    \"n_estimators\":[50,250,500],\n",
        "    \"max_depth\":[3,5,9],\n",
        "    'min_samples_split':[200,500],'min_samples_leaf':[50,100]}\n"
      ]
    },
    {
      "cell_type": "code",
      "execution_count": null,
      "metadata": {
        "id": "-MeLYSRpEQC8"
      },
      "outputs": [],
      "source": [
        "from sklearn.metrics import f1_score"
      ]
    },
    {
      "cell_type": "code",
      "execution_count": null,
      "metadata": {
        "colab": {
          "base_uri": "https://localhost:8080/"
        },
        "id": "hqKIGokaDPIC",
        "outputId": "8aff8803-aac8-4983-e692-4e89209fd575"
      },
      "outputs": [
        {
          "metadata": {
            "tags": null
          },
          "name": "stdout",
          "output_type": "stream",
          "text": [
            "Fitting 5 folds for each of 36 candidates, totalling 180 fits\n"
          ]
        },
        {
          "output_type": "execute_result",
          "data": {
            "text/plain": [
              "GradientBoostingClassifier(min_samples_leaf=50, min_samples_split=200,\n",
              "                           n_estimators=50)"
            ]
          },
          "metadata": {},
          "execution_count": 64
        }
      ],
      "source": [
        "#passing the scoring function in the GridSearchCV\n",
        "clf = GridSearchCV(gbc, parameters,scoring=f1_score,cv=5, n_jobs=-1,verbose=10)\n",
        "\n",
        "clf.fit(xx_train_smote, yy_train_smote)\n",
        "clf.best_estimator_"
      ]
    },
    {
      "cell_type": "markdown",
      "source": [
        "{'max_depth': 3,\n",
        " 'min_samples_leaf': 50,\n",
        " 'min_samples_split': 200,\n",
        " 'n_estimators': 50}"
      ],
      "metadata": {
        "id": "f3422m3iBItz"
      }
    },
    {
      "cell_type": "code",
      "execution_count": null,
      "metadata": {
        "id": "AVGmg4AOzhI3",
        "colab": {
          "base_uri": "https://localhost:8080/"
        },
        "outputId": "a7a3e798-2ba8-4b9f-ffc9-caf0b2e803b5"
      },
      "outputs": [
        {
          "output_type": "execute_result",
          "data": {
            "text/plain": [
              "{'max_depth': 3,\n",
              " 'min_samples_leaf': 50,\n",
              " 'min_samples_split': 200,\n",
              " 'n_estimators': 50}"
            ]
          },
          "metadata": {},
          "execution_count": 65
        }
      ],
      "source": [
        "clf.best_params_"
      ]
    },
    {
      "cell_type": "code",
      "source": [
        "from sklearn.model_selection import cross_val_score"
      ],
      "metadata": {
        "id": "uDUym8qEBhv0"
      },
      "execution_count": null,
      "outputs": []
    },
    {
      "cell_type": "code",
      "execution_count": null,
      "metadata": {
        "id": "-AW5W_EOu6PN",
        "colab": {
          "base_uri": "https://localhost:8080/"
        },
        "outputId": "72635973-4f98-4973-840a-0bcec58d3496"
      },
      "outputs": [
        {
          "output_type": "execute_result",
          "data": {
            "text/plain": [
              "0.9131946238414802"
            ]
          },
          "metadata": {},
          "execution_count": 32
        }
      ],
      "source": [
        "# # Gradient Boosting Classifier\n",
        "grad_clf = GradientBoostingClassifier(max_depth= 3,max_features = 'auto',\n",
        " min_samples_leaf= 50,\n",
        " min_samples_split=200,\n",
        " n_estimators= 50)\n",
        "grad_scores = cross_val_score(grad_clf, xx_train_smote, yy_train_smote, cv=5)\n",
        "grad_mean = grad_scores.mean()\n",
        "grad_mean"
      ]
    },
    {
      "cell_type": "code",
      "execution_count": null,
      "metadata": {
        "id": "GR-YEkCxuhFR"
      },
      "outputs": [],
      "source": [
        "# Cross validate our Gradient Boosting Classifier\n",
        "from sklearn.model_selection import cross_val_predict\n"
      ]
    },
    {
      "cell_type": "code",
      "execution_count": null,
      "metadata": {
        "id": "LwBylU3twDy1"
      },
      "outputs": [],
      "source": [
        "y_train_smote_pred = cross_val_predict(grad_clf,xx_train_smote, yy_train_smote , cv=5)"
      ]
    },
    {
      "cell_type": "code",
      "execution_count": null,
      "metadata": {
        "id": "sZvEREBswYCG"
      },
      "outputs": [],
      "source": [
        "y_test_smote_pred = cross_val_predict(grad_clf,xx_test_smote, yy_test_smote , cv=5)"
      ]
    },
    {
      "cell_type": "code",
      "execution_count": null,
      "metadata": {
        "colab": {
          "base_uri": "https://localhost:8080/"
        },
        "id": "V54wgUapuhC_",
        "outputId": "3bad6a2b-343b-42eb-96be-2ef6f6408be4"
      },
      "outputs": [
        {
          "output_type": "stream",
          "name": "stdout",
          "text": [
            "Gradient Boost Classifier accuracy is 0.91\n"
          ]
        }
      ],
      "source": [
        "from sklearn.metrics import accuracy_score\n",
        "print (\"Gradient Boost Classifier accuracy is %2.2f\" % accuracy_score(yy_train_smote, y_train_smote_pred))"
      ]
    },
    {
      "cell_type": "code",
      "execution_count": null,
      "metadata": {
        "colab": {
          "base_uri": "https://localhost:8080/",
          "height": 536
        },
        "id": "pJG6jwu7FKTV",
        "outputId": "91d49593-4f7a-49ce-f9d3-1c17fed9f32a"
      },
      "outputs": [
        {
          "output_type": "display_data",
          "data": {
            "text/plain": [
              "<Figure size 864x576 with 2 Axes>"
            ],
            "image/png": "[encoded data removed]"
          },
          "metadata": {
            "needs_background": "light"
          }
        }
      ],
      "source": [
        "from sklearn.metrics import confusion_matrix\n",
        "conf_matrix = confusion_matrix(yy_train_smote,y_train_smote_pred )\n",
        "f, ax = plt.subplots(figsize=(12, 8))\n",
        "sns.heatmap(conf_matrix, annot=True, fmt=\"d\", linewidths=.5, ax=ax)\n",
        "plt.title(\"Confusion Matrix\", fontsize=20)\n",
        "plt.subplots_adjust(left=0.15, right=0.99, bottom=0.15, top=0.99)\n",
        "ax.set_yticks(np.arange(conf_matrix.shape[0]) + 0.5, minor=False)\n",
        "ax.set_xticklabels(\"\")\n",
        "ax.set_yticklabels(['Refused T. Deposits', 'Accepted T. Deposits'], fontsize=16, rotation=360)\n",
        "plt.show()"
      ]
    },
    {
      "cell_type": "code",
      "execution_count": null,
      "metadata": {
        "colab": {
          "base_uri": "https://localhost:8080/"
        },
        "id": "uF9XLWmiFnsR",
        "outputId": "3f80e557-b53e-44d1-c9a3-63818ea6f294"
      },
      "outputs": [
        {
          "output_type": "stream",
          "name": "stdout",
          "text": [
            "Precision Score:  0.9353401326864046\n",
            "Recall Score:  0.8876985245747581\n"
          ]
        }
      ],
      "source": [
        "# Let's find the scores  for precision and recall.\n",
        "from sklearn.metrics import precision_score, recall_score\n",
        "# The model is 77% sure that the potential client will suscribe to a term deposit. \n",
        "# The model is only retaining 60% of clients that agree to suscribe a term deposit.\n",
        "print('Precision Score: ', precision_score(yy_train_smote, y_train_smote_pred))\n",
        "# The classifier only detects 60% of potential clients that will suscribe to a term deposit.\n",
        "print('Recall Score: ', recall_score(yy_train_smote,y_train_smote_pred ))"
      ]
    },
    {
      "cell_type": "code",
      "execution_count": null,
      "metadata": {
        "colab": {
          "base_uri": "https://localhost:8080/"
        },
        "id": "6cCTO_k3FnpZ",
        "outputId": "0bffb9d5-b35d-42ab-84cd-778c5947535a"
      },
      "outputs": [
        {
          "output_type": "execute_result",
          "data": {
            "text/plain": [
              "0.9108968177434907"
            ]
          },
          "metadata": {},
          "execution_count": 77
        }
      ],
      "source": [
        "from sklearn.metrics import f1_score\n",
        "\n",
        "f1_score(yy_train_smote, y_train_smote_pred)"
      ]
    },
    {
      "cell_type": "code",
      "source": [
        "f1_score(yy_train_smote, y_train_smote_pred,average = 'macro')"
      ],
      "metadata": {
        "colab": {
          "base_uri": "https://localhost:8080/"
        },
        "id": "D43aPopYDq2Z",
        "outputId": "834873cd-5bf5-4f7c-ee75-c07c25d85877"
      },
      "execution_count": null,
      "outputs": [
        {
          "output_type": "execute_result",
          "data": {
            "text/plain": [
              "0.9131368418784309"
            ]
          },
          "metadata": {},
          "execution_count": 79
        }
      ]
    },
    {
      "cell_type": "code",
      "execution_count": null,
      "metadata": {
        "colab": {
          "base_uri": "https://localhost:8080/"
        },
        "id": "xu4eB_DYWRtf",
        "outputId": "2f39e43d-2770-4426-830a-a9e4a8c1bc3a"
      },
      "outputs": [
        {
          "output_type": "execute_result",
          "data": {
            "text/plain": [
              "0.8274596889098079"
            ]
          },
          "metadata": {},
          "execution_count": 78
        }
      ],
      "source": [
        "from sklearn.metrics import matthews_corrcoef\n",
        "matthews_corrcoef(yy_train_smote, y_train_smote_pred, sample_weight=None)"
      ]
    },
    {
      "cell_type": "markdown",
      "metadata": {
        "id": "oUqRtv_LZ30r"
      },
      "source": [
        "Test dataset"
      ]
    },
    {
      "cell_type": "code",
      "execution_count": null,
      "metadata": {
        "colab": {
          "base_uri": "https://localhost:8080/"
        },
        "id": "qgMBh926-zD6",
        "outputId": "609c1811-b84b-4284-c32a-0333193aae35"
      },
      "outputs": [
        {
          "data": {
            "text/plain": [
              "GradientBoostingClassifier(n_estimators=40)"
            ]
          },
          "execution_count": 91,
          "metadata": {},
          "output_type": "execute_result"
        }
      ],
      "source": [
        "grad_clf.fit(xx_train_smote, yy_train_smote)"
      ]
    },
    {
      "cell_type": "code",
      "execution_count": null,
      "metadata": {
        "colab": {
          "base_uri": "https://localhost:8080/"
        },
        "id": "7JngaiR2-yru",
        "outputId": "40d1e931-f4bf-43bb-f4ca-6755ade67212"
      },
      "outputs": [
        {
          "data": {
            "image/png": "[encoded data removed]",
            "text/plain": [
              "<Figure size 864x576 with 2 Axes>"
            ]
          },
          "metadata": {},
          "output_type": "display_data"
        }
      ],
      "source": [
        "from sklearn.metrics import confusion_matrix\n",
        "conf_matrix = confusion_matrix(yy_test_smote,y_test_smote_pred )\n",
        "f, ax = plt.subplots(figsize=(12, 8))\n",
        "sns.heatmap(conf_matrix, annot=True, fmt=\"d\", linewidths=.5, ax=ax)\n",
        "plt.title(\"Confusion Matrix\", fontsize=20)\n",
        "plt.subplots_adjust(left=0.15, right=0.99, bottom=0.15, top=0.99)\n",
        "ax.set_yticks(np.arange(conf_matrix.shape[0]) + 0.5, minor=False)\n",
        "ax.set_xticklabels(\"\")\n",
        "ax.set_yticklabels(['Refused T. Deposits', 'Accepted T. Deposits'], fontsize=16, rotation=360)\n",
        "plt.show()"
      ]
    },
    {
      "cell_type": "code",
      "execution_count": null,
      "metadata": {
        "colab": {
          "base_uri": "https://localhost:8080/"
        },
        "id": "n6y7FdokZ2gu",
        "outputId": "d053ec14-023f-457e-a2b4-69faed05cfe8"
      },
      "outputs": [
        {
          "name": "stdout",
          "output_type": "stream",
          "text": [
            "Precision Score:  0.9187748015873016\n",
            "Recall Score:  0.9268201150863148\n"
          ]
        }
      ],
      "source": [
        "#grad_clf.fit(xx_train_smote, yy_train_smote)\n",
        "y_test_smote_pred= grad_clf.predict(xx_test_smote)\n",
        "# Let's find the scores  for precision and recall.\n",
        "from sklearn.metrics import precision_score, recall_score\n",
        "# The model is 77% sure that the potential client will suscribe to a term deposit. \n",
        "# The model is only retaining 60% of clients that agree to suscribe a term deposit.\n",
        "print('Precision Score: ', precision_score(yy_test_smote, y_test_smote_pred))\n",
        "# The classifier only detects 60% of potential clients that will suscribe to a term deposit.\n",
        "print('Recall Score: ', recall_score(yy_test_smote, y_test_smote_pred))"
      ]
    },
    {
      "cell_type": "code",
      "execution_count": null,
      "metadata": {
        "colab": {
          "base_uri": "https://localhost:8080/"
        },
        "id": "Ffz3d6N6Z2gv",
        "outputId": "1a5721d5-3689-4014-f868-6266b7b3d2b4"
      },
      "outputs": [
        {
          "data": {
            "text/plain": [
              "0.9227799227799228"
            ]
          },
          "execution_count": 94,
          "metadata": {},
          "output_type": "execute_result"
        }
      ],
      "source": [
        "from sklearn.metrics import f1_score\n",
        "\n",
        "f1_score(yy_test_smote, y_test_smote_pred)"
      ]
    },
    {
      "cell_type": "code",
      "execution_count": null,
      "metadata": {
        "colab": {
          "base_uri": "https://localhost:8080/"
        },
        "id": "Dlp5c-LFWdqg",
        "outputId": "b2016dd2-467f-423a-e430-cb870a0b6770"
      },
      "outputs": [
        {
          "data": {
            "text/plain": [
              "0.8447100637904493"
            ]
          },
          "execution_count": 95,
          "metadata": {},
          "output_type": "execute_result"
        }
      ],
      "source": [
        "from sklearn.metrics import matthews_corrcoef\n",
        "matthews_corrcoef(yy_test_smote, y_test_smote_pred, sample_weight=None)"
      ]
    },
    {
      "cell_type": "code",
      "execution_count": null,
      "metadata": {
        "colab": {
          "base_uri": "https://localhost:8080/"
        },
        "id": "-2MLr0Gyh9mE",
        "outputId": "70023e8b-5c9c-48e5-dbb5-68850de56991"
      },
      "outputs": [
        {
          "data": {
            "text/plain": [
              "blue-collar      9732\n",
              "management       9458\n",
              "technician       7597\n",
              "admin.           5171\n",
              "services         4154\n",
              "retired          2264\n",
              "self-employed    1579\n",
              "entrepreneur     1487\n",
              "unemployed       1303\n",
              "housemaid        1240\n",
              "student           938\n",
              "unknown           288\n",
              "Name: job, dtype: int64"
            ]
          },
          "execution_count": 19,
          "metadata": {},
          "output_type": "execute_result"
        }
      ],
      "source": [
        "df1['job'].value_counts()"
      ]
    },
    {
      "cell_type": "code",
      "execution_count": null,
      "metadata": {
        "id": "50bf_J7DkJjM"
      },
      "outputs": [],
      "source": [
        "#df1['job'] = df1['job'].replace('unknown', np.nan)"
      ]
    },
    {
      "cell_type": "code",
      "execution_count": null,
      "metadata": {
        "id": "8MwsEfNRgeXA"
      },
      "outputs": [],
      "source": [
        "df1['age_cate'] = pd.cut(df1['age'], bins=[0, 35, 55, 70, float('Inf')], labels=['0-35', '35-55', '55-70', '70-95'])"
      ]
    },
    {
      "cell_type": "code",
      "execution_count": null,
      "metadata": {
        "colab": {
          "base_uri": "https://localhost:8080/"
        },
        "id": "zvE2ilRGkXsr",
        "outputId": "de2f00b2-edd4-4307-cccd-88e717500866"
      },
      "outputs": [
        {
          "data": {
            "text/plain": [
              "35-55    23404\n",
              "0-35     16907\n",
              "55-70     4413\n",
              "70-95      487\n",
              "Name: age_cate, dtype: int64"
            ]
          },
          "execution_count": 21,
          "metadata": {},
          "output_type": "execute_result"
        }
      ],
      "source": [
        "df1['age_cate'].value_counts()"
      ]
    },
    {
      "cell_type": "code",
      "execution_count": null,
      "metadata": {
        "id": "nO0qPYEKkfIb"
      },
      "outputs": [],
      "source": [
        "#df['marital'].value_counts()"
      ]
    },
    {
      "cell_type": "code",
      "execution_count": null,
      "metadata": {
        "colab": {
          "base_uri": "https://localhost:8080/"
        },
        "id": "vcpdF0VRk3do",
        "outputId": "513bb076-5367-4f6b-b81d-678ff245b90e"
      },
      "outputs": [
        {
          "data": {
            "text/plain": [
              "secondary    23202\n",
              "tertiary     13301\n",
              "primary       6851\n",
              "unknown       1857\n",
              "Name: education, dtype: int64"
            ]
          },
          "execution_count": 23,
          "metadata": {},
          "output_type": "execute_result"
        }
      ],
      "source": [
        "df1['education'].value_counts()"
      ]
    },
    {
      "cell_type": "code",
      "execution_count": null,
      "metadata": {
        "id": "Oi1i2yutk9QA"
      },
      "outputs": [],
      "source": [
        "df1['education'] = df1['education'].map({'primary':0,'secondary':1,'tertiary':2, 'unknown':3})"
      ]
    },
    {
      "cell_type": "code",
      "execution_count": null,
      "metadata": {
        "colab": {
          "base_uri": "https://localhost:8080/"
        },
        "id": "M7zECPTnlDfp",
        "outputId": "f9888074-4c3a-4bd8-e65a-ba6b6b7609dc"
      },
      "outputs": [
        {
          "data": {
            "text/plain": [
              "cellular     29285\n",
              "unknown      13020\n",
              "telephone     2906\n",
              "Name: contact, dtype: int64"
            ]
          },
          "execution_count": 25,
          "metadata": {},
          "output_type": "execute_result"
        }
      ],
      "source": [
        "df1['contact'].value_counts()"
      ]
    },
    {
      "cell_type": "code",
      "execution_count": null,
      "metadata": {
        "id": "I0WJDalBlIOl"
      },
      "outputs": [],
      "source": [
        "df1['contact'] = df1['contact'].map({'telephone':0,'cellular':2,'unknown':1})"
      ]
    },
    {
      "cell_type": "code",
      "execution_count": null,
      "metadata": {
        "colab": {
          "base_uri": "https://localhost:8080/"
        },
        "id": "_XYQR0bGlPvx",
        "outputId": "8a43628a-716c-435f-b6f8-2a5de063755e"
      },
      "outputs": [
        {
          "data": {
            "text/plain": [
              "may    13766\n",
              "jul     6895\n",
              "aug     6247\n",
              "jun     5341\n",
              "nov     3970\n",
              "apr     2932\n",
              "feb     2649\n",
              "jan     1403\n",
              "oct      738\n",
              "sep      579\n",
              "mar      477\n",
              "dec      214\n",
              "Name: month, dtype: int64"
            ]
          },
          "execution_count": 27,
          "metadata": {},
          "output_type": "execute_result"
        }
      ],
      "source": [
        "df1['month'].value_counts()"
      ]
    },
    {
      "cell_type": "code",
      "execution_count": null,
      "metadata": {
        "id": "CMfIMlbllUtl"
      },
      "outputs": [],
      "source": [
        "df1['month'] = df1['month'].map({'jan':0,'feb':1,'mar':2,'apr':3,'may':4,'jun':5,'jul':6,'aug':7,'sep':8,'oct':9,'nov':10,'dec':11})"
      ]
    },
    {
      "cell_type": "code",
      "execution_count": null,
      "metadata": {
        "colab": {
          "base_uri": "https://localhost:8080/"
        },
        "id": "kP0mV7zhleW_",
        "outputId": "fcfd537f-ad82-4030-b433-eee8c231d533"
      },
      "outputs": [
        {
          "data": {
            "text/plain": [
              "unknown    36959\n",
              "failure     4901\n",
              "other       1840\n",
              "success     1511\n",
              "Name: poutcome, dtype: int64"
            ]
          },
          "execution_count": 29,
          "metadata": {},
          "output_type": "execute_result"
        }
      ],
      "source": [
        "df1['poutcome'].value_counts()"
      ]
    },
    {
      "cell_type": "code",
      "execution_count": null,
      "metadata": {
        "id": "0JQclLSJ2RI8"
      },
      "outputs": [],
      "source": [
        "df1['poutcome'] = df1['poutcome'].map({'failure':0,'success':1,'other':2,'unknown':3})"
      ]
    },
    {
      "cell_type": "code",
      "execution_count": null,
      "metadata": {
        "colab": {
          "base_uri": "https://localhost:8080/"
        },
        "id": "gNod4K7M2iGL",
        "outputId": "d7be3632-6608-4703-bd7d-177e622bde00"
      },
      "outputs": [
        {
          "data": {
            "text/plain": [
              "blue-collar      9732\n",
              "management       9458\n",
              "technician       7597\n",
              "admin.           5171\n",
              "services         4154\n",
              "retired          2264\n",
              "self-employed    1579\n",
              "entrepreneur     1487\n",
              "unemployed       1303\n",
              "housemaid        1240\n",
              "student           938\n",
              "unknown           288\n",
              "Name: job, dtype: int64"
            ]
          },
          "execution_count": 31,
          "metadata": {},
          "output_type": "execute_result"
        }
      ],
      "source": [
        "df1['job'].value_counts()"
      ]
    },
    {
      "cell_type": "code",
      "execution_count": null,
      "metadata": {
        "id": "1XcIIsP62evC"
      },
      "outputs": [],
      "source": [
        "df1['job'] = df1['job'].map({'management':0,'blue-collar':1,'technician':2,'admin.':3,'services':4,'retired':5,'self-employed':6,'student':7,'entrepreneur':8,'unemployed':9,'housemaid':10,'unknown':11})"
      ]
    },
    {
      "cell_type": "code",
      "execution_count": null,
      "metadata": {
        "colab": {
          "base_uri": "https://localhost:8080/"
        },
        "id": "e-clQrjL3a1h",
        "outputId": "f7382eda-1065-4e87-9343-a3d20afce753"
      },
      "outputs": [
        {
          "data": {
            "text/plain": [
              "married     27214\n",
              "single      12790\n",
              "divorced     5207\n",
              "Name: marital, dtype: int64"
            ]
          },
          "execution_count": 33,
          "metadata": {},
          "output_type": "execute_result"
        }
      ],
      "source": [
        "df1['marital'].value_counts()"
      ]
    },
    {
      "cell_type": "code",
      "execution_count": null,
      "metadata": {
        "id": "p8QoWKEg381J"
      },
      "outputs": [],
      "source": [
        "df1['marital'] = df1['marital'].map({'married':0,'single':1,'divorced':2})"
      ]
    },
    {
      "cell_type": "code",
      "execution_count": null,
      "metadata": {
        "id": "gpgIBzq67yMR"
      },
      "outputs": [],
      "source": [
        "df1.reset_index(inplace= True)"
      ]
    },
    {
      "cell_type": "code",
      "execution_count": null,
      "metadata": {
        "colab": {
          "base_uri": "https://localhost:8080/"
        },
        "id": "dDF_0ECf0tSD",
        "outputId": "22aea51a-4a33-4eb7-fb5b-97e3386d39e4"
      },
      "outputs": [
        {
          "data": {
            "text/plain": [
              "Index(['index', 'age', 'job', 'marital', 'education', 'default', 'balance',\n",
              "       'housing', 'loan', 'contact', 'day', 'month', 'campaign', 'pdays',\n",
              "       'previous', 'poutcome', 'y', 'age_cate'],\n",
              "      dtype='object')"
            ]
          },
          "execution_count": 36,
          "metadata": {},
          "output_type": "execute_result"
        }
      ],
      "source": [
        "df1.columns"
      ]
    },
    {
      "cell_type": "code",
      "execution_count": null,
      "metadata": {
        "colab": {
          "base_uri": "https://localhost:8080/"
        },
        "id": "6TEYty0A9Apb",
        "outputId": "b3797fac-1224-437d-d959-022fa44c547d"
      },
      "outputs": [
        {
          "data": {
            "text/plain": [
              "(45211, 18)"
            ]
          },
          "execution_count": 37,
          "metadata": {},
          "output_type": "execute_result"
        }
      ],
      "source": [
        "df1.shape"
      ]
    },
    {
      "cell_type": "code",
      "execution_count": null,
      "metadata": {
        "id": "mee49zDwjcUY"
      },
      "outputs": [],
      "source": [
        "df1.drop(columns = \"index\", axis =1,inplace = True)"
      ]
    },
    {
      "cell_type": "code",
      "execution_count": null,
      "metadata": {
        "id": "iCXEg23cxYMK"
      },
      "outputs": [],
      "source": [
        "from sklearn.preprocessing import OneHotEncoder"
      ]
    },
    {
      "cell_type": "code",
      "execution_count": null,
      "metadata": {
        "colab": {
          "base_uri": "https://localhost:8080/",
          "height": 270
        },
        "id": "G6S4r4XmxfGG",
        "outputId": "7a3be731-a798-47d8-8c4c-11c9a800ae72"
      },
      "outputs": [
        {
          "data": {
            "text/html": [
              "\n",
              "  <div id=\"df-13375887-da10-4ac3-abb1-a89c1f751311\">\n",
              "    <div class=\"colab-df-container\">\n",
              "      <div>\n",
              "<style scoped>\n",
              "    .dataframe tbody tr th:only-of-type {\n",
              "        vertical-align: middle;\n",
              "    }\n",
              "\n",
              "    .dataframe tbody tr th {\n",
              "        vertical-align: top;\n",
              "    }\n",
              "\n",
              "    .dataframe thead th {\n",
              "        text-align: right;\n",
              "    }\n",
              "</style>\n",
              "<table border=\"1\" class=\"dataframe\">\n",
              "  <thead>\n",
              "    <tr style=\"text-align: right;\">\n",
              "      <th></th>\n",
              "      <th>age</th>\n",
              "      <th>job</th>\n",
              "      <th>marital</th>\n",
              "      <th>education</th>\n",
              "      <th>default</th>\n",
              "      <th>balance</th>\n",
              "      <th>housing</th>\n",
              "      <th>loan</th>\n",
              "      <th>contact</th>\n",
              "      <th>day</th>\n",
              "      <th>month</th>\n",
              "      <th>campaign</th>\n",
              "      <th>pdays</th>\n",
              "      <th>previous</th>\n",
              "      <th>poutcome</th>\n",
              "      <th>y</th>\n",
              "      <th>age_cate</th>\n",
              "      <th>0</th>\n",
              "      <th>1</th>\n",
              "      <th>2</th>\n",
              "      <th>3</th>\n",
              "      <th>4</th>\n",
              "      <th>5</th>\n",
              "      <th>6</th>\n",
              "      <th>7</th>\n",
              "      <th>8</th>\n",
              "      <th>9</th>\n",
              "      <th>10</th>\n",
              "      <th>11</th>\n",
              "      <th>12</th>\n",
              "      <th>13</th>\n",
              "      <th>14</th>\n",
              "      <th>15</th>\n",
              "      <th>16</th>\n",
              "      <th>17</th>\n",
              "      <th>18</th>\n",
              "      <th>19</th>\n",
              "      <th>20</th>\n",
              "      <th>21</th>\n",
              "      <th>22</th>\n",
              "      <th>23</th>\n",
              "      <th>24</th>\n",
              "      <th>25</th>\n",
              "      <th>26</th>\n",
              "      <th>27</th>\n",
              "      <th>28</th>\n",
              "      <th>29</th>\n",
              "      <th>30</th>\n",
              "      <th>31</th>\n",
              "      <th>32</th>\n",
              "      <th>33</th>\n",
              "      <th>34</th>\n",
              "      <th>35</th>\n",
              "      <th>36</th>\n",
              "      <th>37</th>\n",
              "      <th>38</th>\n",
              "      <th>39</th>\n",
              "      <th>40</th>\n",
              "      <th>41</th>\n",
              "      <th>42</th>\n",
              "      <th>43</th>\n",
              "      <th>44</th>\n",
              "      <th>45</th>\n",
              "      <th>46</th>\n",
              "      <th>47</th>\n",
              "    </tr>\n",
              "  </thead>\n",
              "  <tbody>\n",
              "    <tr>\n",
              "      <th>0</th>\n",
              "      <td>58</td>\n",
              "      <td>0</td>\n",
              "      <td>0</td>\n",
              "      <td>2</td>\n",
              "      <td>no</td>\n",
              "      <td>2143</td>\n",
              "      <td>yes</td>\n",
              "      <td>no</td>\n",
              "      <td>1</td>\n",
              "      <td>5</td>\n",
              "      <td>4</td>\n",
              "      <td>1</td>\n",
              "      <td>-1</td>\n",
              "      <td>0</td>\n",
              "      <td>3</td>\n",
              "      <td>no</td>\n",
              "      <td>55-70</td>\n",
              "      <td>1.0</td>\n",
              "      <td>0.0</td>\n",
              "      <td>0.0</td>\n",
              "      <td>0.0</td>\n",
              "      <td>0.0</td>\n",
              "      <td>0.0</td>\n",
              "      <td>0.0</td>\n",
              "      <td>0.0</td>\n",
              "      <td>0.0</td>\n",
              "      <td>0.0</td>\n",
              "      <td>0.0</td>\n",
              "      <td>0.0</td>\n",
              "      <td>0.0</td>\n",
              "      <td>0.0</td>\n",
              "      <td>1.0</td>\n",
              "      <td>0.0</td>\n",
              "      <td>1.0</td>\n",
              "      <td>0.0</td>\n",
              "      <td>0.0</td>\n",
              "      <td>1.0</td>\n",
              "      <td>0.0</td>\n",
              "      <td>0.0</td>\n",
              "      <td>1.0</td>\n",
              "      <td>1.0</td>\n",
              "      <td>0.0</td>\n",
              "      <td>0.0</td>\n",
              "      <td>1.0</td>\n",
              "      <td>0.0</td>\n",
              "      <td>0.0</td>\n",
              "      <td>0.0</td>\n",
              "      <td>0.0</td>\n",
              "      <td>0.0</td>\n",
              "      <td>1.0</td>\n",
              "      <td>0.0</td>\n",
              "      <td>0.0</td>\n",
              "      <td>0.0</td>\n",
              "      <td>0.0</td>\n",
              "      <td>0.0</td>\n",
              "      <td>0.0</td>\n",
              "      <td>0.0</td>\n",
              "      <td>0.0</td>\n",
              "      <td>0.0</td>\n",
              "      <td>0.0</td>\n",
              "      <td>1.0</td>\n",
              "      <td>0.0</td>\n",
              "      <td>0.0</td>\n",
              "      <td>1.0</td>\n",
              "      <td>0.0</td>\n",
              "    </tr>\n",
              "    <tr>\n",
              "      <th>1</th>\n",
              "      <td>44</td>\n",
              "      <td>2</td>\n",
              "      <td>1</td>\n",
              "      <td>1</td>\n",
              "      <td>no</td>\n",
              "      <td>29</td>\n",
              "      <td>yes</td>\n",
              "      <td>no</td>\n",
              "      <td>1</td>\n",
              "      <td>5</td>\n",
              "      <td>4</td>\n",
              "      <td>1</td>\n",
              "      <td>-1</td>\n",
              "      <td>0</td>\n",
              "      <td>3</td>\n",
              "      <td>no</td>\n",
              "      <td>35-55</td>\n",
              "      <td>0.0</td>\n",
              "      <td>0.0</td>\n",
              "      <td>1.0</td>\n",
              "      <td>0.0</td>\n",
              "      <td>0.0</td>\n",
              "      <td>0.0</td>\n",
              "      <td>0.0</td>\n",
              "      <td>0.0</td>\n",
              "      <td>0.0</td>\n",
              "      <td>0.0</td>\n",
              "      <td>0.0</td>\n",
              "      <td>0.0</td>\n",
              "      <td>0.0</td>\n",
              "      <td>1.0</td>\n",
              "      <td>0.0</td>\n",
              "      <td>0.0</td>\n",
              "      <td>0.0</td>\n",
              "      <td>1.0</td>\n",
              "      <td>0.0</td>\n",
              "      <td>1.0</td>\n",
              "      <td>0.0</td>\n",
              "      <td>0.0</td>\n",
              "      <td>1.0</td>\n",
              "      <td>1.0</td>\n",
              "      <td>0.0</td>\n",
              "      <td>0.0</td>\n",
              "      <td>1.0</td>\n",
              "      <td>0.0</td>\n",
              "      <td>0.0</td>\n",
              "      <td>0.0</td>\n",
              "      <td>0.0</td>\n",
              "      <td>0.0</td>\n",
              "      <td>1.0</td>\n",
              "      <td>0.0</td>\n",
              "      <td>0.0</td>\n",
              "      <td>0.0</td>\n",
              "      <td>0.0</td>\n",
              "      <td>0.0</td>\n",
              "      <td>0.0</td>\n",
              "      <td>0.0</td>\n",
              "      <td>0.0</td>\n",
              "      <td>0.0</td>\n",
              "      <td>0.0</td>\n",
              "      <td>1.0</td>\n",
              "      <td>0.0</td>\n",
              "      <td>1.0</td>\n",
              "      <td>0.0</td>\n",
              "      <td>0.0</td>\n",
              "    </tr>\n",
              "    <tr>\n",
              "      <th>2</th>\n",
              "      <td>33</td>\n",
              "      <td>8</td>\n",
              "      <td>0</td>\n",
              "      <td>1</td>\n",
              "      <td>no</td>\n",
              "      <td>2</td>\n",
              "      <td>yes</td>\n",
              "      <td>yes</td>\n",
              "      <td>1</td>\n",
              "      <td>5</td>\n",
              "      <td>4</td>\n",
              "      <td>1</td>\n",
              "      <td>-1</td>\n",
              "      <td>0</td>\n",
              "      <td>3</td>\n",
              "      <td>no</td>\n",
              "      <td>0-35</td>\n",
              "      <td>0.0</td>\n",
              "      <td>0.0</td>\n",
              "      <td>0.0</td>\n",
              "      <td>0.0</td>\n",
              "      <td>0.0</td>\n",
              "      <td>0.0</td>\n",
              "      <td>0.0</td>\n",
              "      <td>0.0</td>\n",
              "      <td>1.0</td>\n",
              "      <td>0.0</td>\n",
              "      <td>0.0</td>\n",
              "      <td>0.0</td>\n",
              "      <td>0.0</td>\n",
              "      <td>1.0</td>\n",
              "      <td>0.0</td>\n",
              "      <td>0.0</td>\n",
              "      <td>1.0</td>\n",
              "      <td>0.0</td>\n",
              "      <td>0.0</td>\n",
              "      <td>1.0</td>\n",
              "      <td>0.0</td>\n",
              "      <td>0.0</td>\n",
              "      <td>1.0</td>\n",
              "      <td>0.0</td>\n",
              "      <td>1.0</td>\n",
              "      <td>0.0</td>\n",
              "      <td>1.0</td>\n",
              "      <td>0.0</td>\n",
              "      <td>0.0</td>\n",
              "      <td>0.0</td>\n",
              "      <td>0.0</td>\n",
              "      <td>0.0</td>\n",
              "      <td>1.0</td>\n",
              "      <td>0.0</td>\n",
              "      <td>0.0</td>\n",
              "      <td>0.0</td>\n",
              "      <td>0.0</td>\n",
              "      <td>0.0</td>\n",
              "      <td>0.0</td>\n",
              "      <td>0.0</td>\n",
              "      <td>0.0</td>\n",
              "      <td>0.0</td>\n",
              "      <td>0.0</td>\n",
              "      <td>1.0</td>\n",
              "      <td>1.0</td>\n",
              "      <td>0.0</td>\n",
              "      <td>0.0</td>\n",
              "      <td>0.0</td>\n",
              "    </tr>\n",
              "    <tr>\n",
              "      <th>3</th>\n",
              "      <td>47</td>\n",
              "      <td>1</td>\n",
              "      <td>0</td>\n",
              "      <td>3</td>\n",
              "      <td>no</td>\n",
              "      <td>1506</td>\n",
              "      <td>yes</td>\n",
              "      <td>no</td>\n",
              "      <td>1</td>\n",
              "      <td>5</td>\n",
              "      <td>4</td>\n",
              "      <td>1</td>\n",
              "      <td>-1</td>\n",
              "      <td>0</td>\n",
              "      <td>3</td>\n",
              "      <td>no</td>\n",
              "      <td>35-55</td>\n",
              "      <td>0.0</td>\n",
              "      <td>1.0</td>\n",
              "      <td>0.0</td>\n",
              "      <td>0.0</td>\n",
              "      <td>0.0</td>\n",
              "      <td>0.0</td>\n",
              "      <td>0.0</td>\n",
              "      <td>0.0</td>\n",
              "      <td>0.0</td>\n",
              "      <td>0.0</td>\n",
              "      <td>0.0</td>\n",
              "      <td>0.0</td>\n",
              "      <td>0.0</td>\n",
              "      <td>0.0</td>\n",
              "      <td>0.0</td>\n",
              "      <td>1.0</td>\n",
              "      <td>1.0</td>\n",
              "      <td>0.0</td>\n",
              "      <td>0.0</td>\n",
              "      <td>1.0</td>\n",
              "      <td>0.0</td>\n",
              "      <td>0.0</td>\n",
              "      <td>1.0</td>\n",
              "      <td>1.0</td>\n",
              "      <td>0.0</td>\n",
              "      <td>0.0</td>\n",
              "      <td>1.0</td>\n",
              "      <td>0.0</td>\n",
              "      <td>0.0</td>\n",
              "      <td>0.0</td>\n",
              "      <td>0.0</td>\n",
              "      <td>0.0</td>\n",
              "      <td>1.0</td>\n",
              "      <td>0.0</td>\n",
              "      <td>0.0</td>\n",
              "      <td>0.0</td>\n",
              "      <td>0.0</td>\n",
              "      <td>0.0</td>\n",
              "      <td>0.0</td>\n",
              "      <td>0.0</td>\n",
              "      <td>0.0</td>\n",
              "      <td>0.0</td>\n",
              "      <td>0.0</td>\n",
              "      <td>1.0</td>\n",
              "      <td>0.0</td>\n",
              "      <td>1.0</td>\n",
              "      <td>0.0</td>\n",
              "      <td>0.0</td>\n",
              "    </tr>\n",
              "    <tr>\n",
              "      <th>4</th>\n",
              "      <td>33</td>\n",
              "      <td>11</td>\n",
              "      <td>1</td>\n",
              "      <td>3</td>\n",
              "      <td>no</td>\n",
              "      <td>1</td>\n",
              "      <td>no</td>\n",
              "      <td>no</td>\n",
              "      <td>1</td>\n",
              "      <td>5</td>\n",
              "      <td>4</td>\n",
              "      <td>1</td>\n",
              "      <td>-1</td>\n",
              "      <td>0</td>\n",
              "      <td>3</td>\n",
              "      <td>no</td>\n",
              "      <td>0-35</td>\n",
              "      <td>0.0</td>\n",
              "      <td>0.0</td>\n",
              "      <td>0.0</td>\n",
              "      <td>0.0</td>\n",
              "      <td>0.0</td>\n",
              "      <td>0.0</td>\n",
              "      <td>0.0</td>\n",
              "      <td>0.0</td>\n",
              "      <td>0.0</td>\n",
              "      <td>0.0</td>\n",
              "      <td>0.0</td>\n",
              "      <td>1.0</td>\n",
              "      <td>0.0</td>\n",
              "      <td>0.0</td>\n",
              "      <td>0.0</td>\n",
              "      <td>1.0</td>\n",
              "      <td>0.0</td>\n",
              "      <td>1.0</td>\n",
              "      <td>0.0</td>\n",
              "      <td>1.0</td>\n",
              "      <td>0.0</td>\n",
              "      <td>1.0</td>\n",
              "      <td>0.0</td>\n",
              "      <td>1.0</td>\n",
              "      <td>0.0</td>\n",
              "      <td>0.0</td>\n",
              "      <td>1.0</td>\n",
              "      <td>0.0</td>\n",
              "      <td>0.0</td>\n",
              "      <td>0.0</td>\n",
              "      <td>0.0</td>\n",
              "      <td>0.0</td>\n",
              "      <td>1.0</td>\n",
              "      <td>0.0</td>\n",
              "      <td>0.0</td>\n",
              "      <td>0.0</td>\n",
              "      <td>0.0</td>\n",
              "      <td>0.0</td>\n",
              "      <td>0.0</td>\n",
              "      <td>0.0</td>\n",
              "      <td>0.0</td>\n",
              "      <td>0.0</td>\n",
              "      <td>0.0</td>\n",
              "      <td>1.0</td>\n",
              "      <td>1.0</td>\n",
              "      <td>0.0</td>\n",
              "      <td>0.0</td>\n",
              "      <td>0.0</td>\n",
              "    </tr>\n",
              "  </tbody>\n",
              "</table>\n",
              "</div>\n",
              "      <button class=\"colab-df-convert\" onclick=\"convertToInteractive('df-13375887-da10-4ac3-abb1-a89c1f751311')\"\n",
              "              title=\"Convert this dataframe to an interactive table.\"\n",
              "              style=\"display:none;\">\n",
              "        \n",
              "  <svg xmlns=\"http://www.w3.org/2000/svg\" height=\"24px\"viewBox=\"0 0 24 24\"\n",
              "       width=\"24px\">\n",
              "    <path d=\"M0 0h24v24H0V0z\" fill=\"none\"/>\n",
              "    <path d=\"M18.56 5.44l.94 2.06.94-2.06 2.06-.94-2.06-.94-.94-2.06-.94 2.06-2.06.94zm-11 1L8.5 8.5l.94-2.06 2.06-.94-2.06-.94L8.5 2.5l-.94 2.06-2.06.94zm10 10l.94 2.06.94-2.06 2.06-.94-2.06-.94-.94-2.06-.94 2.06-2.06.94z\"/><path d=\"M17.41 7.96l-1.37-1.37c-.4-.4-.92-.59-1.43-.59-.52 0-1.04.2-1.43.59L10.3 9.45l-7.72 7.72c-.78.78-.78 2.05 0 2.83L4 21.41c.39.39.9.59 1.41.59.51 0 1.02-.2 1.41-.59l7.78-7.78 2.81-2.81c.8-.78.8-2.07 0-2.86zM5.41 20L4 18.59l7.72-7.72 1.47 1.35L5.41 20z\"/>\n",
              "  </svg>\n",
              "      </button>\n",
              "      \n",
              "  <style>\n",
              "    .colab-df-container {\n",
              "      display:flex;\n",
              "      flex-wrap:wrap;\n",
              "      gap: 12px;\n",
              "    }\n",
              "\n",
              "    .colab-df-convert {\n",
              "      background-color: #E8F0FE;\n",
              "      border: none;\n",
              "      border-radius: 50%;\n",
              "      cursor: pointer;\n",
              "      display: none;\n",
              "      fill: #1967D2;\n",
              "      height: 32px;\n",
              "      padding: 0 0 0 0;\n",
              "      width: 32px;\n",
              "    }\n",
              "\n",
              "    .colab-df-convert:hover {\n",
              "      background-color: #E2EBFA;\n",
              "      box-shadow: 0px 1px 2px rgba(60, 64, 67, 0.3), 0px 1px 3px 1px rgba(60, 64, 67, 0.15);\n",
              "      fill: #174EA6;\n",
              "    }\n",
              "\n",
              "    [theme=dark] .colab-df-convert {\n",
              "      background-color: #3B4455;\n",
              "      fill: #D2E3FC;\n",
              "    }\n",
              "\n",
              "    [theme=dark] .colab-df-convert:hover {\n",
              "      background-color: #434B5C;\n",
              "      box-shadow: 0px 1px 3px 1px rgba(0, 0, 0, 0.15);\n",
              "      filter: drop-shadow(0px 1px 2px rgba(0, 0, 0, 0.3));\n",
              "      fill: #FFFFFF;\n",
              "    }\n",
              "  </style>\n",
              "\n",
              "      <script>\n",
              "        const buttonEl =\n",
              "          document.querySelector('#df-13375887-da10-4ac3-abb1-a89c1f751311 button.colab-df-convert');\n",
              "        buttonEl.style.display =\n",
              "          google.colab.kernel.accessAllowed ? 'block' : 'none';\n",
              "\n",
              "        async function convertToInteractive(key) {\n",
              "          const element = document.querySelector('#df-13375887-da10-4ac3-abb1-a89c1f751311');\n",
              "          const dataTable =\n",
              "            await google.colab.kernel.invokeFunction('convertToInteractive',\n",
              "                                                     [key], {});\n",
              "          if (!dataTable) return;\n",
              "\n",
              "          const docLinkHtml = 'Like what you see? Visit the ' +\n",
              "            '<a target=\"_blank\" href=https://colab.research.google.com/notebooks/data_table.ipynb>data table notebook</a>'\n",
              "            + ' to learn more about interactive tables.';\n",
              "          element.innerHTML = '';\n",
              "          dataTable['output_type'] = 'display_data';\n",
              "          await google.colab.output.renderOutput(dataTable, element);\n",
              "          const docLink = document.createElement('div');\n",
              "          docLink.innerHTML = docLinkHtml;\n",
              "          element.appendChild(docLink);\n",
              "        }\n",
              "      </script>\n",
              "    </div>\n",
              "  </div>\n",
              "  "
            ],
            "text/plain": [
              "   age  job  marital  education default  balance  ...   42   43   44   45   46   47\n",
              "0   58    0        0          2      no     2143  ...  0.0  1.0  0.0  0.0  1.0  0.0\n",
              "1   44    2        1          1      no       29  ...  0.0  1.0  0.0  1.0  0.0  0.0\n",
              "2   33    8        0          1      no        2  ...  0.0  1.0  1.0  0.0  0.0  0.0\n",
              "3   47    1        0          3      no     1506  ...  0.0  1.0  0.0  1.0  0.0  0.0\n",
              "4   33   11        1          3      no        1  ...  0.0  1.0  1.0  0.0  0.0  0.0\n",
              "\n",
              "[5 rows x 65 columns]"
            ]
          },
          "execution_count": 40,
          "metadata": {},
          "output_type": "execute_result"
        }
      ],
      "source": [
        "# creating instance of one-hot-encoder\n",
        "enc = OneHotEncoder(handle_unknown='ignore')\n",
        "# passing bridge-types-cat column (label encoded values of bridge_types)\n",
        "enc_df = pd.DataFrame(enc.fit_transform(df1[[\"job\", \"education\", \"marital\", \"default\", \"housing\", \"loan\", \"contact\", \"month\",\n",
        "                                     \"poutcome\", \"age_cate\"]]).toarray())\n",
        "# merge with main df1 on key values\n",
        "df1 = df1.join(enc_df)\n",
        "df1.head()"
      ]
    },
    {
      "cell_type": "code",
      "execution_count": null,
      "metadata": {
        "colab": {
          "base_uri": "https://localhost:8080/"
        },
        "id": "zUMY4TRL-hWW",
        "outputId": "1ea54a08-7975-4760-9c32-eb1c4306a08b"
      },
      "outputs": [
        {
          "data": {
            "text/plain": [
              "Index([      'age',       'job',   'marital', 'education',   'default',\n",
              "         'balance',   'housing',      'loan',   'contact',       'day',\n",
              "           'month',  'campaign',     'pdays',  'previous',  'poutcome',\n",
              "               'y',  'age_cate',           0,           1,           2,\n",
              "                 3,           4,           5,           6,           7,\n",
              "                 8,           9,          10,          11,          12,\n",
              "                13,          14,          15,          16,          17,\n",
              "                18,          19,          20,          21,          22,\n",
              "                23,          24,          25,          26,          27,\n",
              "                28,          29,          30,          31,          32,\n",
              "                33,          34,          35,          36,          37,\n",
              "                38,          39,          40,          41,          42,\n",
              "                43,          44,          45,          46,          47],\n",
              "      dtype='object')"
            ]
          },
          "execution_count": 41,
          "metadata": {},
          "output_type": "execute_result"
        }
      ],
      "source": [
        "df1.columns"
      ]
    },
    {
      "cell_type": "code",
      "execution_count": null,
      "metadata": {
        "id": "Rlc1nExa_Djh"
      },
      "outputs": [],
      "source": [
        "X= df1[ [  'balance','campaign', \n",
        "             'day', 'previous'  ,  'pdays',        0,           1,\n",
        "                 2,           3,           4,           5,           6,\n",
        "                 7,           8,           9,          10,          11,\n",
        "                12,          13,          14,          15,          16,\n",
        "                17,          18,          19,          20,          21,\n",
        "                22,          23,          24,          25,          26,\n",
        "                27,          28,          29,          30,          31,\n",
        "                32,          33,          34,          35,          36,\n",
        "                37,          38,          39,          40,          41,\n",
        "                42,          43]]"
      ]
    },
    {
      "cell_type": "code",
      "execution_count": null,
      "metadata": {
        "id": "mgigq2yhl44P"
      },
      "outputs": [],
      "source": [
        "y = df1['y']"
      ]
    },
    {
      "cell_type": "code",
      "execution_count": null,
      "metadata": {
        "colab": {
          "base_uri": "https://localhost:8080/",
          "height": 270
        },
        "id": "YtUjEoyXASdz",
        "outputId": "cf66f5d0-d52b-4801-ff56-18b80fb0a4d7"
      },
      "outputs": [
        {
          "data": {
            "text/html": [
              "\n",
              "  <div id=\"df-5a8e051d-a614-40ec-b913-4234ab820bd6\">\n",
              "    <div class=\"colab-df-container\">\n",
              "      <div>\n",
              "<style scoped>\n",
              "    .dataframe tbody tr th:only-of-type {\n",
              "        vertical-align: middle;\n",
              "    }\n",
              "\n",
              "    .dataframe tbody tr th {\n",
              "        vertical-align: top;\n",
              "    }\n",
              "\n",
              "    .dataframe thead th {\n",
              "        text-align: right;\n",
              "    }\n",
              "</style>\n",
              "<table border=\"1\" class=\"dataframe\">\n",
              "  <thead>\n",
              "    <tr style=\"text-align: right;\">\n",
              "      <th></th>\n",
              "      <th>balance</th>\n",
              "      <th>campaign</th>\n",
              "      <th>day</th>\n",
              "      <th>previous</th>\n",
              "      <th>pdays</th>\n",
              "      <th>0</th>\n",
              "      <th>1</th>\n",
              "      <th>2</th>\n",
              "      <th>3</th>\n",
              "      <th>4</th>\n",
              "      <th>5</th>\n",
              "      <th>6</th>\n",
              "      <th>7</th>\n",
              "      <th>8</th>\n",
              "      <th>9</th>\n",
              "      <th>10</th>\n",
              "      <th>11</th>\n",
              "      <th>12</th>\n",
              "      <th>13</th>\n",
              "      <th>14</th>\n",
              "      <th>15</th>\n",
              "      <th>16</th>\n",
              "      <th>17</th>\n",
              "      <th>18</th>\n",
              "      <th>19</th>\n",
              "      <th>20</th>\n",
              "      <th>21</th>\n",
              "      <th>22</th>\n",
              "      <th>23</th>\n",
              "      <th>24</th>\n",
              "      <th>25</th>\n",
              "      <th>26</th>\n",
              "      <th>27</th>\n",
              "      <th>28</th>\n",
              "      <th>29</th>\n",
              "      <th>30</th>\n",
              "      <th>31</th>\n",
              "      <th>32</th>\n",
              "      <th>33</th>\n",
              "      <th>34</th>\n",
              "      <th>35</th>\n",
              "      <th>36</th>\n",
              "      <th>37</th>\n",
              "      <th>38</th>\n",
              "      <th>39</th>\n",
              "      <th>40</th>\n",
              "      <th>41</th>\n",
              "      <th>42</th>\n",
              "      <th>43</th>\n",
              "    </tr>\n",
              "  </thead>\n",
              "  <tbody>\n",
              "    <tr>\n",
              "      <th>0</th>\n",
              "      <td>2143</td>\n",
              "      <td>1</td>\n",
              "      <td>5</td>\n",
              "      <td>0</td>\n",
              "      <td>-1</td>\n",
              "      <td>1.0</td>\n",
              "      <td>0.0</td>\n",
              "      <td>0.0</td>\n",
              "      <td>0.0</td>\n",
              "      <td>0.0</td>\n",
              "      <td>0.0</td>\n",
              "      <td>0.0</td>\n",
              "      <td>0.0</td>\n",
              "      <td>0.0</td>\n",
              "      <td>0.0</td>\n",
              "      <td>0.0</td>\n",
              "      <td>0.0</td>\n",
              "      <td>0.0</td>\n",
              "      <td>0.0</td>\n",
              "      <td>1.0</td>\n",
              "      <td>0.0</td>\n",
              "      <td>1.0</td>\n",
              "      <td>0.0</td>\n",
              "      <td>0.0</td>\n",
              "      <td>1.0</td>\n",
              "      <td>0.0</td>\n",
              "      <td>0.0</td>\n",
              "      <td>1.0</td>\n",
              "      <td>1.0</td>\n",
              "      <td>0.0</td>\n",
              "      <td>0.0</td>\n",
              "      <td>1.0</td>\n",
              "      <td>0.0</td>\n",
              "      <td>0.0</td>\n",
              "      <td>0.0</td>\n",
              "      <td>0.0</td>\n",
              "      <td>0.0</td>\n",
              "      <td>1.0</td>\n",
              "      <td>0.0</td>\n",
              "      <td>0.0</td>\n",
              "      <td>0.0</td>\n",
              "      <td>0.0</td>\n",
              "      <td>0.0</td>\n",
              "      <td>0.0</td>\n",
              "      <td>0.0</td>\n",
              "      <td>0.0</td>\n",
              "      <td>0.0</td>\n",
              "      <td>0.0</td>\n",
              "      <td>1.0</td>\n",
              "    </tr>\n",
              "    <tr>\n",
              "      <th>1</th>\n",
              "      <td>29</td>\n",
              "      <td>1</td>\n",
              "      <td>5</td>\n",
              "      <td>0</td>\n",
              "      <td>-1</td>\n",
              "      <td>0.0</td>\n",
              "      <td>0.0</td>\n",
              "      <td>1.0</td>\n",
              "      <td>0.0</td>\n",
              "      <td>0.0</td>\n",
              "      <td>0.0</td>\n",
              "      <td>0.0</td>\n",
              "      <td>0.0</td>\n",
              "      <td>0.0</td>\n",
              "      <td>0.0</td>\n",
              "      <td>0.0</td>\n",
              "      <td>0.0</td>\n",
              "      <td>0.0</td>\n",
              "      <td>1.0</td>\n",
              "      <td>0.0</td>\n",
              "      <td>0.0</td>\n",
              "      <td>0.0</td>\n",
              "      <td>1.0</td>\n",
              "      <td>0.0</td>\n",
              "      <td>1.0</td>\n",
              "      <td>0.0</td>\n",
              "      <td>0.0</td>\n",
              "      <td>1.0</td>\n",
              "      <td>1.0</td>\n",
              "      <td>0.0</td>\n",
              "      <td>0.0</td>\n",
              "      <td>1.0</td>\n",
              "      <td>0.0</td>\n",
              "      <td>0.0</td>\n",
              "      <td>0.0</td>\n",
              "      <td>0.0</td>\n",
              "      <td>0.0</td>\n",
              "      <td>1.0</td>\n",
              "      <td>0.0</td>\n",
              "      <td>0.0</td>\n",
              "      <td>0.0</td>\n",
              "      <td>0.0</td>\n",
              "      <td>0.0</td>\n",
              "      <td>0.0</td>\n",
              "      <td>0.0</td>\n",
              "      <td>0.0</td>\n",
              "      <td>0.0</td>\n",
              "      <td>0.0</td>\n",
              "      <td>1.0</td>\n",
              "    </tr>\n",
              "    <tr>\n",
              "      <th>2</th>\n",
              "      <td>2</td>\n",
              "      <td>1</td>\n",
              "      <td>5</td>\n",
              "      <td>0</td>\n",
              "      <td>-1</td>\n",
              "      <td>0.0</td>\n",
              "      <td>0.0</td>\n",
              "      <td>0.0</td>\n",
              "      <td>0.0</td>\n",
              "      <td>0.0</td>\n",
              "      <td>0.0</td>\n",
              "      <td>0.0</td>\n",
              "      <td>0.0</td>\n",
              "      <td>1.0</td>\n",
              "      <td>0.0</td>\n",
              "      <td>0.0</td>\n",
              "      <td>0.0</td>\n",
              "      <td>0.0</td>\n",
              "      <td>1.0</td>\n",
              "      <td>0.0</td>\n",
              "      <td>0.0</td>\n",
              "      <td>1.0</td>\n",
              "      <td>0.0</td>\n",
              "      <td>0.0</td>\n",
              "      <td>1.0</td>\n",
              "      <td>0.0</td>\n",
              "      <td>0.0</td>\n",
              "      <td>1.0</td>\n",
              "      <td>0.0</td>\n",
              "      <td>1.0</td>\n",
              "      <td>0.0</td>\n",
              "      <td>1.0</td>\n",
              "      <td>0.0</td>\n",
              "      <td>0.0</td>\n",
              "      <td>0.0</td>\n",
              "      <td>0.0</td>\n",
              "      <td>0.0</td>\n",
              "      <td>1.0</td>\n",
              "      <td>0.0</td>\n",
              "      <td>0.0</td>\n",
              "      <td>0.0</td>\n",
              "      <td>0.0</td>\n",
              "      <td>0.0</td>\n",
              "      <td>0.0</td>\n",
              "      <td>0.0</td>\n",
              "      <td>0.0</td>\n",
              "      <td>0.0</td>\n",
              "      <td>0.0</td>\n",
              "      <td>1.0</td>\n",
              "    </tr>\n",
              "    <tr>\n",
              "      <th>3</th>\n",
              "      <td>1506</td>\n",
              "      <td>1</td>\n",
              "      <td>5</td>\n",
              "      <td>0</td>\n",
              "      <td>-1</td>\n",
              "      <td>0.0</td>\n",
              "      <td>1.0</td>\n",
              "      <td>0.0</td>\n",
              "      <td>0.0</td>\n",
              "      <td>0.0</td>\n",
              "      <td>0.0</td>\n",
              "      <td>0.0</td>\n",
              "      <td>0.0</td>\n",
              "      <td>0.0</td>\n",
              "      <td>0.0</td>\n",
              "      <td>0.0</td>\n",
              "      <td>0.0</td>\n",
              "      <td>0.0</td>\n",
              "      <td>0.0</td>\n",
              "      <td>0.0</td>\n",
              "      <td>1.0</td>\n",
              "      <td>1.0</td>\n",
              "      <td>0.0</td>\n",
              "      <td>0.0</td>\n",
              "      <td>1.0</td>\n",
              "      <td>0.0</td>\n",
              "      <td>0.0</td>\n",
              "      <td>1.0</td>\n",
              "      <td>1.0</td>\n",
              "      <td>0.0</td>\n",
              "      <td>0.0</td>\n",
              "      <td>1.0</td>\n",
              "      <td>0.0</td>\n",
              "      <td>0.0</td>\n",
              "      <td>0.0</td>\n",
              "      <td>0.0</td>\n",
              "      <td>0.0</td>\n",
              "      <td>1.0</td>\n",
              "      <td>0.0</td>\n",
              "      <td>0.0</td>\n",
              "      <td>0.0</td>\n",
              "      <td>0.0</td>\n",
              "      <td>0.0</td>\n",
              "      <td>0.0</td>\n",
              "      <td>0.0</td>\n",
              "      <td>0.0</td>\n",
              "      <td>0.0</td>\n",
              "      <td>0.0</td>\n",
              "      <td>1.0</td>\n",
              "    </tr>\n",
              "    <tr>\n",
              "      <th>4</th>\n",
              "      <td>1</td>\n",
              "      <td>1</td>\n",
              "      <td>5</td>\n",
              "      <td>0</td>\n",
              "      <td>-1</td>\n",
              "      <td>0.0</td>\n",
              "      <td>0.0</td>\n",
              "      <td>0.0</td>\n",
              "      <td>0.0</td>\n",
              "      <td>0.0</td>\n",
              "      <td>0.0</td>\n",
              "      <td>0.0</td>\n",
              "      <td>0.0</td>\n",
              "      <td>0.0</td>\n",
              "      <td>0.0</td>\n",
              "      <td>0.0</td>\n",
              "      <td>1.0</td>\n",
              "      <td>0.0</td>\n",
              "      <td>0.0</td>\n",
              "      <td>0.0</td>\n",
              "      <td>1.0</td>\n",
              "      <td>0.0</td>\n",
              "      <td>1.0</td>\n",
              "      <td>0.0</td>\n",
              "      <td>1.0</td>\n",
              "      <td>0.0</td>\n",
              "      <td>1.0</td>\n",
              "      <td>0.0</td>\n",
              "      <td>1.0</td>\n",
              "      <td>0.0</td>\n",
              "      <td>0.0</td>\n",
              "      <td>1.0</td>\n",
              "      <td>0.0</td>\n",
              "      <td>0.0</td>\n",
              "      <td>0.0</td>\n",
              "      <td>0.0</td>\n",
              "      <td>0.0</td>\n",
              "      <td>1.0</td>\n",
              "      <td>0.0</td>\n",
              "      <td>0.0</td>\n",
              "      <td>0.0</td>\n",
              "      <td>0.0</td>\n",
              "      <td>0.0</td>\n",
              "      <td>0.0</td>\n",
              "      <td>0.0</td>\n",
              "      <td>0.0</td>\n",
              "      <td>0.0</td>\n",
              "      <td>0.0</td>\n",
              "      <td>1.0</td>\n",
              "    </tr>\n",
              "  </tbody>\n",
              "</table>\n",
              "</div>\n",
              "      <button class=\"colab-df-convert\" onclick=\"convertToInteractive('df-5a8e051d-a614-40ec-b913-4234ab820bd6')\"\n",
              "              title=\"Convert this dataframe to an interactive table.\"\n",
              "              style=\"display:none;\">\n",
              "        \n",
              "  <svg xmlns=\"http://www.w3.org/2000/svg\" height=\"24px\"viewBox=\"0 0 24 24\"\n",
              "       width=\"24px\">\n",
              "    <path d=\"M0 0h24v24H0V0z\" fill=\"none\"/>\n",
              "    <path d=\"M18.56 5.44l.94 2.06.94-2.06 2.06-.94-2.06-.94-.94-2.06-.94 2.06-2.06.94zm-11 1L8.5 8.5l.94-2.06 2.06-.94-2.06-.94L8.5 2.5l-.94 2.06-2.06.94zm10 10l.94 2.06.94-2.06 2.06-.94-2.06-.94-.94-2.06-.94 2.06-2.06.94z\"/><path d=\"M17.41 7.96l-1.37-1.37c-.4-.4-.92-.59-1.43-.59-.52 0-1.04.2-1.43.59L10.3 9.45l-7.72 7.72c-.78.78-.78 2.05 0 2.83L4 21.41c.39.39.9.59 1.41.59.51 0 1.02-.2 1.41-.59l7.78-7.78 2.81-2.81c.8-.78.8-2.07 0-2.86zM5.41 20L4 18.59l7.72-7.72 1.47 1.35L5.41 20z\"/>\n",
              "  </svg>\n",
              "      </button>\n",
              "      \n",
              "  <style>\n",
              "    .colab-df-container {\n",
              "      display:flex;\n",
              "      flex-wrap:wrap;\n",
              "      gap: 12px;\n",
              "    }\n",
              "\n",
              "    .colab-df-convert {\n",
              "      background-color: #E8F0FE;\n",
              "      border: none;\n",
              "      border-radius: 50%;\n",
              "      cursor: pointer;\n",
              "      display: none;\n",
              "      fill: #1967D2;\n",
              "      height: 32px;\n",
              "      padding: 0 0 0 0;\n",
              "      width: 32px;\n",
              "    }\n",
              "\n",
              "    .colab-df-convert:hover {\n",
              "      background-color: #E2EBFA;\n",
              "      box-shadow: 0px 1px 2px rgba(60, 64, 67, 0.3), 0px 1px 3px 1px rgba(60, 64, 67, 0.15);\n",
              "      fill: #174EA6;\n",
              "    }\n",
              "\n",
              "    [theme=dark] .colab-df-convert {\n",
              "      background-color: #3B4455;\n",
              "      fill: #D2E3FC;\n",
              "    }\n",
              "\n",
              "    [theme=dark] .colab-df-convert:hover {\n",
              "      background-color: #434B5C;\n",
              "      box-shadow: 0px 1px 3px 1px rgba(0, 0, 0, 0.15);\n",
              "      filter: drop-shadow(0px 1px 2px rgba(0, 0, 0, 0.3));\n",
              "      fill: #FFFFFF;\n",
              "    }\n",
              "  </style>\n",
              "\n",
              "      <script>\n",
              "        const buttonEl =\n",
              "          document.querySelector('#df-5a8e051d-a614-40ec-b913-4234ab820bd6 button.colab-df-convert');\n",
              "        buttonEl.style.display =\n",
              "          google.colab.kernel.accessAllowed ? 'block' : 'none';\n",
              "\n",
              "        async function convertToInteractive(key) {\n",
              "          const element = document.querySelector('#df-5a8e051d-a614-40ec-b913-4234ab820bd6');\n",
              "          const dataTable =\n",
              "            await google.colab.kernel.invokeFunction('convertToInteractive',\n",
              "                                                     [key], {});\n",
              "          if (!dataTable) return;\n",
              "\n",
              "          const docLinkHtml = 'Like what you see? Visit the ' +\n",
              "            '<a target=\"_blank\" href=https://colab.research.google.com/notebooks/data_table.ipynb>data table notebook</a>'\n",
              "            + ' to learn more about interactive tables.';\n",
              "          element.innerHTML = '';\n",
              "          dataTable['output_type'] = 'display_data';\n",
              "          await google.colab.output.renderOutput(dataTable, element);\n",
              "          const docLink = document.createElement('div');\n",
              "          docLink.innerHTML = docLinkHtml;\n",
              "          element.appendChild(docLink);\n",
              "        }\n",
              "      </script>\n",
              "    </div>\n",
              "  </div>\n",
              "  "
            ],
            "text/plain": [
              "   balance  campaign  day  previous  pdays    0  ...   38   39   40   41   42   43\n",
              "0     2143         1    5         0     -1  1.0  ...  0.0  0.0  0.0  0.0  0.0  1.0\n",
              "1       29         1    5         0     -1  0.0  ...  0.0  0.0  0.0  0.0  0.0  1.0\n",
              "2        2         1    5         0     -1  0.0  ...  0.0  0.0  0.0  0.0  0.0  1.0\n",
              "3     1506         1    5         0     -1  0.0  ...  0.0  0.0  0.0  0.0  0.0  1.0\n",
              "4        1         1    5         0     -1  0.0  ...  0.0  0.0  0.0  0.0  0.0  1.0\n",
              "\n",
              "[5 rows x 49 columns]"
            ]
          },
          "execution_count": 44,
          "metadata": {},
          "output_type": "execute_result"
        }
      ],
      "source": [
        "X.head()"
      ]
    },
    {
      "cell_type": "code",
      "execution_count": null,
      "metadata": {
        "id": "MM__duD3l-ku"
      },
      "outputs": [],
      "source": [
        "X_train, X_test, y_train, y_test = train_test_split(X, y, test_size = 0.2, stratify=y, random_state=42)"
      ]
    },
    {
      "cell_type": "code",
      "execution_count": null,
      "metadata": {
        "id": "vS02BbziBZW1"
      },
      "outputs": [],
      "source": [
        "from sklearn.preprocessing import LabelEncoder\n",
        "\n",
        "encode = LabelEncoder()\n",
        "y_train = encode.fit_transform(y_train)\n",
        "y_test = encode.fit_transform(y_test)\n"
      ]
    },
    {
      "cell_type": "code",
      "execution_count": null,
      "metadata": {
        "id": "X7PPOqmQv_Wu"
      },
      "outputs": [],
      "source": [
        "from sklearn.metrics import f1_score"
      ]
    },
    {
      "cell_type": "code",
      "execution_count": null,
      "metadata": {
        "colab": {
          "base_uri": "https://localhost:8080/"
        },
        "id": "E5qOvti4vkfQ",
        "outputId": "807844da-64ef-4916-e34e-0db4413e558d"
      },
      "outputs": [
        {
          "name": "stdout",
          "output_type": "stream",
          "text": [
            "RF train roc-auc: 0.9999972581034275\n",
            "RF test roc-auc: 0.7812150736316794\n"
          ]
        }
      ],
      "source": [
        "## Apply RandomForestClassifier\n",
        "from sklearn.ensemble import RandomForestClassifier\n",
        "rf_model = RandomForestClassifier()\n",
        "rf_model.fit(X_train, y_train)\n",
        "ytrain_pred = rf_model.predict_proba(X_train)\n",
        "print('RF train roc-auc: {}'.format(roc_auc_score(y_train, ytrain_pred[:,1])))\n",
        "ytest_pred = rf_model.predict_proba(X_test)\n",
        "print('RF test roc-auc: {}'.format(roc_auc_score(y_test, ytest_pred[:,1])))"
      ]
    },
    {
      "cell_type": "code",
      "execution_count": null,
      "metadata": {
        "colab": {
          "base_uri": "https://localhost:8080/"
        },
        "id": "yO4ivmzqvtI1",
        "outputId": "56092935-2f53-41e7-c9b1-41f4f1fc1fe6"
      },
      "outputs": [
        {
          "data": {
            "text/plain": [
              "array([[0.98, 0.02],\n",
              "       [0.37, 0.63],\n",
              "       [0.36, 0.64],\n",
              "       ...,\n",
              "       [0.99, 0.01],\n",
              "       [0.98, 0.02],\n",
              "       [0.27, 0.73]])"
            ]
          },
          "execution_count": 48,
          "metadata": {},
          "output_type": "execute_result"
        }
      ],
      "source": [
        "ytrain_pred"
      ]
    },
    {
      "cell_type": "code",
      "execution_count": null,
      "metadata": {
        "colab": {
          "base_uri": "https://localhost:8080/"
        },
        "id": "K6kZgra6vzEo",
        "outputId": "1e1d451e-4f94-4570-f876-1abdf680c13a"
      },
      "outputs": [
        {
          "name": "stdout",
          "output_type": "stream",
          "text": [
            "Logistic train roc-auc: 0.7287125089029308\n",
            "Logistic test roc-auc: 0.7362567810864652\n"
          ]
        }
      ],
      "source": [
        "from sklearn.linear_model import LogisticRegression\n",
        "log_classifier=LogisticRegression()\n",
        "log_classifier.fit(X_train, y_train)\n",
        "ytrain_pred = log_classifier.predict_proba(X_train)\n",
        "print('Logistic train roc-auc: {}'.format(roc_auc_score(y_train, ytrain_pred[:,1])))\n",
        "ytest_pred = log_classifier.predict_proba(X_test)\n",
        "print('Logistic test roc-auc: {}'.format(roc_auc_score(y_test, ytest_pred[:,1])))"
      ]
    },
    {
      "cell_type": "code",
      "execution_count": null,
      "metadata": {
        "colab": {
          "base_uri": "https://localhost:8080/"
        },
        "id": "B3R6SEvVwGne",
        "outputId": "31bead55-7b4a-4e11-b21a-5e4586c6bfd6"
      },
      "outputs": [
        {
          "name": "stdout",
          "output_type": "stream",
          "text": [
            "Adaboost train roc-auc: 0.7806413065926805\n",
            "Adaboost test roc-auc: 0.7792164656557131\n"
          ]
        }
      ],
      "source": [
        "from sklearn.ensemble import AdaBoostClassifier\n",
        "ada_classifier=AdaBoostClassifier()\n",
        "ada_classifier.fit(X_train, y_train)\n",
        "ytrain_pred = ada_classifier.predict_proba(X_train)\n",
        "print('Adaboost train roc-auc: {}'.format(roc_auc_score(y_train, ytrain_pred[:,1])))\n",
        "ytest_pred = ada_classifier.predict_proba(X_test)\n",
        "print('Adaboost test roc-auc: {}'.format(roc_auc_score(y_test, ytest_pred[:,1])))"
      ]
    },
    {
      "cell_type": "code",
      "execution_count": null,
      "metadata": {
        "colab": {
          "base_uri": "https://localhost:8080/"
        },
        "id": "aTni5phIxwN0",
        "outputId": "ee938f88-02e1-46f9-e632-de3d7564b54f"
      },
      "outputs": [
        {
          "name": "stdout",
          "output_type": "stream",
          "text": [
            "GB train roc-auc: 0.8023301673148212\n",
            "GB test roc-auc: 0.7990046317942551\n"
          ]
        }
      ],
      "source": [
        "from sklearn.ensemble import GradientBoostingClassifier\n",
        "gb_classifier= GradientBoostingClassifier()\n",
        "gb_classifier.fit(X_train, y_train)\n",
        "ytrain_pred = gb_classifier.predict_proba(X_train)\n",
        "print('GB train roc-auc: {}'.format(roc_auc_score(y_train, ytrain_pred[:,1])))\n",
        "ytest_pred = gb_classifier.predict_proba(X_test)\n",
        "print('GB test roc-auc: {}'.format(roc_auc_score(y_test, ytest_pred[:,1])))"
      ]
    },
    {
      "cell_type": "code",
      "execution_count": null,
      "metadata": {
        "colab": {
          "base_uri": "https://localhost:8080/"
        },
        "id": "13CV55AFwpjK",
        "outputId": "a6fcfab9-b7c7-4321-aeb4-67e41b5c4b98"
      },
      "outputs": [
        {
          "name": "stdout",
          "output_type": "stream",
          "text": [
            "XGB train roc-auc: 0.8019593008265867\n",
            "XGB test roc-auc: 0.7970562716246081\n"
          ]
        }
      ],
      "source": [
        "import xgboost as xgb\n",
        "xgb_classifier=xgb.XGBClassifier()\n",
        "xgb_classifier.fit(X_train, y_train)\n",
        "ytrain_pred = xgb_classifier.predict_proba(X_train)\n",
        "print('XGB train roc-auc: {}'.format(roc_auc_score(y_train, ytrain_pred[:,1])))\n",
        "ytest_pred = xgb_classifier.predict_proba(X_test)\n",
        "print('XGB test roc-auc: {}'.format(roc_auc_score(y_test, ytest_pred[:,1])))"
      ]
    },
    {
      "cell_type": "code",
      "execution_count": null,
      "metadata": {
        "colab": {
          "base_uri": "https://localhost:8080/"
        },
        "id": "a9rLu5Bgyivd",
        "outputId": "a164d50b-9c3e-4d32-a65a-2c019b93ba47"
      },
      "outputs": [
        {
          "name": "stdout",
          "output_type": "stream",
          "text": [
            "KNN train roc-auc: 0.8871283770850357\n",
            "KNN test roc-auc: 0.6099762906110583\n"
          ]
        }
      ],
      "source": [
        "from sklearn.neighbors import KNeighborsClassifier\n",
        "knn_classifier=KNeighborsClassifier()\n",
        "knn_classifier.fit(X_train, y_train)\n",
        "ytrain_pred = knn_classifier.predict_proba(X_train)\n",
        "print('KNN train roc-auc: {}'.format(roc_auc_score(y_train, ytrain_pred[:,1])))\n",
        "ytest_pred = knn_classifier.predict_proba(X_test)\n",
        "print('KNN test roc-auc: {}'.format(roc_auc_score(y_test, ytest_pred[:,1])))"
      ]
    },
    {
      "cell_type": "code",
      "execution_count": null,
      "metadata": {
        "colab": {
          "base_uri": "https://localhost:8080/"
        },
        "id": "3Dk3eQFDy3rS",
        "outputId": "0c2338f4-934e-412d-d9e5-173abd996c79"
      },
      "outputs": [
        {
          "name": "stdout",
          "output_type": "stream",
          "text": [
            "Ensemble test roc-auc: 0.7822473139026033\n"
          ]
        }
      ],
      "source": [
        "pred=[]\n",
        "for model in [rf_model,log_classifier,ada_classifier,knn_classifier,xgb_classifier,gb_classifier]:\n",
        "    pred.append(pd.Series(model.predict_proba(X_test)[:,1]))\n",
        "final_prediction=pd.concat(pred,axis=1).mean(axis=1)\n",
        "print('Ensemble test roc-auc: {}'.format(roc_auc_score(y_test,final_prediction)))"
      ]
    },
    {
      "cell_type": "code",
      "execution_count": null,
      "metadata": {
        "colab": {
          "base_uri": "https://localhost:8080/",
          "height": 423
        },
        "id": "uLM3QfMQzZqD",
        "outputId": "74b80786-2e04-4dd6-e93c-832f118818bb"
      },
      "outputs": [
        {
          "data": {
            "text/html": [
              "\n",
              "  <div id=\"df-e09d9a69-22cc-4ce2-b661-e4a28046fcb4\">\n",
              "    <div class=\"colab-df-container\">\n",
              "      <div>\n",
              "<style scoped>\n",
              "    .dataframe tbody tr th:only-of-type {\n",
              "        vertical-align: middle;\n",
              "    }\n",
              "\n",
              "    .dataframe tbody tr th {\n",
              "        vertical-align: top;\n",
              "    }\n",
              "\n",
              "    .dataframe thead th {\n",
              "        text-align: right;\n",
              "    }\n",
              "</style>\n",
              "<table border=\"1\" class=\"dataframe\">\n",
              "  <thead>\n",
              "    <tr style=\"text-align: right;\">\n",
              "      <th></th>\n",
              "      <th>0</th>\n",
              "      <th>1</th>\n",
              "      <th>2</th>\n",
              "      <th>3</th>\n",
              "      <th>4</th>\n",
              "      <th>5</th>\n",
              "    </tr>\n",
              "  </thead>\n",
              "  <tbody>\n",
              "    <tr>\n",
              "      <th>0</th>\n",
              "      <td>0.00</td>\n",
              "      <td>0.022567</td>\n",
              "      <td>0.479534</td>\n",
              "      <td>0.2</td>\n",
              "      <td>0.026606</td>\n",
              "      <td>0.033123</td>\n",
              "    </tr>\n",
              "    <tr>\n",
              "      <th>1</th>\n",
              "      <td>0.14</td>\n",
              "      <td>0.025767</td>\n",
              "      <td>0.482464</td>\n",
              "      <td>0.2</td>\n",
              "      <td>0.031942</td>\n",
              "      <td>0.032478</td>\n",
              "    </tr>\n",
              "    <tr>\n",
              "      <th>2</th>\n",
              "      <td>0.01</td>\n",
              "      <td>0.026393</td>\n",
              "      <td>0.481900</td>\n",
              "      <td>0.0</td>\n",
              "      <td>0.031176</td>\n",
              "      <td>0.032731</td>\n",
              "    </tr>\n",
              "    <tr>\n",
              "      <th>3</th>\n",
              "      <td>0.08</td>\n",
              "      <td>0.021156</td>\n",
              "      <td>0.480215</td>\n",
              "      <td>0.2</td>\n",
              "      <td>0.029729</td>\n",
              "      <td>0.034225</td>\n",
              "    </tr>\n",
              "    <tr>\n",
              "      <th>4</th>\n",
              "      <td>0.09</td>\n",
              "      <td>0.091512</td>\n",
              "      <td>0.491658</td>\n",
              "      <td>0.2</td>\n",
              "      <td>0.129747</td>\n",
              "      <td>0.120568</td>\n",
              "    </tr>\n",
              "    <tr>\n",
              "      <th>...</th>\n",
              "      <td>...</td>\n",
              "      <td>...</td>\n",
              "      <td>...</td>\n",
              "      <td>...</td>\n",
              "      <td>...</td>\n",
              "      <td>...</td>\n",
              "    </tr>\n",
              "    <tr>\n",
              "      <th>9038</th>\n",
              "      <td>0.00</td>\n",
              "      <td>0.087217</td>\n",
              "      <td>0.482555</td>\n",
              "      <td>0.0</td>\n",
              "      <td>0.045547</td>\n",
              "      <td>0.047970</td>\n",
              "    </tr>\n",
              "    <tr>\n",
              "      <th>9039</th>\n",
              "      <td>0.12</td>\n",
              "      <td>0.049825</td>\n",
              "      <td>0.486867</td>\n",
              "      <td>0.0</td>\n",
              "      <td>0.077613</td>\n",
              "      <td>0.069076</td>\n",
              "    </tr>\n",
              "    <tr>\n",
              "      <th>9040</th>\n",
              "      <td>0.02</td>\n",
              "      <td>0.078591</td>\n",
              "      <td>0.488814</td>\n",
              "      <td>0.0</td>\n",
              "      <td>0.082240</td>\n",
              "      <td>0.079040</td>\n",
              "    </tr>\n",
              "    <tr>\n",
              "      <th>9041</th>\n",
              "      <td>0.17</td>\n",
              "      <td>0.286749</td>\n",
              "      <td>0.488175</td>\n",
              "      <td>0.4</td>\n",
              "      <td>0.157312</td>\n",
              "      <td>0.168245</td>\n",
              "    </tr>\n",
              "    <tr>\n",
              "      <th>9042</th>\n",
              "      <td>0.08</td>\n",
              "      <td>0.115526</td>\n",
              "      <td>0.485210</td>\n",
              "      <td>0.0</td>\n",
              "      <td>0.061521</td>\n",
              "      <td>0.078938</td>\n",
              "    </tr>\n",
              "  </tbody>\n",
              "</table>\n",
              "<p>9043 rows × 6 columns</p>\n",
              "</div>\n",
              "      <button class=\"colab-df-convert\" onclick=\"convertToInteractive('df-e09d9a69-22cc-4ce2-b661-e4a28046fcb4')\"\n",
              "              title=\"Convert this dataframe to an interactive table.\"\n",
              "              style=\"display:none;\">\n",
              "        \n",
              "  <svg xmlns=\"http://www.w3.org/2000/svg\" height=\"24px\"viewBox=\"0 0 24 24\"\n",
              "       width=\"24px\">\n",
              "    <path d=\"M0 0h24v24H0V0z\" fill=\"none\"/>\n",
              "    <path d=\"M18.56 5.44l.94 2.06.94-2.06 2.06-.94-2.06-.94-.94-2.06-.94 2.06-2.06.94zm-11 1L8.5 8.5l.94-2.06 2.06-.94-2.06-.94L8.5 2.5l-.94 2.06-2.06.94zm10 10l.94 2.06.94-2.06 2.06-.94-2.06-.94-.94-2.06-.94 2.06-2.06.94z\"/><path d=\"M17.41 7.96l-1.37-1.37c-.4-.4-.92-.59-1.43-.59-.52 0-1.04.2-1.43.59L10.3 9.45l-7.72 7.72c-.78.78-.78 2.05 0 2.83L4 21.41c.39.39.9.59 1.41.59.51 0 1.02-.2 1.41-.59l7.78-7.78 2.81-2.81c.8-.78.8-2.07 0-2.86zM5.41 20L4 18.59l7.72-7.72 1.47 1.35L5.41 20z\"/>\n",
              "  </svg>\n",
              "      </button>\n",
              "      \n",
              "  <style>\n",
              "    .colab-df-container {\n",
              "      display:flex;\n",
              "      flex-wrap:wrap;\n",
              "      gap: 12px;\n",
              "    }\n",
              "\n",
              "    .colab-df-convert {\n",
              "      background-color: #E8F0FE;\n",
              "      border: none;\n",
              "      border-radius: 50%;\n",
              "      cursor: pointer;\n",
              "      display: none;\n",
              "      fill: #1967D2;\n",
              "      height: 32px;\n",
              "      padding: 0 0 0 0;\n",
              "      width: 32px;\n",
              "    }\n",
              "\n",
              "    .colab-df-convert:hover {\n",
              "      background-color: #E2EBFA;\n",
              "      box-shadow: 0px 1px 2px rgba(60, 64, 67, 0.3), 0px 1px 3px 1px rgba(60, 64, 67, 0.15);\n",
              "      fill: #174EA6;\n",
              "    }\n",
              "\n",
              "    [theme=dark] .colab-df-convert {\n",
              "      background-color: #3B4455;\n",
              "      fill: #D2E3FC;\n",
              "    }\n",
              "\n",
              "    [theme=dark] .colab-df-convert:hover {\n",
              "      background-color: #434B5C;\n",
              "      box-shadow: 0px 1px 3px 1px rgba(0, 0, 0, 0.15);\n",
              "      filter: drop-shadow(0px 1px 2px rgba(0, 0, 0, 0.3));\n",
              "      fill: #FFFFFF;\n",
              "    }\n",
              "  </style>\n",
              "\n",
              "      <script>\n",
              "        const buttonEl =\n",
              "          document.querySelector('#df-e09d9a69-22cc-4ce2-b661-e4a28046fcb4 button.colab-df-convert');\n",
              "        buttonEl.style.display =\n",
              "          google.colab.kernel.accessAllowed ? 'block' : 'none';\n",
              "\n",
              "        async function convertToInteractive(key) {\n",
              "          const element = document.querySelector('#df-e09d9a69-22cc-4ce2-b661-e4a28046fcb4');\n",
              "          const dataTable =\n",
              "            await google.colab.kernel.invokeFunction('convertToInteractive',\n",
              "                                                     [key], {});\n",
              "          if (!dataTable) return;\n",
              "\n",
              "          const docLinkHtml = 'Like what you see? Visit the ' +\n",
              "            '<a target=\"_blank\" href=https://colab.research.google.com/notebooks/data_table.ipynb>data table notebook</a>'\n",
              "            + ' to learn more about interactive tables.';\n",
              "          element.innerHTML = '';\n",
              "          dataTable['output_type'] = 'display_data';\n",
              "          await google.colab.output.renderOutput(dataTable, element);\n",
              "          const docLink = document.createElement('div');\n",
              "          docLink.innerHTML = docLinkHtml;\n",
              "          element.appendChild(docLink);\n",
              "        }\n",
              "      </script>\n",
              "    </div>\n",
              "  </div>\n",
              "  "
            ],
            "text/plain": [
              "         0         1         2    3         4         5\n",
              "0     0.00  0.022567  0.479534  0.2  0.026606  0.033123\n",
              "1     0.14  0.025767  0.482464  0.2  0.031942  0.032478\n",
              "2     0.01  0.026393  0.481900  0.0  0.031176  0.032731\n",
              "3     0.08  0.021156  0.480215  0.2  0.029729  0.034225\n",
              "4     0.09  0.091512  0.491658  0.2  0.129747  0.120568\n",
              "...    ...       ...       ...  ...       ...       ...\n",
              "9038  0.00  0.087217  0.482555  0.0  0.045547  0.047970\n",
              "9039  0.12  0.049825  0.486867  0.0  0.077613  0.069076\n",
              "9040  0.02  0.078591  0.488814  0.0  0.082240  0.079040\n",
              "9041  0.17  0.286749  0.488175  0.4  0.157312  0.168245\n",
              "9042  0.08  0.115526  0.485210  0.0  0.061521  0.078938\n",
              "\n",
              "[9043 rows x 6 columns]"
            ]
          },
          "execution_count": 60,
          "metadata": {},
          "output_type": "execute_result"
        }
      ],
      "source": [
        "pd.concat(pred,axis=1)"
      ]
    },
    {
      "cell_type": "code",
      "execution_count": null,
      "metadata": {
        "colab": {
          "base_uri": "https://localhost:8080/"
        },
        "id": "plPHWy6PzkFi",
        "outputId": "7bdc2b4e-a09e-4ce6-d979-dc6a9f037840"
      },
      "outputs": [
        {
          "data": {
            "text/plain": [
              "0       0.126972\n",
              "1       0.152109\n",
              "2       0.097033\n",
              "3       0.140888\n",
              "4       0.187248\n",
              "          ...   \n",
              "9038    0.110548\n",
              "9039    0.133897\n",
              "9040    0.124781\n",
              "9041    0.278413\n",
              "9042    0.136866\n",
              "Length: 9043, dtype: float64"
            ]
          },
          "execution_count": 61,
          "metadata": {},
          "output_type": "execute_result"
        }
      ],
      "source": [
        "final_prediction"
      ]
    },
    {
      "cell_type": "code",
      "execution_count": null,
      "metadata": {
        "colab": {
          "base_uri": "https://localhost:8080/"
        },
        "id": "iSCuAbDXzs9z",
        "outputId": "5025e34a-2bf8-42f5-c270-718fe1decba0"
      },
      "outputs": [
        {
          "data": {
            "text/plain": [
              "array([1.74572939, 0.74572939, 0.68870523, ..., 0.09535816, 0.09534894,\n",
              "       0.08571185])"
            ]
          },
          "execution_count": 62,
          "metadata": {},
          "output_type": "execute_result"
        }
      ],
      "source": [
        "#### Calculate the ROc Curve\n",
        "\n",
        "\n",
        "fpr, tpr, thresholds = roc_curve(y_test, final_prediction)\n",
        "thresholds"
      ]
    },
    {
      "cell_type": "code",
      "execution_count": null,
      "metadata": {
        "colab": {
          "base_uri": "https://localhost:8080/",
          "height": 206
        },
        "id": "loTxwhQxzvPu",
        "outputId": "517ba50b-e55d-47cd-8de9-8e72ef90fd52"
      },
      "outputs": [
        {
          "data": {
            "text/html": [
              "\n",
              "  <div id=\"df-a8f36856-2586-43b1-ae1d-2c6c585b97a3\">\n",
              "    <div class=\"colab-df-container\">\n",
              "      <div>\n",
              "<style scoped>\n",
              "    .dataframe tbody tr th:only-of-type {\n",
              "        vertical-align: middle;\n",
              "    }\n",
              "\n",
              "    .dataframe tbody tr th {\n",
              "        vertical-align: top;\n",
              "    }\n",
              "\n",
              "    .dataframe thead th {\n",
              "        text-align: right;\n",
              "    }\n",
              "</style>\n",
              "<table border=\"1\" class=\"dataframe\">\n",
              "  <thead>\n",
              "    <tr style=\"text-align: right;\">\n",
              "      <th></th>\n",
              "      <th>thresholds</th>\n",
              "      <th>f1</th>\n",
              "    </tr>\n",
              "  </thead>\n",
              "  <tbody>\n",
              "    <tr>\n",
              "      <th>571</th>\n",
              "      <td>0.246954</td>\n",
              "      <td>0.477715</td>\n",
              "    </tr>\n",
              "    <tr>\n",
              "      <th>572</th>\n",
              "      <td>0.246867</td>\n",
              "      <td>0.477509</td>\n",
              "    </tr>\n",
              "    <tr>\n",
              "      <th>569</th>\n",
              "      <td>0.247231</td>\n",
              "      <td>0.477263</td>\n",
              "    </tr>\n",
              "    <tr>\n",
              "      <th>570</th>\n",
              "      <td>0.246985</td>\n",
              "      <td>0.477056</td>\n",
              "    </tr>\n",
              "    <tr>\n",
              "      <th>567</th>\n",
              "      <td>0.247317</td>\n",
              "      <td>0.476810</td>\n",
              "    </tr>\n",
              "  </tbody>\n",
              "</table>\n",
              "</div>\n",
              "      <button class=\"colab-df-convert\" onclick=\"convertToInteractive('df-a8f36856-2586-43b1-ae1d-2c6c585b97a3')\"\n",
              "              title=\"Convert this dataframe to an interactive table.\"\n",
              "              style=\"display:none;\">\n",
              "        \n",
              "  <svg xmlns=\"http://www.w3.org/2000/svg\" height=\"24px\"viewBox=\"0 0 24 24\"\n",
              "       width=\"24px\">\n",
              "    <path d=\"M0 0h24v24H0V0z\" fill=\"none\"/>\n",
              "    <path d=\"M18.56 5.44l.94 2.06.94-2.06 2.06-.94-2.06-.94-.94-2.06-.94 2.06-2.06.94zm-11 1L8.5 8.5l.94-2.06 2.06-.94-2.06-.94L8.5 2.5l-.94 2.06-2.06.94zm10 10l.94 2.06.94-2.06 2.06-.94-2.06-.94-.94-2.06-.94 2.06-2.06.94z\"/><path d=\"M17.41 7.96l-1.37-1.37c-.4-.4-.92-.59-1.43-.59-.52 0-1.04.2-1.43.59L10.3 9.45l-7.72 7.72c-.78.78-.78 2.05 0 2.83L4 21.41c.39.39.9.59 1.41.59.51 0 1.02-.2 1.41-.59l7.78-7.78 2.81-2.81c.8-.78.8-2.07 0-2.86zM5.41 20L4 18.59l7.72-7.72 1.47 1.35L5.41 20z\"/>\n",
              "  </svg>\n",
              "      </button>\n",
              "      \n",
              "  <style>\n",
              "    .colab-df-container {\n",
              "      display:flex;\n",
              "      flex-wrap:wrap;\n",
              "      gap: 12px;\n",
              "    }\n",
              "\n",
              "    .colab-df-convert {\n",
              "      background-color: #E8F0FE;\n",
              "      border: none;\n",
              "      border-radius: 50%;\n",
              "      cursor: pointer;\n",
              "      display: none;\n",
              "      fill: #1967D2;\n",
              "      height: 32px;\n",
              "      padding: 0 0 0 0;\n",
              "      width: 32px;\n",
              "    }\n",
              "\n",
              "    .colab-df-convert:hover {\n",
              "      background-color: #E2EBFA;\n",
              "      box-shadow: 0px 1px 2px rgba(60, 64, 67, 0.3), 0px 1px 3px 1px rgba(60, 64, 67, 0.15);\n",
              "      fill: #174EA6;\n",
              "    }\n",
              "\n",
              "    [theme=dark] .colab-df-convert {\n",
              "      background-color: #3B4455;\n",
              "      fill: #D2E3FC;\n",
              "    }\n",
              "\n",
              "    [theme=dark] .colab-df-convert:hover {\n",
              "      background-color: #434B5C;\n",
              "      box-shadow: 0px 1px 3px 1px rgba(0, 0, 0, 0.15);\n",
              "      filter: drop-shadow(0px 1px 2px rgba(0, 0, 0, 0.3));\n",
              "      fill: #FFFFFF;\n",
              "    }\n",
              "  </style>\n",
              "\n",
              "      <script>\n",
              "        const buttonEl =\n",
              "          document.querySelector('#df-a8f36856-2586-43b1-ae1d-2c6c585b97a3 button.colab-df-convert');\n",
              "        buttonEl.style.display =\n",
              "          google.colab.kernel.accessAllowed ? 'block' : 'none';\n",
              "\n",
              "        async function convertToInteractive(key) {\n",
              "          const element = document.querySelector('#df-a8f36856-2586-43b1-ae1d-2c6c585b97a3');\n",
              "          const dataTable =\n",
              "            await google.colab.kernel.invokeFunction('convertToInteractive',\n",
              "                                                     [key], {});\n",
              "          if (!dataTable) return;\n",
              "\n",
              "          const docLinkHtml = 'Like what you see? Visit the ' +\n",
              "            '<a target=\"_blank\" href=https://colab.research.google.com/notebooks/data_table.ipynb>data table notebook</a>'\n",
              "            + ' to learn more about interactive tables.';\n",
              "          element.innerHTML = '';\n",
              "          dataTable['output_type'] = 'display_data';\n",
              "          await google.colab.output.renderOutput(dataTable, element);\n",
              "          const docLink = document.createElement('div');\n",
              "          docLink.innerHTML = docLinkHtml;\n",
              "          element.appendChild(docLink);\n",
              "        }\n",
              "      </script>\n",
              "    </div>\n",
              "  </div>\n",
              "  "
            ],
            "text/plain": [
              "     thresholds        f1\n",
              "571    0.246954  0.477715\n",
              "572    0.246867  0.477509\n",
              "569    0.247231  0.477263\n",
              "570    0.246985  0.477056\n",
              "567    0.247317  0.476810"
            ]
          },
          "execution_count": 66,
          "metadata": {},
          "output_type": "execute_result"
        }
      ],
      "source": [
        "from sklearn.metrics import f1_score\n",
        "f1_ls = []\n",
        "for thres in thresholds:\n",
        "    y_pred = np.where(final_prediction>thres,1,0)\n",
        "    f1_ls.append(f1_score(y_test, y_pred))\n",
        "    \n",
        "f1_ls = pd.concat([pd.Series(thresholds), pd.Series(f1_ls)],\n",
        "                        axis=1)\n",
        "f1_ls.columns = ['thresholds', 'f1']\n",
        "f1_ls.sort_values(by='f1', ascending=False, inplace=True)\n",
        "f1_ls.head()"
      ]
    },
    {
      "cell_type": "code",
      "execution_count": null,
      "metadata": {
        "id": "OB3zFm2a12G_"
      },
      "outputs": [],
      "source": [
        "# Import module for data manipulation\n",
        "import pandas as pd\n",
        "# Import module for linear algebra\n",
        "import numpy as np\n",
        "# Import module for data simulation\n",
        "from sklearn.datasets import make_classification     # Create a synthetic dataframe\n",
        "from sklearn.linear_model import LogisticRegression  # Classification model\n",
        "from sklearn.model_selection import train_test_split # Split the dataframe\n",
        "from sklearn.metrics import roc_curve                # Calculate the ROC curve\n",
        "from sklearn.metrics import precision_recall_curve   # Calculate the Precision-Recall curve\n",
        "from sklearn.metrics import f1_score                 # Calculate the F-score\n",
        "# Import module for data visualization\n",
        "from plotnine import *\n",
        "import plotnine"
      ]
    },
    {
      "cell_type": "code",
      "execution_count": null,
      "metadata": {
        "id": "m_9JhN494ecB"
      },
      "outputs": [],
      "source": [
        "X_train, X_test, y_train, y_test = train_test_split(X, y, test_size = 0.2, random_state=42)"
      ]
    },
    {
      "cell_type": "code",
      "execution_count": null,
      "metadata": {
        "id": "CM8DWbsS4n1o"
      },
      "outputs": [],
      "source": [
        "from sklearn.preprocessing import LabelEncoder\n",
        "\n",
        "encode = LabelEncoder()\n",
        "y_train = encode.fit_transform(y_train)\n",
        "y_test = encode.fit_transform(y_test)\n"
      ]
    },
    {
      "cell_type": "code",
      "execution_count": null,
      "metadata": {
        "colab": {
          "base_uri": "https://localhost:8080/"
        },
        "id": "TAMm4zDv2HE0",
        "outputId": "c39679c7-d88a-493a-a54a-11cd75f24e46"
      },
      "outputs": [
        {
          "data": {
            "text/plain": [
              "LogisticRegression(random_state=0)"
            ]
          },
          "execution_count": 103,
          "metadata": {},
          "output_type": "execute_result"
        }
      ],
      "source": [
        "reglogModel = LogisticRegression(random_state = 0)\n",
        "reglogModel.fit(X_train, y_train)"
      ]
    },
    {
      "cell_type": "code",
      "execution_count": null,
      "metadata": {
        "id": "a2SOD0ZV2S_E"
      },
      "outputs": [],
      "source": [
        "# Predict the probabilities\n",
        "y_pred = reglogModel.predict_proba(X_test)"
      ]
    },
    {
      "cell_type": "code",
      "execution_count": null,
      "metadata": {
        "id": "4IG1FPjF2NgI"
      },
      "outputs": [],
      "source": [
        "# Get the probabilities for positive class\n",
        "y_pred = y_pred[:, 1]"
      ]
    },
    {
      "cell_type": "code",
      "execution_count": null,
      "metadata": {
        "id": "eKXadynp2V8d"
      },
      "outputs": [],
      "source": [
        "# Create the ROC curve\n",
        "fpr, tpr, thresholds = roc_curve(y_test, y_pred)"
      ]
    },
    {
      "cell_type": "code",
      "execution_count": null,
      "metadata": {
        "colab": {
          "base_uri": "https://localhost:8080/",
          "height": 206
        },
        "id": "3c58cjuV2eUh",
        "outputId": "3371301e-9153-4d01-a3c4-4842068f9354"
      },
      "outputs": [
        {
          "data": {
            "text/html": [
              "\n",
              "  <div id=\"df-ab8737ec-143a-4154-8293-04bf05f74571\">\n",
              "    <div class=\"colab-df-container\">\n",
              "      <div>\n",
              "<style scoped>\n",
              "    .dataframe tbody tr th:only-of-type {\n",
              "        vertical-align: middle;\n",
              "    }\n",
              "\n",
              "    .dataframe tbody tr th {\n",
              "        vertical-align: top;\n",
              "    }\n",
              "\n",
              "    .dataframe thead th {\n",
              "        text-align: right;\n",
              "    }\n",
              "</style>\n",
              "<table border=\"1\" class=\"dataframe\">\n",
              "  <thead>\n",
              "    <tr style=\"text-align: right;\">\n",
              "      <th></th>\n",
              "      <th>FPR</th>\n",
              "      <th>TPR</th>\n",
              "      <th>Threshold</th>\n",
              "    </tr>\n",
              "  </thead>\n",
              "  <tbody>\n",
              "    <tr>\n",
              "      <th>0</th>\n",
              "      <td>0.000000</td>\n",
              "      <td>0.000000</td>\n",
              "      <td>1.697760</td>\n",
              "    </tr>\n",
              "    <tr>\n",
              "      <th>1</th>\n",
              "      <td>0.000126</td>\n",
              "      <td>0.000000</td>\n",
              "      <td>0.697760</td>\n",
              "    </tr>\n",
              "    <tr>\n",
              "      <th>2</th>\n",
              "      <td>0.000252</td>\n",
              "      <td>0.000000</td>\n",
              "      <td>0.640817</td>\n",
              "    </tr>\n",
              "    <tr>\n",
              "      <th>3</th>\n",
              "      <td>0.000252</td>\n",
              "      <td>0.003666</td>\n",
              "      <td>0.573205</td>\n",
              "    </tr>\n",
              "    <tr>\n",
              "      <th>4</th>\n",
              "      <td>0.000377</td>\n",
              "      <td>0.003666</td>\n",
              "      <td>0.570699</td>\n",
              "    </tr>\n",
              "  </tbody>\n",
              "</table>\n",
              "</div>\n",
              "      <button class=\"colab-df-convert\" onclick=\"convertToInteractive('df-ab8737ec-143a-4154-8293-04bf05f74571')\"\n",
              "              title=\"Convert this dataframe to an interactive table.\"\n",
              "              style=\"display:none;\">\n",
              "        \n",
              "  <svg xmlns=\"http://www.w3.org/2000/svg\" height=\"24px\"viewBox=\"0 0 24 24\"\n",
              "       width=\"24px\">\n",
              "    <path d=\"M0 0h24v24H0V0z\" fill=\"none\"/>\n",
              "    <path d=\"M18.56 5.44l.94 2.06.94-2.06 2.06-.94-2.06-.94-.94-2.06-.94 2.06-2.06.94zm-11 1L8.5 8.5l.94-2.06 2.06-.94-2.06-.94L8.5 2.5l-.94 2.06-2.06.94zm10 10l.94 2.06.94-2.06 2.06-.94-2.06-.94-.94-2.06-.94 2.06-2.06.94z\"/><path d=\"M17.41 7.96l-1.37-1.37c-.4-.4-.92-.59-1.43-.59-.52 0-1.04.2-1.43.59L10.3 9.45l-7.72 7.72c-.78.78-.78 2.05 0 2.83L4 21.41c.39.39.9.59 1.41.59.51 0 1.02-.2 1.41-.59l7.78-7.78 2.81-2.81c.8-.78.8-2.07 0-2.86zM5.41 20L4 18.59l7.72-7.72 1.47 1.35L5.41 20z\"/>\n",
              "  </svg>\n",
              "      </button>\n",
              "      \n",
              "  <style>\n",
              "    .colab-df-container {\n",
              "      display:flex;\n",
              "      flex-wrap:wrap;\n",
              "      gap: 12px;\n",
              "    }\n",
              "\n",
              "    .colab-df-convert {\n",
              "      background-color: #E8F0FE;\n",
              "      border: none;\n",
              "      border-radius: 50%;\n",
              "      cursor: pointer;\n",
              "      display: none;\n",
              "      fill: #1967D2;\n",
              "      height: 32px;\n",
              "      padding: 0 0 0 0;\n",
              "      width: 32px;\n",
              "    }\n",
              "\n",
              "    .colab-df-convert:hover {\n",
              "      background-color: #E2EBFA;\n",
              "      box-shadow: 0px 1px 2px rgba(60, 64, 67, 0.3), 0px 1px 3px 1px rgba(60, 64, 67, 0.15);\n",
              "      fill: #174EA6;\n",
              "    }\n",
              "\n",
              "    [theme=dark] .colab-df-convert {\n",
              "      background-color: #3B4455;\n",
              "      fill: #D2E3FC;\n",
              "    }\n",
              "\n",
              "    [theme=dark] .colab-df-convert:hover {\n",
              "      background-color: #434B5C;\n",
              "      box-shadow: 0px 1px 3px 1px rgba(0, 0, 0, 0.15);\n",
              "      filter: drop-shadow(0px 1px 2px rgba(0, 0, 0, 0.3));\n",
              "      fill: #FFFFFF;\n",
              "    }\n",
              "  </style>\n",
              "\n",
              "      <script>\n",
              "        const buttonEl =\n",
              "          document.querySelector('#df-ab8737ec-143a-4154-8293-04bf05f74571 button.colab-df-convert');\n",
              "        buttonEl.style.display =\n",
              "          google.colab.kernel.accessAllowed ? 'block' : 'none';\n",
              "\n",
              "        async function convertToInteractive(key) {\n",
              "          const element = document.querySelector('#df-ab8737ec-143a-4154-8293-04bf05f74571');\n",
              "          const dataTable =\n",
              "            await google.colab.kernel.invokeFunction('convertToInteractive',\n",
              "                                                     [key], {});\n",
              "          if (!dataTable) return;\n",
              "\n",
              "          const docLinkHtml = 'Like what you see? Visit the ' +\n",
              "            '<a target=\"_blank\" href=https://colab.research.google.com/notebooks/data_table.ipynb>data table notebook</a>'\n",
              "            + ' to learn more about interactive tables.';\n",
              "          element.innerHTML = '';\n",
              "          dataTable['output_type'] = 'display_data';\n",
              "          await google.colab.output.renderOutput(dataTable, element);\n",
              "          const docLink = document.createElement('div');\n",
              "          docLink.innerHTML = docLinkHtml;\n",
              "          element.appendChild(docLink);\n",
              "        }\n",
              "      </script>\n",
              "    </div>\n",
              "  </div>\n",
              "  "
            ],
            "text/plain": [
              "        FPR       TPR  Threshold\n",
              "0  0.000000  0.000000   1.697760\n",
              "1  0.000126  0.000000   0.697760\n",
              "2  0.000252  0.000000   0.640817\n",
              "3  0.000252  0.003666   0.573205\n",
              "4  0.000377  0.003666   0.570699"
            ]
          },
          "execution_count": 107,
          "metadata": {},
          "output_type": "execute_result"
        }
      ],
      "source": [
        "# Plot the ROC curve\n",
        "df_fpr_tpr = pd.DataFrame({'FPR':fpr, 'TPR':tpr, 'Threshold':thresholds})\n",
        "df_fpr_tpr.head()"
      ]
    },
    {
      "cell_type": "code",
      "execution_count": null,
      "metadata": {
        "colab": {
          "base_uri": "https://localhost:8080/",
          "height": 503
        },
        "id": "4_Awjl0Z2pPY",
        "outputId": "757d0f2d-43f4-4e45-f718-0e4f2be350dc"
      },
      "outputs": [
        {
          "data": {
            "image/png": "[encoded data removed]",
            "text/plain": [
              "<Figure size 800x480 with 1 Axes>"
            ]
          },
          "metadata": {},
          "output_type": "display_data"
        },
        {
          "data": {
            "text/plain": [
              "<ggplot: (8775413301841)>"
            ]
          },
          "execution_count": 108,
          "metadata": {},
          "output_type": "execute_result"
        }
      ],
      "source": [
        "plotnine.options.figure_size = (8, 4.8)\n",
        "(\n",
        "    ggplot(data = df_fpr_tpr)+\n",
        "    geom_point(aes(x = 'FPR',\n",
        "                   y = 'TPR'),\n",
        "               size = 0.4)+\n",
        "    geom_line(aes(x = 'FPR',\n",
        "                  y = 'TPR'))+\n",
        "    labs(title = 'ROC Curve')+\n",
        "    xlab('False Positive Rate (FPR)')+\n",
        "    ylab('True Positive Rate (TPR)')+\n",
        "    theme_minimal()\n",
        ")"
      ]
    },
    {
      "cell_type": "code",
      "execution_count": null,
      "metadata": {
        "id": "2Y4xl00p2wPs"
      },
      "outputs": [],
      "source": [
        "# Calculate the G-mean\n",
        "gmean = np.sqrt(tpr * (1 - fpr))"
      ]
    },
    {
      "cell_type": "code",
      "execution_count": null,
      "metadata": {
        "colab": {
          "base_uri": "https://localhost:8080/"
        },
        "id": "ZaZ3rzbn20th",
        "outputId": "2ca347f1-4ddd-4074-9e97-6c6f2e942c24"
      },
      "outputs": [
        {
          "name": "stdout",
          "output_type": "stream",
          "text": [
            "Best Threshold: 0.1303 with G-Mean: 0.6691\n",
            "FPR: 0.3012, TPR: 0.6407\n"
          ]
        }
      ],
      "source": [
        "# Find the optimal threshold\n",
        "index = np.argmax(gmean)\n",
        "thresholdOpt = round(thresholds[index], ndigits = 4)\n",
        "gmeanOpt = round(gmean[index], ndigits = 4)\n",
        "fprOpt = round(fpr[index], ndigits = 4)\n",
        "tprOpt = round(tpr[index], ndigits = 4)\n",
        "print('Best Threshold: {} with G-Mean: {}'.format(thresholdOpt, gmeanOpt))\n",
        "print('FPR: {}, TPR: {}'.format(fprOpt, tprOpt))"
      ]
    },
    {
      "cell_type": "code",
      "execution_count": null,
      "metadata": {
        "colab": {
          "base_uri": "https://localhost:8080/",
          "height": 503
        },
        "id": "M5bKDQcX26uG",
        "outputId": "5dbec8a4-1da5-4c54-bfe4-cc186a3d73cc"
      },
      "outputs": [
        {
          "data": {
            "image/png": "[encoded data removed]",
            "text/plain": [
              "<Figure size 800x480 with 1 Axes>"
            ]
          },
          "metadata": {},
          "output_type": "display_data"
        },
        {
          "data": {
            "text/plain": [
              "<ggplot: (8775408750689)>"
            ]
          },
          "execution_count": 111,
          "metadata": {},
          "output_type": "execute_result"
        }
      ],
      "source": [
        "plotnine.options.figure_size = (8, 4.8)\n",
        "(\n",
        "    ggplot(data = df_fpr_tpr)+\n",
        "    geom_point(aes(x = 'FPR',\n",
        "                   y = 'TPR'),\n",
        "               size = 0.4)+\n",
        "    # Best threshold\n",
        "    geom_point(aes(x = fprOpt,\n",
        "                   y = tprOpt),\n",
        "               color = '#981220',\n",
        "               size = 4)+\n",
        "    geom_line(aes(x = 'FPR',\n",
        "                  y = 'TPR'))+\n",
        "    geom_text(aes(x = fprOpt,\n",
        "                  y = tprOpt),\n",
        "              label = 'Optimal threshold \\n for class: {}'.format(thresholdOpt),\n",
        "              nudge_x = 0.14,\n",
        "              nudge_y = -0.10,\n",
        "              size = 10,\n",
        "              fontstyle = 'italic')+\n",
        "    labs(title = 'ROC Curve')+\n",
        "    xlab('False Positive Rate (FPR)')+\n",
        "    ylab('True Positive Rate (TPR)')+\n",
        "    theme_minimal()\n",
        ")"
      ]
    },
    {
      "cell_type": "code",
      "execution_count": null,
      "metadata": {
        "id": "XGG44_JH3DIs"
      },
      "outputs": [],
      "source": [
        "youdenJ = tpr - fpr"
      ]
    },
    {
      "cell_type": "code",
      "execution_count": null,
      "metadata": {
        "colab": {
          "base_uri": "https://localhost:8080/"
        },
        "id": "OUBLnW323HPr",
        "outputId": "07a8b174-dfd5-44fb-f889-8a832d533502"
      },
      "outputs": [
        {
          "name": "stdout",
          "output_type": "stream",
          "text": [
            "Best Threshold: 0.1388 with Youden J statistic: 0.6683\n",
            "FPR: 0.2674, TPR: 0.6095\n"
          ]
        }
      ],
      "source": [
        "# Find the optimal threshold\n",
        "index = np.argmax(youdenJ)\n",
        "thresholdOpt = round(thresholds[index], ndigits = 4)\n",
        "youdenJOpt = round(gmean[index], ndigits = 4)\n",
        "fprOpt = round(fpr[index], ndigits = 4)\n",
        "tprOpt = round(tpr[index], ndigits = 4)\n",
        "print('Best Threshold: {} with Youden J statistic: {}'.format(thresholdOpt, youdenJOpt))\n",
        "print('FPR: {}, TPR: {}'.format(fprOpt, tprOpt))"
      ]
    },
    {
      "cell_type": "code",
      "execution_count": null,
      "metadata": {
        "colab": {
          "base_uri": "https://localhost:8080/",
          "height": 503
        },
        "id": "6l_lGvHE3HMG",
        "outputId": "7016135f-88d7-42bd-9849-91fa7dbd8e86"
      },
      "outputs": [
        {
          "data": {
            "image/png": "[encoded data removed]",
            "text/plain": [
              "<Figure size 800x480 with 1 Axes>"
            ]
          },
          "metadata": {},
          "output_type": "display_data"
        },
        {
          "data": {
            "text/plain": [
              "<ggplot: (8775413988173)>"
            ]
          },
          "execution_count": 114,
          "metadata": {},
          "output_type": "execute_result"
        }
      ],
      "source": [
        "plotnine.options.figure_size = (8, 4.8)\n",
        "(\n",
        "    ggplot(data = df_fpr_tpr)+\n",
        "    geom_point(aes(x = 'FPR',\n",
        "                   y = 'TPR'),\n",
        "               size = 0.4)+\n",
        "    # Best threshold\n",
        "    geom_point(aes(x = fprOpt,\n",
        "                   y = tprOpt),\n",
        "               color = '#981220',\n",
        "               size = 4)+\n",
        "    geom_line(aes(x = 'FPR',\n",
        "                  y = 'TPR'))+\n",
        "    # Annotate the text\n",
        "    geom_text(aes(x = fprOpt,\n",
        "                  y = tprOpt),\n",
        "              label = 'Optimal threshold \\n for class: {}'.format(thresholdOpt),\n",
        "              nudge_x = 0.14,\n",
        "              nudge_y = -0.10,\n",
        "              size = 10,\n",
        "              fontstyle = 'italic')+\n",
        "    labs(title = 'ROC Curve')+\n",
        "    xlab('False Positive Rate (FPR)')+\n",
        "    ylab('True Positive Rate (TPR)')+\n",
        "    theme_minimal()\n",
        ")"
      ]
    },
    {
      "cell_type": "code",
      "execution_count": null,
      "metadata": {
        "id": "rvVI7wHN3HEF"
      },
      "outputs": [],
      "source": [
        "# Create the Precision-Recall curve\n",
        "precision, recall, thresholds = precision_recall_curve(y_test, y_pred)"
      ]
    },
    {
      "cell_type": "code",
      "execution_count": null,
      "metadata": {
        "colab": {
          "base_uri": "https://localhost:8080/",
          "height": 206
        },
        "id": "G-vpoFjE3V46",
        "outputId": "4db37a49-1e94-4fdb-dae2-9b9e3c420e44"
      },
      "outputs": [
        {
          "data": {
            "text/html": [
              "\n",
              "  <div id=\"df-3268bdfc-058d-48a3-ae26-90953c20494f\">\n",
              "    <div class=\"colab-df-container\">\n",
              "      <div>\n",
              "<style scoped>\n",
              "    .dataframe tbody tr th:only-of-type {\n",
              "        vertical-align: middle;\n",
              "    }\n",
              "\n",
              "    .dataframe tbody tr th {\n",
              "        vertical-align: top;\n",
              "    }\n",
              "\n",
              "    .dataframe thead th {\n",
              "        text-align: right;\n",
              "    }\n",
              "</style>\n",
              "<table border=\"1\" class=\"dataframe\">\n",
              "  <thead>\n",
              "    <tr style=\"text-align: right;\">\n",
              "      <th></th>\n",
              "      <th>Precision</th>\n",
              "      <th>Recall</th>\n",
              "      <th>Threshold</th>\n",
              "    </tr>\n",
              "  </thead>\n",
              "  <tbody>\n",
              "    <tr>\n",
              "      <th>0</th>\n",
              "      <td>0.121195</td>\n",
              "      <td>1.000000</td>\n",
              "      <td>0.011820</td>\n",
              "    </tr>\n",
              "    <tr>\n",
              "      <th>1</th>\n",
              "      <td>0.121098</td>\n",
              "      <td>0.999083</td>\n",
              "      <td>0.011851</td>\n",
              "    </tr>\n",
              "    <tr>\n",
              "      <th>2</th>\n",
              "      <td>0.121111</td>\n",
              "      <td>0.999083</td>\n",
              "      <td>0.011901</td>\n",
              "    </tr>\n",
              "    <tr>\n",
              "      <th>3</th>\n",
              "      <td>0.121125</td>\n",
              "      <td>0.999083</td>\n",
              "      <td>0.012248</td>\n",
              "    </tr>\n",
              "    <tr>\n",
              "      <th>4</th>\n",
              "      <td>0.121138</td>\n",
              "      <td>0.999083</td>\n",
              "      <td>0.012459</td>\n",
              "    </tr>\n",
              "  </tbody>\n",
              "</table>\n",
              "</div>\n",
              "      <button class=\"colab-df-convert\" onclick=\"convertToInteractive('df-3268bdfc-058d-48a3-ae26-90953c20494f')\"\n",
              "              title=\"Convert this dataframe to an interactive table.\"\n",
              "              style=\"display:none;\">\n",
              "        \n",
              "  <svg xmlns=\"http://www.w3.org/2000/svg\" height=\"24px\"viewBox=\"0 0 24 24\"\n",
              "       width=\"24px\">\n",
              "    <path d=\"M0 0h24v24H0V0z\" fill=\"none\"/>\n",
              "    <path d=\"M18.56 5.44l.94 2.06.94-2.06 2.06-.94-2.06-.94-.94-2.06-.94 2.06-2.06.94zm-11 1L8.5 8.5l.94-2.06 2.06-.94-2.06-.94L8.5 2.5l-.94 2.06-2.06.94zm10 10l.94 2.06.94-2.06 2.06-.94-2.06-.94-.94-2.06-.94 2.06-2.06.94z\"/><path d=\"M17.41 7.96l-1.37-1.37c-.4-.4-.92-.59-1.43-.59-.52 0-1.04.2-1.43.59L10.3 9.45l-7.72 7.72c-.78.78-.78 2.05 0 2.83L4 21.41c.39.39.9.59 1.41.59.51 0 1.02-.2 1.41-.59l7.78-7.78 2.81-2.81c.8-.78.8-2.07 0-2.86zM5.41 20L4 18.59l7.72-7.72 1.47 1.35L5.41 20z\"/>\n",
              "  </svg>\n",
              "      </button>\n",
              "      \n",
              "  <style>\n",
              "    .colab-df-container {\n",
              "      display:flex;\n",
              "      flex-wrap:wrap;\n",
              "      gap: 12px;\n",
              "    }\n",
              "\n",
              "    .colab-df-convert {\n",
              "      background-color: #E8F0FE;\n",
              "      border: none;\n",
              "      border-radius: 50%;\n",
              "      cursor: pointer;\n",
              "      display: none;\n",
              "      fill: #1967D2;\n",
              "      height: 32px;\n",
              "      padding: 0 0 0 0;\n",
              "      width: 32px;\n",
              "    }\n",
              "\n",
              "    .colab-df-convert:hover {\n",
              "      background-color: #E2EBFA;\n",
              "      box-shadow: 0px 1px 2px rgba(60, 64, 67, 0.3), 0px 1px 3px 1px rgba(60, 64, 67, 0.15);\n",
              "      fill: #174EA6;\n",
              "    }\n",
              "\n",
              "    [theme=dark] .colab-df-convert {\n",
              "      background-color: #3B4455;\n",
              "      fill: #D2E3FC;\n",
              "    }\n",
              "\n",
              "    [theme=dark] .colab-df-convert:hover {\n",
              "      background-color: #434B5C;\n",
              "      box-shadow: 0px 1px 3px 1px rgba(0, 0, 0, 0.15);\n",
              "      filter: drop-shadow(0px 1px 2px rgba(0, 0, 0, 0.3));\n",
              "      fill: #FFFFFF;\n",
              "    }\n",
              "  </style>\n",
              "\n",
              "      <script>\n",
              "        const buttonEl =\n",
              "          document.querySelector('#df-3268bdfc-058d-48a3-ae26-90953c20494f button.colab-df-convert');\n",
              "        buttonEl.style.display =\n",
              "          google.colab.kernel.accessAllowed ? 'block' : 'none';\n",
              "\n",
              "        async function convertToInteractive(key) {\n",
              "          const element = document.querySelector('#df-3268bdfc-058d-48a3-ae26-90953c20494f');\n",
              "          const dataTable =\n",
              "            await google.colab.kernel.invokeFunction('convertToInteractive',\n",
              "                                                     [key], {});\n",
              "          if (!dataTable) return;\n",
              "\n",
              "          const docLinkHtml = 'Like what you see? Visit the ' +\n",
              "            '<a target=\"_blank\" href=https://colab.research.google.com/notebooks/data_table.ipynb>data table notebook</a>'\n",
              "            + ' to learn more about interactive tables.';\n",
              "          element.innerHTML = '';\n",
              "          dataTable['output_type'] = 'display_data';\n",
              "          await google.colab.output.renderOutput(dataTable, element);\n",
              "          const docLink = document.createElement('div');\n",
              "          docLink.innerHTML = docLinkHtml;\n",
              "          element.appendChild(docLink);\n",
              "        }\n",
              "      </script>\n",
              "    </div>\n",
              "  </div>\n",
              "  "
            ],
            "text/plain": [
              "   Precision    Recall  Threshold\n",
              "0   0.121195  1.000000   0.011820\n",
              "1   0.121098  0.999083   0.011851\n",
              "2   0.121111  0.999083   0.011901\n",
              "3   0.121125  0.999083   0.012248\n",
              "4   0.121138  0.999083   0.012459"
            ]
          },
          "execution_count": 116,
          "metadata": {},
          "output_type": "execute_result"
        }
      ],
      "source": [
        "# Plot the ROC curve\n",
        "df_recall_precision = pd.DataFrame({'Precision':precision[:-1],\n",
        "                                    'Recall':recall[:-1],\n",
        "                                    'Threshold':thresholds})\n",
        "df_recall_precision.head()"
      ]
    },
    {
      "cell_type": "code",
      "execution_count": null,
      "metadata": {
        "colab": {
          "base_uri": "https://localhost:8080/",
          "height": 503
        },
        "id": "Mplj89Wi3a0f",
        "outputId": "f4f010a3-7b22-4236-c790-fc89dc10258b"
      },
      "outputs": [
        {
          "data": {
            "image/png": "[encoded data removed]",
            "text/plain": [
              "<Figure size 800x480 with 1 Axes>"
            ]
          },
          "metadata": {},
          "output_type": "display_data"
        },
        {
          "data": {
            "text/plain": [
              "<ggplot: (8775413324449)>"
            ]
          },
          "execution_count": 117,
          "metadata": {},
          "output_type": "execute_result"
        }
      ],
      "source": [
        "plotnine.options.figure_size = (8, 4.8)\n",
        "(\n",
        "    ggplot(data = df_recall_precision)+\n",
        "    geom_point(aes(x = 'Recall',\n",
        "                   y = 'Precision'),\n",
        "               size = 0.4)+\n",
        "    geom_line(aes(x = 'Recall',\n",
        "                  y = 'Precision'))+\n",
        "    labs(title = 'Precision Recall Curve')+\n",
        "    xlab('Recall')+\n",
        "    ylab('Precision')+\n",
        "    theme_minimal()\n",
        ")"
      ]
    },
    {
      "cell_type": "code",
      "execution_count": null,
      "metadata": {
        "id": "o4Fk6S8Q3hup"
      },
      "outputs": [],
      "source": [
        "# Calculate the f-score\n",
        "fscore = (2 * precision * recall) / (precision + recall)"
      ]
    },
    {
      "cell_type": "code",
      "execution_count": null,
      "metadata": {
        "colab": {
          "base_uri": "https://localhost:8080/"
        },
        "id": "x2ETqIRq3nhv",
        "outputId": "bd23378f-1621-43d3-83cd-73ad977e208a"
      },
      "outputs": [
        {
          "name": "stdout",
          "output_type": "stream",
          "text": [
            "Best Threshold: 0.6408 with F-Score: nan\n",
            "Recall: 0.0, Precision: 0.0\n"
          ]
        }
      ],
      "source": [
        "# Find the optimal threshold\n",
        "index = np.argmax(fscore)\n",
        "thresholdOpt = round(thresholds[index], ndigits = 4)\n",
        "fscoreOpt = round(fscore[index], ndigits = 4)\n",
        "recallOpt = round(recall[index], ndigits = 4)\n",
        "precisionOpt = round(precision[index], ndigits = 4)\n",
        "print('Best Threshold: {} with F-Score: {}'.format(thresholdOpt, fscoreOpt))\n",
        "print('Recall: {}, Precision: {}'.format(recallOpt, precisionOpt))"
      ]
    },
    {
      "cell_type": "code",
      "execution_count": null,
      "metadata": {
        "colab": {
          "base_uri": "https://localhost:8080/",
          "height": 503
        },
        "id": "cvx29daw3ne2",
        "outputId": "e6efb13f-7af1-4c22-abfb-837def8c7599"
      },
      "outputs": [
        {
          "data": {
            "image/png": "[encoded data removed]",
            "text/plain": [
              "<Figure size 800x480 with 1 Axes>"
            ]
          },
          "metadata": {},
          "output_type": "display_data"
        },
        {
          "data": {
            "text/plain": [
              "<ggplot: (8775412524533)>"
            ]
          },
          "execution_count": 120,
          "metadata": {},
          "output_type": "execute_result"
        }
      ],
      "source": [
        "plotnine.options.figure_size = (8, 4.8)\n",
        "(\n",
        "    ggplot(data = df_recall_precision)+\n",
        "    geom_point(aes(x = 'Recall',\n",
        "                   y = 'Precision'),\n",
        "               size = 0.4)+\n",
        "    # Best threshold\n",
        "    geom_point(aes(x = recallOpt,\n",
        "                   y = precisionOpt),\n",
        "               color = '#981220',\n",
        "               size = 4)+\n",
        "    geom_line(aes(x = 'Recall',\n",
        "                  y = 'Precision'))+\n",
        "    # Annotate the text\n",
        "    geom_text(aes(x = recallOpt,\n",
        "                  y = precisionOpt),\n",
        "              label = 'Optimal threshold \\n for class: {}'.format(thresholdOpt),\n",
        "              nudge_x = 0.18,\n",
        "              nudge_y = 0,\n",
        "              size = 10,\n",
        "              fontstyle = 'italic')+\n",
        "    labs(title = 'Precision Recall Curve')+\n",
        "    xlab('Recall')+\n",
        "    ylab('Precision')+\n",
        "    theme_minimal()\n",
        ")"
      ]
    },
    {
      "cell_type": "code",
      "execution_count": null,
      "metadata": {
        "colab": {
          "base_uri": "https://localhost:8080/"
        },
        "id": "XjBZKRUP3nbO",
        "outputId": "e9b5eeda-d59c-4013-d4f4-9738d247f931"
      },
      "outputs": [
        {
          "name": "stdout",
          "output_type": "stream",
          "text": [
            "Length of sequence: 10000\n"
          ]
        }
      ],
      "source": [
        "# Array for finding the optimal threshold\n",
        "thresholds = np.arange(0.0, 1.0, 0.0001)\n",
        "fscore = np.zeros(shape=(len(thresholds)))\n",
        "print('Length of sequence: {}'.format(len(thresholds)))"
      ]
    },
    {
      "cell_type": "code",
      "execution_count": null,
      "metadata": {
        "id": "7CpGoH0b3nXh"
      },
      "outputs": [],
      "source": [
        "# Fit the model\n",
        "for index, elem in enumerate(thresholds):\n",
        "    # Corrected probabilities\n",
        "    y_pred_prob = (y_pred > elem).astype('int')\n",
        "    # Calculate the f-score\n",
        "    fscore[index] = f1_score(y_test, y_pred_prob)"
      ]
    },
    {
      "cell_type": "code",
      "execution_count": null,
      "metadata": {
        "colab": {
          "base_uri": "https://localhost:8080/"
        },
        "id": "wdywXQOe3_1X",
        "outputId": "b2acd0d9-42fe-45c8-e23b-6c14cc7c9dcc"
      },
      "outputs": [
        {
          "name": "stdout",
          "output_type": "stream",
          "text": [
            "Best Threshold: 0.1828 with F-Score: 0.3649\n"
          ]
        }
      ],
      "source": [
        "# Find the optimal threshold\n",
        "index = np.argmax(fscore)\n",
        "thresholdOpt = round(thresholds[index], ndigits = 4)\n",
        "fscoreOpt = round(fscore[index], ndigits = 4)\n",
        "print('Best Threshold: {} with F-Score: {}'.format(thresholdOpt, fscoreOpt))"
      ]
    },
    {
      "cell_type": "code",
      "execution_count": null,
      "metadata": {
        "colab": {
          "base_uri": "https://localhost:8080/",
          "height": 206
        },
        "id": "66R2_xkQ4EJ9",
        "outputId": "98079dd4-af25-470b-c437-4f14422b1b3e"
      },
      "outputs": [
        {
          "data": {
            "text/html": [
              "\n",
              "  <div id=\"df-ece1407c-182e-411e-9bff-9c3bc7993562\">\n",
              "    <div class=\"colab-df-container\">\n",
              "      <div>\n",
              "<style scoped>\n",
              "    .dataframe tbody tr th:only-of-type {\n",
              "        vertical-align: middle;\n",
              "    }\n",
              "\n",
              "    .dataframe tbody tr th {\n",
              "        vertical-align: top;\n",
              "    }\n",
              "\n",
              "    .dataframe thead th {\n",
              "        text-align: right;\n",
              "    }\n",
              "</style>\n",
              "<table border=\"1\" class=\"dataframe\">\n",
              "  <thead>\n",
              "    <tr style=\"text-align: right;\">\n",
              "      <th></th>\n",
              "      <th>F-score</th>\n",
              "      <th>Threshold</th>\n",
              "    </tr>\n",
              "  </thead>\n",
              "  <tbody>\n",
              "    <tr>\n",
              "      <th>0</th>\n",
              "      <td>0.215315</td>\n",
              "      <td>0.0000</td>\n",
              "    </tr>\n",
              "    <tr>\n",
              "      <th>1</th>\n",
              "      <td>0.215315</td>\n",
              "      <td>0.0001</td>\n",
              "    </tr>\n",
              "    <tr>\n",
              "      <th>2</th>\n",
              "      <td>0.215315</td>\n",
              "      <td>0.0002</td>\n",
              "    </tr>\n",
              "    <tr>\n",
              "      <th>3</th>\n",
              "      <td>0.215315</td>\n",
              "      <td>0.0003</td>\n",
              "    </tr>\n",
              "    <tr>\n",
              "      <th>4</th>\n",
              "      <td>0.215336</td>\n",
              "      <td>0.0004</td>\n",
              "    </tr>\n",
              "  </tbody>\n",
              "</table>\n",
              "</div>\n",
              "      <button class=\"colab-df-convert\" onclick=\"convertToInteractive('df-ece1407c-182e-411e-9bff-9c3bc7993562')\"\n",
              "              title=\"Convert this dataframe to an interactive table.\"\n",
              "              style=\"display:none;\">\n",
              "        \n",
              "  <svg xmlns=\"http://www.w3.org/2000/svg\" height=\"24px\"viewBox=\"0 0 24 24\"\n",
              "       width=\"24px\">\n",
              "    <path d=\"M0 0h24v24H0V0z\" fill=\"none\"/>\n",
              "    <path d=\"M18.56 5.44l.94 2.06.94-2.06 2.06-.94-2.06-.94-.94-2.06-.94 2.06-2.06.94zm-11 1L8.5 8.5l.94-2.06 2.06-.94-2.06-.94L8.5 2.5l-.94 2.06-2.06.94zm10 10l.94 2.06.94-2.06 2.06-.94-2.06-.94-.94-2.06-.94 2.06-2.06.94z\"/><path d=\"M17.41 7.96l-1.37-1.37c-.4-.4-.92-.59-1.43-.59-.52 0-1.04.2-1.43.59L10.3 9.45l-7.72 7.72c-.78.78-.78 2.05 0 2.83L4 21.41c.39.39.9.59 1.41.59.51 0 1.02-.2 1.41-.59l7.78-7.78 2.81-2.81c.8-.78.8-2.07 0-2.86zM5.41 20L4 18.59l7.72-7.72 1.47 1.35L5.41 20z\"/>\n",
              "  </svg>\n",
              "      </button>\n",
              "      \n",
              "  <style>\n",
              "    .colab-df-container {\n",
              "      display:flex;\n",
              "      flex-wrap:wrap;\n",
              "      gap: 12px;\n",
              "    }\n",
              "\n",
              "    .colab-df-convert {\n",
              "      background-color: #E8F0FE;\n",
              "      border: none;\n",
              "      border-radius: 50%;\n",
              "      cursor: pointer;\n",
              "      display: none;\n",
              "      fill: #1967D2;\n",
              "      height: 32px;\n",
              "      padding: 0 0 0 0;\n",
              "      width: 32px;\n",
              "    }\n",
              "\n",
              "    .colab-df-convert:hover {\n",
              "      background-color: #E2EBFA;\n",
              "      box-shadow: 0px 1px 2px rgba(60, 64, 67, 0.3), 0px 1px 3px 1px rgba(60, 64, 67, 0.15);\n",
              "      fill: #174EA6;\n",
              "    }\n",
              "\n",
              "    [theme=dark] .colab-df-convert {\n",
              "      background-color: #3B4455;\n",
              "      fill: #D2E3FC;\n",
              "    }\n",
              "\n",
              "    [theme=dark] .colab-df-convert:hover {\n",
              "      background-color: #434B5C;\n",
              "      box-shadow: 0px 1px 3px 1px rgba(0, 0, 0, 0.15);\n",
              "      filter: drop-shadow(0px 1px 2px rgba(0, 0, 0, 0.3));\n",
              "      fill: #FFFFFF;\n",
              "    }\n",
              "  </style>\n",
              "\n",
              "      <script>\n",
              "        const buttonEl =\n",
              "          document.querySelector('#df-ece1407c-182e-411e-9bff-9c3bc7993562 button.colab-df-convert');\n",
              "        buttonEl.style.display =\n",
              "          google.colab.kernel.accessAllowed ? 'block' : 'none';\n",
              "\n",
              "        async function convertToInteractive(key) {\n",
              "          const element = document.querySelector('#df-ece1407c-182e-411e-9bff-9c3bc7993562');\n",
              "          const dataTable =\n",
              "            await google.colab.kernel.invokeFunction('convertToInteractive',\n",
              "                                                     [key], {});\n",
              "          if (!dataTable) return;\n",
              "\n",
              "          const docLinkHtml = 'Like what you see? Visit the ' +\n",
              "            '<a target=\"_blank\" href=https://colab.research.google.com/notebooks/data_table.ipynb>data table notebook</a>'\n",
              "            + ' to learn more about interactive tables.';\n",
              "          element.innerHTML = '';\n",
              "          dataTable['output_type'] = 'display_data';\n",
              "          await google.colab.output.renderOutput(dataTable, element);\n",
              "          const docLink = document.createElement('div');\n",
              "          docLink.innerHTML = docLinkHtml;\n",
              "          element.appendChild(docLink);\n",
              "        }\n",
              "      </script>\n",
              "    </div>\n",
              "  </div>\n",
              "  "
            ],
            "text/plain": [
              "    F-score  Threshold\n",
              "0  0.215315     0.0000\n",
              "1  0.215315     0.0001\n",
              "2  0.215315     0.0002\n",
              "3  0.215315     0.0003\n",
              "4  0.215336     0.0004"
            ]
          },
          "execution_count": 124,
          "metadata": {},
          "output_type": "execute_result"
        }
      ],
      "source": [
        "# Plot the threshold tuning\n",
        "df_threshold_tuning = pd.DataFrame({'F-score':fscore,\n",
        "                                    'Threshold':thresholds})\n",
        "df_threshold_tuning.head()"
      ]
    },
    {
      "cell_type": "code",
      "execution_count": null,
      "metadata": {
        "colab": {
          "base_uri": "https://localhost:8080/",
          "height": 503
        },
        "id": "GN9lfp3Z4KIK",
        "outputId": "6129ccef-13b0-4329-a4dc-7b10bb83a65a"
      },
      "outputs": [
        {
          "data": {
            "image/png": "[encoded data removed]",
            "text/plain": [
              "<Figure size 800x480 with 1 Axes>"
            ]
          },
          "metadata": {},
          "output_type": "display_data"
        },
        {
          "data": {
            "text/plain": [
              "<ggplot: (8775409161361)>"
            ]
          },
          "execution_count": 125,
          "metadata": {},
          "output_type": "execute_result"
        }
      ],
      "source": [
        "plotnine.options.figure_size = (8, 4.8)\n",
        "(\n",
        "    ggplot(data = df_threshold_tuning)+\n",
        "    geom_point(aes(x = 'Threshold',\n",
        "                   y = 'F-score'),\n",
        "               size = 0.4)+\n",
        "    # Best threshold\n",
        "    geom_point(aes(x = thresholdOpt,\n",
        "                   y = fscoreOpt),\n",
        "               color = '#981220',\n",
        "               size = 4)+\n",
        "    geom_line(aes(x = 'Threshold',\n",
        "                   y = 'F-score'))+\n",
        "    # Annotate the text\n",
        "    geom_text(aes(x = thresholdOpt,\n",
        "                  y = fscoreOpt),\n",
        "              label = 'Optimal threshold \\n for class: {}'.format(thresholdOpt),\n",
        "              nudge_x = 0,\n",
        "              nudge_y = -0.10,\n",
        "              size = 10,\n",
        "              fontstyle = 'italic')+\n",
        "    labs(title = 'Threshold Tuning Curve')+\n",
        "    xlab('Threshold')+\n",
        "    ylab('F-score')+\n",
        "    theme_minimal()\n",
        ")"
      ]
    },
    {
      "cell_type": "code",
      "execution_count": null,
      "metadata": {
        "id": "KHKTzTlG9YMF"
      },
      "outputs": [],
      "source": [
        "import xgboost as xgb"
      ]
    },
    {
      "cell_type": "code",
      "execution_count": null,
      "metadata": {
        "id": "CyD63cMS7I_v"
      },
      "outputs": [],
      "source": [
        "xgb = xgb.XGBClassifier(n_estimators=100)\n",
        "xgb.fit(X_train, y_train)\n",
        "\n",
        "threshold = 0.2\n",
        "\n",
        "predicted = xgb.predict_proba(X_test)\n",
        "predicted[:,0] = (predicted[:,0] < threshold).astype('int')\n",
        "predicted[:,1] = (predicted[:,1] >= threshold).astype('int')\n"
      ]
    },
    {
      "cell_type": "code",
      "execution_count": null,
      "metadata": {
        "colab": {
          "base_uri": "https://localhost:8080/"
        },
        "id": "t4GPdPPD7tKr",
        "outputId": "87ead9ed-7bfa-4ff0-8c1b-b5bc794e9f26"
      },
      "outputs": [
        {
          "name": "stdout",
          "output_type": "stream",
          "text": [
            "47.74 %\n"
          ]
        }
      ],
      "source": [
        "f1= f1_score(y_test, predicted[:,1])\n",
        "print(round(f1,4,)*100, \"%\")"
      ]
    },
    {
      "cell_type": "code",
      "execution_count": null,
      "metadata": {
        "id": "xhgDKt2PJ30G"
      },
      "outputs": [],
      "source": [
        "from sklearn.metrics import accuracy_score\n",
        "from sklearn.metrics import precision_score\n",
        "from sklearn.metrics import recall_score"
      ]
    },
    {
      "cell_type": "code",
      "execution_count": null,
      "metadata": {
        "colab": {
          "base_uri": "https://localhost:8080/"
        },
        "id": "aEoGEUvjJWAH",
        "outputId": "65ef9a5b-0521-4b36-dc48-aab8b6db7ae1"
      },
      "outputs": [
        {
          "name": "stdout",
          "output_type": "stream",
          "text": [
            "87.48 %\n"
          ]
        }
      ],
      "source": [
        "ac= accuracy_score(y_test, predicted[:,1])\n",
        "print(round(ac,4,)*100, \"%\")"
      ]
    },
    {
      "cell_type": "code",
      "execution_count": null,
      "metadata": {
        "colab": {
          "base_uri": "https://localhost:8080/"
        },
        "id": "wlNnBwzDKSZL",
        "outputId": "e836890f-8b14-48c3-82ce-5439994fe110"
      },
      "outputs": [
        {
          "name": "stdout",
          "output_type": "stream",
          "text": [
            "85.42 %\n"
          ]
        }
      ],
      "source": [
        "pre= precision_score(y_test, predicted[:,0])\n",
        "print(round(pre,4,)*100, \"%\")"
      ]
    },
    {
      "cell_type": "code",
      "execution_count": null,
      "metadata": {
        "colab": {
          "base_uri": "https://localhost:8080/"
        },
        "id": "7rJn9ICGKfKR",
        "outputId": "ccb4e5bc-f201-418d-a8a3-82d1524b5c68"
      },
      "outputs": [
        {
          "name": "stdout",
          "output_type": "stream",
          "text": [
            "3.7600000000000002 %\n"
          ]
        }
      ],
      "source": [
        "ac= recall_score(y_test, predicted[:,0])\n",
        "print(round(ac,4,)*100, \"%\")"
      ]
    },
    {
      "cell_type": "code",
      "execution_count": null,
      "metadata": {
        "id": "YbEMf8uTJWU5"
      },
      "outputs": [],
      "source": [
        "from sklearn.preprocessing import LabelEncoder\n",
        "\n",
        "encode = LabelEncoder()\n",
        "y_train = encode.fit_transform(y_train)\n",
        "y_test = encode.fit_transform(y_test)\n"
      ]
    },
    {
      "cell_type": "code",
      "execution_count": null,
      "metadata": {
        "colab": {
          "base_uri": "https://localhost:8080/"
        },
        "id": "rKrS7MdUJEAz",
        "outputId": "c86d3d26-bdad-4f41-e6bf-38b2c772a829"
      },
      "outputs": [
        {
          "data": {
            "text/plain": [
              "array([[1.  , 0.  ],\n",
              "       [0.99, 0.01],\n",
              "       [0.87, 0.13],\n",
              "       ...,\n",
              "       [0.99, 0.01],\n",
              "       [1.  , 0.  ],\n",
              "       [0.98, 0.02]])"
            ]
          },
          "execution_count": 169,
          "metadata": {},
          "output_type": "execute_result"
        }
      ],
      "source": [
        "from sklearn.ensemble import RandomForestClassifier\n",
        "rf_model = RandomForestClassifier()\n",
        "rf_model.fit(X_train,y_train)   \n",
        "rf_model.predict_proba(X_test) #probability of the class label"
      ]
    },
    {
      "cell_type": "code",
      "execution_count": null,
      "metadata": {
        "colab": {
          "base_uri": "https://localhost:8080/"
        },
        "id": "I1kJ_YO4JeGy",
        "outputId": "c0316d63-a0b3-4b87-9c1b-9d3def1773f8"
      },
      "outputs": [
        {
          "name": "stdout",
          "output_type": "stream",
          "text": [
            "Threshold 0.2 -- 0.7133263605464132\n",
            "Threshold 0.25 -- 0.6930458207540384\n",
            "Threshold 0.3 -- 0.6797765280961663\n",
            "Threshold 0.35 -- 0.6661397117812281\n",
            "Threshold 0.39999999999999997 -- 0.6548320053224941\n",
            "Threshold 0.44999999999999996 -- 0.6308904066009255\n",
            "Threshold 0.49999999999999994 -- 0.609627287095626\n",
            "Threshold 0.5499999999999999 -- 0.5928129501113002\n",
            "Threshold 0.6 -- 0.579871760351292\n",
            "Threshold 0.65 -- 0.5675956518211007\n",
            "Threshold 0.7000000000000001 -- 0.5437545645089603\n",
            "Threshold 0.7500000000000001 -- 0.5317215506605167\n",
            "---Optimum Threshold --- 0.2 --ROC-- 0.7133263605464132\n"
          ]
        }
      ],
      "source": [
        "step_factor = 0.05 \n",
        "threshold_value = 0.2 \n",
        "roc_score=0\n",
        "predicted_proba = rf_model.predict_proba(X_test) #probability of prediction\n",
        "while threshold_value <=0.8: #continue to check best threshold upto probability 0.8\n",
        "    temp_thresh = threshold_value\n",
        "    predicted = (predicted_proba [:,1] >= temp_thresh).astype('int') #change the class boundary for prediction\n",
        "    print('Threshold',temp_thresh,'--',roc_auc_score(y_test, predicted))\n",
        "    if roc_score<roc_auc_score(y_test, predicted): #store the threshold for best classification\n",
        "        roc_score = roc_auc_score(y_test, predicted)\n",
        "        thrsh_score = threshold_value\n",
        "    threshold_value = threshold_value + step_factor\n",
        "print('---Optimum Threshold ---',thrsh_score,'--ROC--',roc_score)"
      ]
    },
    {
      "cell_type": "code",
      "execution_count": null,
      "metadata": {
        "colab": {
          "base_uri": "https://localhost:8080/"
        },
        "id": "D6sGONkaNC7H",
        "outputId": "c2604bbd-76ea-4a16-f222-1786f01c9908"
      },
      "outputs": [
        {
          "data": {
            "text/plain": [
              "Index([      'age',       'job',   'marital', 'education',   'default',\n",
              "         'balance',   'housing',      'loan',   'contact',       'day',\n",
              "           'month',  'campaign',     'pdays',  'previous',  'poutcome',\n",
              "               'y',  'age_cate',           0,           1,           2,\n",
              "                 3,           4,           5,           6,           7,\n",
              "                 8,           9,          10,          11,          12,\n",
              "                13,          14,          15,          16,          17,\n",
              "                18,          19,          20,          21,          22,\n",
              "                23,          24,          25,          26,          27,\n",
              "                28,          29,          30,          31,          32,\n",
              "                33,          34,          35,          36,          37,\n",
              "                38,          39,          40,          41,          42,\n",
              "                43,          44,          45,          46,          47],\n",
              "      dtype='object')"
            ]
          },
          "execution_count": 185,
          "metadata": {},
          "output_type": "execute_result"
        }
      ],
      "source": [
        "df1.columns"
      ]
    },
    {
      "cell_type": "code",
      "execution_count": null,
      "metadata": {
        "id": "pxM7ys87M1bW"
      },
      "outputs": [],
      "source": [
        "df_train, df_test = train_test_split(df1, test_size=0.2, stratify=df1['y'], random_state=888)\n",
        "\n",
        "features = df_train.drop(columns=['y']).columns"
      ]
    },
    {
      "cell_type": "code",
      "execution_count": null,
      "metadata": {
        "colab": {
          "base_uri": "https://localhost:8080/"
        },
        "id": "d5CNlsdQM1YL",
        "outputId": "6a92fb87-6b3a-4079-86ec-0103b96721f0"
      },
      "outputs": [
        {
          "data": {
            "text/plain": [
              "no     31937\n",
              "yes     4231\n",
              "Name: y, dtype: int64"
            ]
          },
          "execution_count": 188,
          "metadata": {},
          "output_type": "execute_result"
        }
      ],
      "source": [
        "df_train['y'].value_counts()"
      ]
    },
    {
      "cell_type": "code",
      "execution_count": null,
      "metadata": {
        "colab": {
          "base_uri": "https://localhost:8080/"
        },
        "id": "UcY3I5jEM1VZ",
        "outputId": "8eff07c9-f421-4bb0-b498-8c4416af71cd"
      },
      "outputs": [
        {
          "data": {
            "text/plain": [
              "no     7985\n",
              "yes    1058\n",
              "Name: y, dtype: int64"
            ]
          },
          "execution_count": 189,
          "metadata": {},
          "output_type": "execute_result"
        }
      ],
      "source": [
        "df_test['y'].value_counts()"
      ]
    },
    {
      "cell_type": "code",
      "execution_count": null,
      "metadata": {
        "colab": {
          "base_uri": "https://localhost:8080/"
        },
        "id": "0LuplpWUM1MG",
        "outputId": "434bc7e7-f51f-4e6f-b5bc-500357937ea6"
      },
      "outputs": [
        {
          "data": {
            "text/plain": [
              "0.7439796736082424"
            ]
          },
          "execution_count": 198,
          "metadata": {},
          "output_type": "execute_result"
        }
      ],
      "source": [
        "from sklearn.linear_model import LogisticRegression\n",
        "\n",
        "clf_weighted = LogisticRegression(class_weight='balanced', random_state=888)\n",
        "clf_weighted.fit(X_train, y_train)\n",
        "\n",
        "y_pred = clf_weighted.predict_proba(X_test)[:, 1]\n",
        "\n",
        "from sklearn.metrics import roc_auc_score\n",
        "roc_auc_score(y_test, y_pred)\n"
      ]
    },
    {
      "cell_type": "code",
      "execution_count": null,
      "metadata": {
        "colab": {
          "base_uri": "https://localhost:8080/"
        },
        "id": "GqEnjw8ZOxbh",
        "outputId": "9ef22473-f710-4ad6-d6cd-4d47e69f3d84"
      },
      "outputs": [
        {
          "data": {
            "text/plain": [
              "0.7382612483472674"
            ]
          },
          "execution_count": 202,
          "metadata": {},
          "output_type": "execute_result"
        }
      ],
      "source": [
        "from sklearn.linear_model import LogisticRegression\n",
        "\n",
        "clf_weighted = LogisticRegression(class_weight={0: 1, 1: 100}, random_state=888)\n",
        "\n",
        "clf_weighted.fit(X_train, y_train)\n",
        "y_pred = clf_weighted.predict_proba(X_test)[:, 1]\n",
        "\n",
        "from sklearn.metrics import roc_auc_score\n",
        "roc_auc_score(y_test, y_pred)"
      ]
    },
    {
      "cell_type": "code",
      "execution_count": null,
      "metadata": {
        "colab": {
          "base_uri": "https://localhost:8080/"
        },
        "id": "ZIF7Xi0tPE85",
        "outputId": "05f27cec-3b7b-4e09-a516-2840bf746cbb"
      },
      "outputs": [
        {
          "data": {
            "text/plain": [
              "0.7362567810864652"
            ]
          },
          "execution_count": 200,
          "metadata": {},
          "output_type": "execute_result"
        }
      ],
      "source": [
        "from sklearn.linear_model import LogisticRegression\n",
        "clf = LogisticRegression(random_state=888)\n",
        "\n",
        "\n",
        "clf.fit(X_train, y_train)\n",
        "\n",
        "y_pred = clf.predict_proba(X_test)[:, 1]\n",
        "\n",
        "from sklearn.metrics import roc_auc_score\n",
        "roc_auc_score(y_test, y_pred)"
      ]
    },
    {
      "cell_type": "code",
      "execution_count": null,
      "metadata": {
        "colab": {
          "base_uri": "https://localhost:8080/"
        },
        "id": "8ZSJIU-aPlaV",
        "outputId": "112944e9-bf6a-4845-ef39-7c83ee5da316"
      },
      "outputs": [
        {
          "data": {
            "text/plain": [
              "0.7731649489295264"
            ]
          },
          "execution_count": 203,
          "metadata": {},
          "output_type": "execute_result"
        }
      ],
      "source": [
        "from sklearn.ensemble import RandomForestClassifier\n",
        "\n",
        "clf_weighted = RandomForestClassifier(class_weight={0: 1, 1: 100}, random_state=888)\n",
        "\n",
        "clf_weighted.fit(X_train, y_train)\n",
        "y_pred = clf_weighted.predict_proba(X_test)[:, 1]\n",
        "\n",
        "from sklearn.metrics import roc_auc_score\n",
        "roc_auc_score(y_test, y_pred)"
      ]
    },
    {
      "cell_type": "code",
      "execution_count": null,
      "metadata": {
        "id": "3rmgWI0KPwib"
      },
      "outputs": [],
      "source": [
        "import xgboost as xgb"
      ]
    },
    {
      "cell_type": "code",
      "execution_count": null,
      "metadata": {
        "colab": {
          "base_uri": "https://localhost:8080/",
          "height": 356
        },
        "id": "zrjxULhjP11A",
        "outputId": "9d37d568-5f07-4bf5-92db-058aa77857fa"
      },
      "outputs": [
        {
          "ename": "ImportError",
          "evalue": "ignored",
          "output_type": "error",
          "traceback": [
            "\u001b[0;31m---------------------------------------------------------------------------\u001b[0m",
            "\u001b[0;31mImportError\u001b[0m                               Traceback (most recent call last)",
            "\u001b[0;32m<ipython-input-215-07f632217e3b>\u001b[0m in \u001b[0;36m<module>\u001b[0;34m()\u001b[0m\n\u001b[1;32m      6\u001b[0m \u001b[0my_pred\u001b[0m \u001b[0;34m=\u001b[0m \u001b[0mclf_weighted\u001b[0m\u001b[0;34m.\u001b[0m\u001b[0mpredict_proba\u001b[0m\u001b[0;34m(\u001b[0m\u001b[0mX_test\u001b[0m\u001b[0;34m)\u001b[0m\u001b[0;34m[\u001b[0m\u001b[0;34m:\u001b[0m\u001b[0;34m,\u001b[0m \u001b[0;36m1\u001b[0m\u001b[0;34m]\u001b[0m\u001b[0;34m\u001b[0m\u001b[0;34m\u001b[0m\u001b[0m\n\u001b[1;32m      7\u001b[0m \u001b[0;34m\u001b[0m\u001b[0m\n\u001b[0;32m----> 8\u001b[0;31m \u001b[0;32mfrom\u001b[0m \u001b[0msklearn\u001b[0m\u001b[0;34m.\u001b[0m\u001b[0mmetrics\u001b[0m \u001b[0;32mimport\u001b[0m \u001b[0mprecision_recall_score\u001b[0m\u001b[0;34m\u001b[0m\u001b[0;34m\u001b[0m\u001b[0m\n\u001b[0m\u001b[1;32m      9\u001b[0m \u001b[0mprecision_recall_score\u001b[0m\u001b[0;34m(\u001b[0m\u001b[0my_test\u001b[0m\u001b[0;34m,\u001b[0m \u001b[0my_pred\u001b[0m\u001b[0;34m)\u001b[0m\u001b[0;34m\u001b[0m\u001b[0;34m\u001b[0m\u001b[0m\n",
            "\u001b[0;31mImportError\u001b[0m: cannot import name 'precision_recall_score' from 'sklearn.metrics' (/usr/local/lib/python3.7/dist-packages/sklearn/metrics/__init__.py)",
            "",
            "\u001b[0;31m---------------------------------------------------------------------------\u001b[0;32m\nNOTE: If your import is failing due to a missing package, you can\nmanually install dependencies using either !pip or !apt.\n\nTo view examples of installing some common dependencies, click the\n\"Open Examples\" button below.\n\u001b[0;31m---------------------------------------------------------------------------\u001b[0m\n"
          ]
        }
      ],
      "source": [
        "\n",
        "\n",
        "clf_weighted = xgb.XGBClassifier(class_weight={0: 1, 1: 100}, random_state=888)\n",
        "\n",
        "clf_weighted.fit(X_train, y_train)\n",
        "y_pred = clf_weighted.predict_proba(X_test)[:, 1]\n",
        "\n",
        "from sklearn.metrics import precision_recall_score\n",
        "precision_recall_score(y_test, y_pred)"
      ]
    },
    {
      "cell_type": "code",
      "execution_count": null,
      "metadata": {
        "id": "CqGbnk9LmUl5"
      },
      "outputs": [],
      "source": [
        "X_train, X_val, y_train, y_val = train_test_split(X_train, y_train, test_size = 0.15, stratify=y_train, random_state=42)"
      ]
    },
    {
      "cell_type": "code",
      "execution_count": null,
      "metadata": {
        "id": "6AW0kcU4mp9g"
      },
      "outputs": [],
      "source": [
        "from sklearn.metrics import roc_auc_score, f1_score, precision_score, recall_score, accuracy_score, auc, roc_curve"
      ]
    },
    {
      "cell_type": "code",
      "execution_count": null,
      "metadata": {
        "id": "K4Tjjfk-msEc"
      },
      "outputs": [],
      "source": [
        "import xgboost as xgb"
      ]
    },
    {
      "cell_type": "code",
      "execution_count": null,
      "metadata": {
        "id": "xY-SCZL8mxNi"
      },
      "outputs": [],
      "source": [
        "def objective(trial, X_train=X_train, X_val=X_val, y_train=y_train, y_val=y_val):\n",
        "    param = {\n",
        "        'objective' : 'binary:logistic',\n",
        "        'eval_metric' : 'auc',\n",
        "        'lambda': trial.suggest_loguniform('lambda', 1e-3, 10.0),\n",
        "        'alpha': trial.suggest_loguniform('alpha', 1e-3, 10.0),\n",
        "        'colsample_bytree': trial.suggest_float('colsample_bytree', 0.1,1),\n",
        "        'subsample': trial.suggest_categorical('subsample', [0.4,0.5,0.6,0.7,0.8,1.0]),\n",
        "        'learning_rate': trial.suggest_loguniform('learning_rate', 1e-2,0.5),\n",
        "        'n_estimators': trial.suggest_categorical('n_estimators', [1000,1500,2000,2500,3000,3500]),\n",
        "        'max_depth': trial.suggest_int('max_depth', 3,10),\n",
        "        'min_child_weight': trial.suggest_int('min_child_weight', 1, 20),\n",
        "    }\n",
        "\n",
        "\n",
        "    model = xgb.XGBClassifier(**param,use_label_encoder=False)    \n",
        "    model.fit(X_train, y_train, eval_set=[(X_val, y_val)], early_stopping_rounds=100, verbose=False,)   \n",
        "    preds = model.predict(X_val)\n",
        "    score = accuracy_score(y_val, preds)\n",
        "\n",
        "    return score"
      ]
    },
    {
      "cell_type": "code",
      "execution_count": null,
      "metadata": {
        "colab": {
          "base_uri": "https://localhost:8080/"
        },
        "id": "EVvIu1kOnKpd",
        "outputId": "bd16cac8-be35-46a5-d8e7-a641206bef55"
      },
      "outputs": [
        {
          "name": "stdout",
          "output_type": "stream",
          "text": [
            "Collecting optuna\n",
            "  Downloading optuna-2.10.0-py3-none-any.whl (308 kB)\n",
            "\u001b[?25l\r\u001b[K     |█                               | 10 kB 22.1 MB/s eta 0:00:01\r\u001b[K     |██▏                             | 20 kB 19.4 MB/s eta 0:00:01\r\u001b[K     |███▏                            | 30 kB 8.3 MB/s eta 0:00:01\r\u001b[K     |████▎                           | 40 kB 7.4 MB/s eta 0:00:01\r\u001b[K     |█████▎                          | 51 kB 3.5 MB/s eta 0:00:01\r\u001b[K     |██████▍                         | 61 kB 4.0 MB/s eta 0:00:01\r\u001b[K     |███████▍                        | 71 kB 4.5 MB/s eta 0:00:01\r\u001b[K     |████████▌                       | 81 kB 5.0 MB/s eta 0:00:01\r\u001b[K     |█████████▋                      | 92 kB 3.9 MB/s eta 0:00:01\r\u001b[K     |██████████▋                     | 102 kB 4.3 MB/s eta 0:00:01\r\u001b[K     |███████████▊                    | 112 kB 4.3 MB/s eta 0:00:01\r\u001b[K     |████████████▊                   | 122 kB 4.3 MB/s eta 0:00:01\r\u001b[K     |█████████████▉                  | 133 kB 4.3 MB/s eta 0:00:01\r\u001b[K     |██████████████▉                 | 143 kB 4.3 MB/s eta 0:00:01\r\u001b[K     |████████████████                | 153 kB 4.3 MB/s eta 0:00:01\r\u001b[K     |█████████████████               | 163 kB 4.3 MB/s eta 0:00:01\r\u001b[K     |██████████████████              | 174 kB 4.3 MB/s eta 0:00:01\r\u001b[K     |███████████████████▏            | 184 kB 4.3 MB/s eta 0:00:01\r\u001b[K     |████████████████████▏           | 194 kB 4.3 MB/s eta 0:00:01\r\u001b[K     |█████████████████████▎          | 204 kB 4.3 MB/s eta 0:00:01\r\u001b[K     |██████████████████████▎         | 215 kB 4.3 MB/s eta 0:00:01\r\u001b[K     |███████████████████████▍        | 225 kB 4.3 MB/s eta 0:00:01\r\u001b[K     |████████████████████████▌       | 235 kB 4.3 MB/s eta 0:00:01\r\u001b[K     |█████████████████████████▌      | 245 kB 4.3 MB/s eta 0:00:01\r\u001b[K     |██████████████████████████▋     | 256 kB 4.3 MB/s eta 0:00:01\r\u001b[K     |███████████████████████████▋    | 266 kB 4.3 MB/s eta 0:00:01\r\u001b[K     |████████████████████████████▊   | 276 kB 4.3 MB/s eta 0:00:01\r\u001b[K     |█████████████████████████████▊  | 286 kB 4.3 MB/s eta 0:00:01\r\u001b[K     |██████████████████████████████▉ | 296 kB 4.3 MB/s eta 0:00:01\r\u001b[K     |████████████████████████████████| 307 kB 4.3 MB/s eta 0:00:01\r\u001b[K     |████████████████████████████████| 308 kB 4.3 MB/s \n",
            "\u001b[?25hRequirement already satisfied: packaging>=20.0 in /usr/local/lib/python3.7/dist-packages (from optuna) (21.3)\n",
            "Collecting alembic\n",
            "  Downloading alembic-1.7.6-py3-none-any.whl (210 kB)\n",
            "\u001b[K     |████████████████████████████████| 210 kB 27.4 MB/s \n",
            "\u001b[?25hCollecting cmaes>=0.8.2\n",
            "  Downloading cmaes-0.8.2-py3-none-any.whl (15 kB)\n",
            "Requirement already satisfied: sqlalchemy>=1.1.0 in /usr/local/lib/python3.7/dist-packages (from optuna) (1.4.31)\n",
            "Collecting cliff\n",
            "  Downloading cliff-3.10.1-py3-none-any.whl (81 kB)\n",
            "\u001b[K     |████████████████████████████████| 81 kB 8.8 MB/s \n",
            "\u001b[?25hRequirement already satisfied: scipy!=1.4.0 in /usr/local/lib/python3.7/dist-packages (from optuna) (1.4.1)\n",
            "Requirement already satisfied: PyYAML in /usr/local/lib/python3.7/dist-packages (from optuna) (3.13)\n",
            "Requirement already satisfied: tqdm in /usr/local/lib/python3.7/dist-packages (from optuna) (4.62.3)\n",
            "Collecting colorlog\n",
            "  Downloading colorlog-6.6.0-py2.py3-none-any.whl (11 kB)\n",
            "Requirement already satisfied: numpy in /usr/local/lib/python3.7/dist-packages (from optuna) (1.21.5)\n",
            "Requirement already satisfied: pyparsing!=3.0.5,>=2.0.2 in /usr/local/lib/python3.7/dist-packages (from packaging>=20.0->optuna) (3.0.7)\n",
            "Requirement already satisfied: greenlet!=0.4.17 in /usr/local/lib/python3.7/dist-packages (from sqlalchemy>=1.1.0->optuna) (1.1.2)\n",
            "Requirement already satisfied: importlib-metadata in /usr/local/lib/python3.7/dist-packages (from sqlalchemy>=1.1.0->optuna) (4.11.1)\n",
            "Requirement already satisfied: importlib-resources in /usr/local/lib/python3.7/dist-packages (from alembic->optuna) (5.4.0)\n",
            "Collecting Mako\n",
            "  Downloading Mako-1.1.6-py2.py3-none-any.whl (75 kB)\n",
            "\u001b[K     |████████████████████████████████| 75 kB 3.4 MB/s \n",
            "\u001b[?25hCollecting stevedore>=2.0.1\n",
            "  Downloading stevedore-3.5.0-py3-none-any.whl (49 kB)\n",
            "\u001b[K     |████████████████████████████████| 49 kB 5.5 MB/s \n",
            "\u001b[?25hRequirement already satisfied: PrettyTable>=0.7.2 in /usr/local/lib/python3.7/dist-packages (from cliff->optuna) (3.1.1)\n",
            "Collecting cmd2>=1.0.0\n",
            "  Downloading cmd2-2.4.0-py3-none-any.whl (150 kB)\n",
            "\u001b[K     |████████████████████████████████| 150 kB 41.1 MB/s \n",
            "\u001b[?25hCollecting pbr!=2.1.0,>=2.0.0\n",
            "  Downloading pbr-5.8.1-py2.py3-none-any.whl (113 kB)\n",
            "\u001b[K     |████████████████████████████████| 113 kB 43.1 MB/s \n",
            "\u001b[?25hCollecting autopage>=0.4.0\n",
            "  Downloading autopage-0.5.0-py3-none-any.whl (29 kB)\n",
            "Requirement already satisfied: attrs>=16.3.0 in /usr/local/lib/python3.7/dist-packages (from cmd2>=1.0.0->cliff->optuna) (21.4.0)\n",
            "Requirement already satisfied: wcwidth>=0.1.7 in /usr/local/lib/python3.7/dist-packages (from cmd2>=1.0.0->cliff->optuna) (0.2.5)\n",
            "Requirement already satisfied: typing-extensions in /usr/local/lib/python3.7/dist-packages (from cmd2>=1.0.0->cliff->optuna) (3.10.0.2)\n",
            "Collecting pyperclip>=1.6\n",
            "  Downloading pyperclip-1.8.2.tar.gz (20 kB)\n",
            "Requirement already satisfied: zipp>=0.5 in /usr/local/lib/python3.7/dist-packages (from importlib-metadata->sqlalchemy>=1.1.0->optuna) (3.7.0)\n",
            "Requirement already satisfied: MarkupSafe>=0.9.2 in /usr/local/lib/python3.7/dist-packages (from Mako->alembic->optuna) (2.0.1)\n",
            "Building wheels for collected packages: pyperclip\n",
            "  Building wheel for pyperclip (setup.py) ... \u001b[?25l\u001b[?25hdone\n",
            "  Created wheel for pyperclip: filename=pyperclip-1.8.2-py3-none-any.whl size=11137 sha256=4dc5482a13f6686efb5d5a1745152465049ba73d378612b1b005475be126b5f1\n",
            "  Stored in directory: /root/.cache/pip/wheels/9f/18/84/8f69f8b08169c7bae2dde6bd7daf0c19fca8c8e500ee620a28\n",
            "Successfully built pyperclip\n",
            "Installing collected packages: pyperclip, pbr, stevedore, Mako, cmd2, autopage, colorlog, cmaes, cliff, alembic, optuna\n",
            "Successfully installed Mako-1.1.6 alembic-1.7.6 autopage-0.5.0 cliff-3.10.1 cmaes-0.8.2 cmd2-2.4.0 colorlog-6.6.0 optuna-2.10.0 pbr-5.8.1 pyperclip-1.8.2 stevedore-3.5.0\n"
          ]
        }
      ],
      "source": [
        "!pip install optuna"
      ]
    },
    {
      "cell_type": "code",
      "execution_count": null,
      "metadata": {
        "id": "K-Zx_rt3nH4a"
      },
      "outputs": [],
      "source": [
        "import optuna"
      ]
    },
    {
      "cell_type": "code",
      "execution_count": null,
      "metadata": {
        "colab": {
          "base_uri": "https://localhost:8080/"
        },
        "id": "TGDovTQrm8s6",
        "outputId": "dd3e8b13-e6d0-4f5f-bf98-0f1ff8b751c5"
      },
      "outputs": [
        {
          "name": "stderr",
          "output_type": "stream",
          "text": [
            "\u001b[32m[I 2022-02-26 15:09:04,150]\u001b[0m A new study created in memory with name: no-name-ede6c555-4278-49e7-aed2-21a82a0d6a9d\u001b[0m\n",
            "\u001b[32m[I 2022-02-26 15:10:45,890]\u001b[0m Trial 0 finished with value: 0.8986361960928861 and parameters: {'lambda': 0.207496107151182, 'alpha': 1.7471655811418556, 'colsample_bytree': 0.8806633605490509, 'subsample': 0.8, 'learning_rate': 0.012990751234089406, 'n_estimators': 1500, 'max_depth': 5, 'min_child_weight': 17}. Best is trial 0 with value: 0.8986361960928861.\u001b[0m\n",
            "\u001b[32m[I 2022-02-26 15:11:12,768]\u001b[0m Trial 1 finished with value: 0.8975304091411721 and parameters: {'lambda': 0.053649643454980016, 'alpha': 0.0024096012304092285, 'colsample_bytree': 0.30243901333906986, 'subsample': 0.5, 'learning_rate': 0.03580387976179342, 'n_estimators': 1500, 'max_depth': 5, 'min_child_weight': 1}. Best is trial 0 with value: 0.8986361960928861.\u001b[0m\n",
            "\u001b[32m[I 2022-02-26 15:11:27,263]\u001b[0m Trial 2 finished with value: 0.8966089200147438 and parameters: {'lambda': 0.07090031054173053, 'alpha': 0.0014804723949935748, 'colsample_bytree': 0.5309355529510124, 'subsample': 0.5, 'learning_rate': 0.058436727438317335, 'n_estimators': 3500, 'max_depth': 5, 'min_child_weight': 15}. Best is trial 0 with value: 0.8986361960928861.\u001b[0m\n",
            "\u001b[32m[I 2022-02-26 15:11:37,135]\u001b[0m Trial 3 finished with value: 0.8962403243641726 and parameters: {'lambda': 0.008664146890644422, 'alpha': 0.16135125081321783, 'colsample_bytree': 0.310186139564663, 'subsample': 0.6, 'learning_rate': 0.23378069050335928, 'n_estimators': 3000, 'max_depth': 10, 'min_child_weight': 5}. Best is trial 0 with value: 0.8986361960928861.\u001b[0m\n",
            "\u001b[32m[I 2022-02-26 15:12:16,008]\u001b[0m Trial 4 finished with value: 0.8975304091411721 and parameters: {'lambda': 0.004789132472490875, 'alpha': 0.019803227720537178, 'colsample_bytree': 0.8136079107999729, 'subsample': 0.8, 'learning_rate': 0.0344268311479883, 'n_estimators': 3000, 'max_depth': 10, 'min_child_weight': 14}. Best is trial 0 with value: 0.8986361960928861.\u001b[0m\n",
            "\u001b[32m[I 2022-02-26 15:12:52,961]\u001b[0m Trial 5 finished with value: 0.8964246221894582 and parameters: {'lambda': 0.017027628629716473, 'alpha': 0.7197924030036348, 'colsample_bytree': 0.5984294612852618, 'subsample': 0.8, 'learning_rate': 0.015268058933985768, 'n_estimators': 3000, 'max_depth': 5, 'min_child_weight': 8}. Best is trial 0 with value: 0.8986361960928861.\u001b[0m\n",
            "\u001b[32m[I 2022-02-26 15:13:11,070]\u001b[0m Trial 6 finished with value: 0.8988204939181718 and parameters: {'lambda': 0.0074236182226452485, 'alpha': 6.949564902903006, 'colsample_bytree': 0.8312132139078595, 'subsample': 0.8, 'learning_rate': 0.0838786873235244, 'n_estimators': 2000, 'max_depth': 6, 'min_child_weight': 9}. Best is trial 6 with value: 0.8988204939181718.\u001b[0m\n",
            "\u001b[32m[I 2022-02-26 15:13:18,590]\u001b[0m Trial 7 finished with value: 0.8955031330630299 and parameters: {'lambda': 7.9570007220749925, 'alpha': 6.658793033700332, 'colsample_bytree': 0.357615516043712, 'subsample': 0.4, 'learning_rate': 0.20981031251387675, 'n_estimators': 3000, 'max_depth': 9, 'min_child_weight': 10}. Best is trial 6 with value: 0.8988204939181718.\u001b[0m\n",
            "\u001b[32m[I 2022-02-26 15:13:23,869]\u001b[0m Trial 8 finished with value: 0.8951345374124585 and parameters: {'lambda': 4.278133047579746, 'alpha': 0.14490720536798346, 'colsample_bytree': 0.7267441285042593, 'subsample': 0.5, 'learning_rate': 0.34963787809392116, 'n_estimators': 3500, 'max_depth': 3, 'min_child_weight': 12}. Best is trial 6 with value: 0.8988204939181718.\u001b[0m\n",
            "\u001b[32m[I 2022-02-26 15:13:43,402]\u001b[0m Trial 9 finished with value: 0.8977147069664578 and parameters: {'lambda': 0.0017559268000052284, 'alpha': 0.2399289765389287, 'colsample_bytree': 0.572217611940152, 'subsample': 0.5, 'learning_rate': 0.0982610320823566, 'n_estimators': 2000, 'max_depth': 6, 'min_child_weight': 17}. Best is trial 6 with value: 0.8988204939181718.\u001b[0m\n",
            "\u001b[32m[I 2022-02-26 15:13:51,922]\u001b[0m Trial 10 finished with value: 0.8977147069664578 and parameters: {'lambda': 0.5878212661116508, 'alpha': 9.97622962043788, 'colsample_bytree': 0.1015802539592387, 'subsample': 1.0, 'learning_rate': 0.11944787965375132, 'n_estimators': 2000, 'max_depth': 8, 'min_child_weight': 5}. Best is trial 6 with value: 0.8988204939181718.\u001b[0m\n",
            "\u001b[32m[I 2022-02-26 15:15:22,869]\u001b[0m Trial 11 finished with value: 0.8984518982676004 and parameters: {'lambda': 0.3947162842969839, 'alpha': 1.525699672013336, 'colsample_bytree': 0.9512886375599815, 'subsample': 0.7, 'learning_rate': 0.01103573457404575, 'n_estimators': 1500, 'max_depth': 7, 'min_child_weight': 19}. Best is trial 6 with value: 0.8988204939181718.\u001b[0m\n",
            "\u001b[32m[I 2022-02-26 15:16:04,061]\u001b[0m Trial 12 finished with value: 0.8971618134906008 and parameters: {'lambda': 0.38823275206034863, 'alpha': 2.038331758120505, 'colsample_bytree': 0.9744417431321872, 'subsample': 0.8, 'learning_rate': 0.020281819301861997, 'n_estimators': 1000, 'max_depth': 3, 'min_child_weight': 8}. Best is trial 6 with value: 0.8988204939181718.\u001b[0m\n",
            "\u001b[32m[I 2022-02-26 15:16:30,192]\u001b[0m Trial 13 finished with value: 0.8991890895687431 and parameters: {'lambda': 0.022010202393508163, 'alpha': 0.02566653979139263, 'colsample_bytree': 0.8064867629248559, 'subsample': 0.8, 'learning_rate': 0.05296712823271558, 'n_estimators': 2500, 'max_depth': 7, 'min_child_weight': 19}. Best is trial 13 with value: 0.8991890895687431.\u001b[0m\n",
            "\u001b[32m[I 2022-02-26 15:17:02,859]\u001b[0m Trial 14 finished with value: 0.8980833026170291 and parameters: {'lambda': 0.0014037585749113496, 'alpha': 0.021498534507900364, 'colsample_bytree': 0.7156440540074169, 'subsample': 0.8, 'learning_rate': 0.06090267274200713, 'n_estimators': 2500, 'max_depth': 7, 'min_child_weight': 20}. Best is trial 13 with value: 0.8991890895687431.\u001b[0m\n",
            "\u001b[32m[I 2022-02-26 15:17:20,304]\u001b[0m Trial 15 finished with value: 0.8982676004423148 and parameters: {'lambda': 0.025649536301559202, 'alpha': 0.026046946530996682, 'colsample_bytree': 0.7494038421766155, 'subsample': 0.4, 'learning_rate': 0.12305256645973375, 'n_estimators': 2500, 'max_depth': 8, 'min_child_weight': 11}. Best is trial 13 with value: 0.8991890895687431.\u001b[0m\n",
            "\u001b[32m[I 2022-02-26 15:17:51,817]\u001b[0m Trial 16 finished with value: 0.8971618134906008 and parameters: {'lambda': 0.004951726611343156, 'alpha': 0.005617084409145991, 'colsample_bytree': 0.8519378216120664, 'subsample': 1.0, 'learning_rate': 0.03376120995197134, 'n_estimators': 2500, 'max_depth': 6, 'min_child_weight': 5}. Best is trial 13 with value: 0.8991890895687431.\u001b[0m\n",
            "\u001b[32m[I 2022-02-26 15:18:09,748]\u001b[0m Trial 17 finished with value: 0.8984518982676004 and parameters: {'lambda': 0.02273655372116794, 'alpha': 0.05331412861884771, 'colsample_bytree': 0.647511017472344, 'subsample': 0.7, 'learning_rate': 0.07064509564633999, 'n_estimators': 2000, 'max_depth': 8, 'min_child_weight': 14}. Best is trial 13 with value: 0.8991890895687431.\u001b[0m\n",
            "\u001b[32m[I 2022-02-26 15:18:16,577]\u001b[0m Trial 18 finished with value: 0.8962403243641726 and parameters: {'lambda': 1.4223330348449548, 'alpha': 0.4444421277767739, 'colsample_bytree': 0.4589671812246664, 'subsample': 0.6, 'learning_rate': 0.17570824458669873, 'n_estimators': 1000, 'max_depth': 4, 'min_child_weight': 8}. Best is trial 13 with value: 0.8991890895687431.\u001b[0m\n",
            "\u001b[32m[I 2022-02-26 15:18:44,480]\u001b[0m Trial 19 finished with value: 0.8980833026170291 and parameters: {'lambda': 0.004210277468040663, 'alpha': 0.06417974542215982, 'colsample_bytree': 0.9042582379657151, 'subsample': 0.8, 'learning_rate': 0.04276163657906881, 'n_estimators': 2000, 'max_depth': 7, 'min_child_weight': 1}. Best is trial 13 with value: 0.8991890895687431.\u001b[0m\n",
            "\u001b[32m[I 2022-02-26 15:18:53,182]\u001b[0m Trial 20 finished with value: 0.8945816439366016 and parameters: {'lambda': 0.041797799054100304, 'alpha': 0.006176713842257919, 'colsample_bytree': 0.8063346907322516, 'subsample': 0.8, 'learning_rate': 0.49048774662402517, 'n_estimators': 2500, 'max_depth': 6, 'min_child_weight': 17}. Best is trial 13 with value: 0.8991890895687431.\u001b[0m\n",
            "\u001b[32m[I 2022-02-26 15:19:28,701]\u001b[0m Trial 21 finished with value: 0.8980833026170291 and parameters: {'lambda': 0.12188453294344179, 'alpha': 3.24994810371502, 'colsample_bytree': 0.8774813042566643, 'subsample': 0.8, 'learning_rate': 0.022121179804553782, 'n_estimators': 1500, 'max_depth': 4, 'min_child_weight': 18}. Best is trial 13 with value: 0.8991890895687431.\u001b[0m\n",
            "\u001b[32m[I 2022-02-26 15:21:02,920]\u001b[0m Trial 22 finished with value: 0.8977147069664578 and parameters: {'lambda': 0.14734329628676326, 'alpha': 5.041774851676993, 'colsample_bytree': 0.9812819944902531, 'subsample': 0.8, 'learning_rate': 0.010756617482518962, 'n_estimators': 1500, 'max_depth': 5, 'min_child_weight': 16}. Best is trial 13 with value: 0.8991890895687431.\u001b[0m\n",
            "\u001b[32m[I 2022-02-26 15:21:15,959]\u001b[0m Trial 23 finished with value: 0.8975304091411721 and parameters: {'lambda': 0.011707093582684692, 'alpha': 0.9020566886709633, 'colsample_bytree': 0.6769259379580956, 'subsample': 0.8, 'learning_rate': 0.08880483162326869, 'n_estimators': 1500, 'max_depth': 4, 'min_child_weight': 20}. Best is trial 13 with value: 0.8991890895687431.\u001b[0m\n",
            "\u001b[32m[I 2022-02-26 15:21:57,199]\u001b[0m Trial 24 finished with value: 0.8977147069664578 and parameters: {'lambda': 0.16677923519248442, 'alpha': 2.7515394162790257, 'colsample_bytree': 0.7946395656728298, 'subsample': 0.8, 'learning_rate': 0.02314447743510282, 'n_estimators': 2500, 'max_depth': 6, 'min_child_weight': 13}. Best is trial 13 with value: 0.8991890895687431.\u001b[0m\n",
            "\u001b[32m[I 2022-02-26 15:22:22,943]\u001b[0m Trial 25 finished with value: 0.8990047917434574 and parameters: {'lambda': 0.00266784599771541, 'alpha': 0.29780593693645585, 'colsample_bytree': 0.8970101957223114, 'subsample': 0.8, 'learning_rate': 0.048688037817067875, 'n_estimators': 2000, 'max_depth': 7, 'min_child_weight': 18}. Best is trial 13 with value: 0.8991890895687431.\u001b[0m\n",
            "\u001b[32m[I 2022-02-26 15:22:54,124]\u001b[0m Trial 26 finished with value: 0.8975304091411721 and parameters: {'lambda': 0.0025757786158697687, 'alpha': 0.058945436240269516, 'colsample_bytree': 0.9229060650045879, 'subsample': 0.6, 'learning_rate': 0.04733221041359224, 'n_estimators': 2000, 'max_depth': 9, 'min_child_weight': 9}. Best is trial 13 with value: 0.8991890895687431.\u001b[0m\n",
            "\u001b[32m[I 2022-02-26 15:23:18,820]\u001b[0m Trial 27 finished with value: 0.8982676004423148 and parameters: {'lambda': 0.0011381263839823608, 'alpha': 0.399069247212409, 'colsample_bytree': 0.9978551768079731, 'subsample': 0.7, 'learning_rate': 0.08257163557092455, 'n_estimators': 2000, 'max_depth': 7, 'min_child_weight': 19}. Best is trial 13 with value: 0.8991890895687431.\u001b[0m\n",
            "\u001b[32m[I 2022-02-26 15:23:30,709]\u001b[0m Trial 28 finished with value: 0.8966089200147438 and parameters: {'lambda': 0.009169031499775835, 'alpha': 0.01157953287093471, 'colsample_bytree': 0.7777544115236895, 'subsample': 0.4, 'learning_rate': 0.14459793162426762, 'n_estimators': 2000, 'max_depth': 8, 'min_child_weight': 6}. Best is trial 13 with value: 0.8991890895687431.\u001b[0m\n",
            "\u001b[32m[I 2022-02-26 15:24:08,754]\u001b[0m Trial 29 finished with value: 0.8973461113158865 and parameters: {'lambda': 0.002955605923159124, 'alpha': 0.09294913225830201, 'colsample_bytree': 0.8569186569813761, 'subsample': 0.8, 'learning_rate': 0.027809890875323085, 'n_estimators': 2000, 'max_depth': 9, 'min_child_weight': 16}. Best is trial 13 with value: 0.8991890895687431.\u001b[0m\n",
            "\u001b[32m[I 2022-02-26 15:24:26,755]\u001b[0m Trial 30 finished with value: 0.8980833026170291 and parameters: {'lambda': 0.006434343385315518, 'alpha': 0.03582740736205724, 'colsample_bytree': 0.6640584584744963, 'subsample': 1.0, 'learning_rate': 0.052665847210899175, 'n_estimators': 1000, 'max_depth': 7, 'min_child_weight': 3}. Best is trial 13 with value: 0.8991890895687431.\u001b[0m\n",
            "\u001b[32m[I 2022-02-26 15:25:24,653]\u001b[0m Trial 31 finished with value: 0.8977147069664578 and parameters: {'lambda': 0.04667058075905169, 'alpha': 1.2544651638658713, 'colsample_bytree': 0.9086098705061035, 'subsample': 0.8, 'learning_rate': 0.01458033655854523, 'n_estimators': 1500, 'max_depth': 6, 'min_child_weight': 18}. Best is trial 13 with value: 0.8991890895687431.\u001b[0m\n",
            "\u001b[32m[I 2022-02-26 15:25:59,275]\u001b[0m Trial 32 finished with value: 0.8978990047917434 and parameters: {'lambda': 0.07379991153387071, 'alpha': 4.408808925618378, 'colsample_bytree': 0.8418076808092594, 'subsample': 0.8, 'learning_rate': 0.041637339482007, 'n_estimators': 3500, 'max_depth': 5, 'min_child_weight': 15}. Best is trial 13 with value: 0.8991890895687431.\u001b[0m\n",
            "\u001b[32m[I 2022-02-26 15:26:15,474]\u001b[0m Trial 33 finished with value: 0.8973461113158865 and parameters: {'lambda': 0.01548739254561277, 'alpha': 0.3622608059613281, 'colsample_bytree': 0.4886316208420737, 'subsample': 0.8, 'learning_rate': 0.06794953734185033, 'n_estimators': 2500, 'max_depth': 5, 'min_child_weight': 18}. Best is trial 13 with value: 0.8991890895687431.\u001b[0m\n",
            "\u001b[32m[I 2022-02-26 15:26:48,493]\u001b[0m Trial 34 finished with value: 0.8978990047917434 and parameters: {'lambda': 0.0318392648936825, 'alpha': 0.0014676930299968494, 'colsample_bytree': 0.14203302967026527, 'subsample': 0.8, 'learning_rate': 0.029922781411739333, 'n_estimators': 1500, 'max_depth': 6, 'min_child_weight': 16}. Best is trial 13 with value: 0.8991890895687431.\u001b[0m\n",
            "\u001b[32m[I 2022-02-26 15:27:47,024]\u001b[0m Trial 35 finished with value: 0.8986361960928861 and parameters: {'lambda': 0.0026276112575595047, 'alpha': 0.6932140762581327, 'colsample_bytree': 0.7512898884652515, 'subsample': 0.5, 'learning_rate': 0.01581443210195871, 'n_estimators': 3500, 'max_depth': 5, 'min_child_weight': 12}. Best is trial 13 with value: 0.8991890895687431.\u001b[0m\n",
            "\u001b[32m[I 2022-02-26 15:28:04,764]\u001b[0m Trial 36 finished with value: 0.8986361960928861 and parameters: {'lambda': 0.2500135489034792, 'alpha': 0.17821057752355537, 'colsample_bytree': 0.9243169223424542, 'subsample': 0.6, 'learning_rate': 0.10483592580519269, 'n_estimators': 2000, 'max_depth': 7, 'min_child_weight': 14}. Best is trial 13 with value: 0.8991890895687431.\u001b[0m\n",
            "\u001b[32m[I 2022-02-26 15:28:15,076]\u001b[0m Trial 37 finished with value: 0.8971618134906008 and parameters: {'lambda': 0.07895040864695946, 'alpha': 7.857304487310402, 'colsample_bytree': 0.6199249159233104, 'subsample': 0.8, 'learning_rate': 0.2462820497992823, 'n_estimators': 3000, 'max_depth': 4, 'min_child_weight': 20}. Best is trial 13 with value: 0.8991890895687431.\u001b[0m\n",
            "\u001b[32m[I 2022-02-26 15:28:40,444]\u001b[0m Trial 38 finished with value: 0.8986361960928861 and parameters: {'lambda': 0.267178556241462, 'alpha': 0.17488664971397297, 'colsample_bytree': 0.9177708060427325, 'subsample': 0.6, 'learning_rate': 0.09942806285944203, 'n_estimators': 2000, 'max_depth': 8, 'min_child_weight': 14}. Best is trial 13 with value: 0.8991890895687431.\u001b[0m\n",
            "\u001b[32m[I 2022-02-26 15:29:03,873]\u001b[0m Trial 39 finished with value: 0.8969775156653151 and parameters: {'lambda': 1.0810652590425553, 'alpha': 2.0801993928425055, 'colsample_bytree': 0.703774230501761, 'subsample': 0.8, 'learning_rate': 0.037408757010279264, 'n_estimators': 3000, 'max_depth': 6, 'min_child_weight': 10}. Best is trial 13 with value: 0.8991890895687431.\u001b[0m\n",
            "\u001b[32m[I 2022-02-26 15:29:26,971]\u001b[0m Trial 40 finished with value: 0.8982676004423148 and parameters: {'lambda': 0.01611788736171405, 'alpha': 0.012837952012760175, 'colsample_bytree': 0.8142187602414471, 'subsample': 0.5, 'learning_rate': 0.05428605529347188, 'n_estimators': 1500, 'max_depth': 5, 'min_child_weight': 17}. Best is trial 13 with value: 0.8991890895687431.\u001b[0m\n",
            "\u001b[32m[I 2022-02-26 15:29:48,950]\u001b[0m Trial 41 finished with value: 0.8990047917434574 and parameters: {'lambda': 0.8864204057135439, 'alpha': 0.09646078615211176, 'colsample_bytree': 0.9435881566145687, 'subsample': 0.6, 'learning_rate': 0.07775708019481835, 'n_estimators': 2000, 'max_depth': 8, 'min_child_weight': 15}. Best is trial 13 with value: 0.8991890895687431.\u001b[0m\n",
            "\u001b[32m[I 2022-02-26 15:30:09,818]\u001b[0m Trial 42 finished with value: 0.8978990047917434 and parameters: {'lambda': 2.834343770879184, 'alpha': 0.09978411709657303, 'colsample_bytree': 0.9439986137926389, 'subsample': 0.6, 'learning_rate': 0.07530456277232933, 'n_estimators': 2000, 'max_depth': 8, 'min_child_weight': 15}. Best is trial 13 with value: 0.8991890895687431.\u001b[0m\n",
            "\u001b[32m[I 2022-02-26 15:30:25,903]\u001b[0m Trial 43 finished with value: 0.8990047917434574 and parameters: {'lambda': 1.7546142347029723, 'alpha': 0.26525321334445606, 'colsample_bytree': 0.8824313178782675, 'subsample': 0.6, 'learning_rate': 0.14606578454991234, 'n_estimators': 2000, 'max_depth': 9, 'min_child_weight': 19}. Best is trial 13 with value: 0.8991890895687431.\u001b[0m\n",
            "\u001b[32m[I 2022-02-26 15:30:47,536]\u001b[0m Trial 44 finished with value: 0.9001105786951714 and parameters: {'lambda': 3.3771685880676885, 'alpha': 0.25498185893590775, 'colsample_bytree': 0.8812797428917061, 'subsample': 0.6, 'learning_rate': 0.12293081695491133, 'n_estimators': 2000, 'max_depth': 10, 'min_child_weight': 19}. Best is trial 44 with value: 0.9001105786951714.\u001b[0m\n",
            "\u001b[32m[I 2022-02-26 15:31:03,964]\u001b[0m Trial 45 finished with value: 0.8975304091411721 and parameters: {'lambda': 9.114010143192294, 'alpha': 0.2880300609765837, 'colsample_bytree': 0.8647984558777936, 'subsample': 0.6, 'learning_rate': 0.14917146787792204, 'n_estimators': 2000, 'max_depth': 10, 'min_child_weight': 19}. Best is trial 44 with value: 0.9001105786951714.\u001b[0m\n",
            "\u001b[32m[I 2022-02-26 15:31:20,861]\u001b[0m Trial 46 finished with value: 0.8962403243641726 and parameters: {'lambda': 5.055387381635177, 'alpha': 0.6599621817014357, 'colsample_bytree': 0.9998887886333426, 'subsample': 0.6, 'learning_rate': 0.2645051018791096, 'n_estimators': 2000, 'max_depth': 9, 'min_child_weight': 19}. Best is trial 44 with value: 0.9001105786951714.\u001b[0m\n",
            "\u001b[32m[I 2022-02-26 15:31:36,872]\u001b[0m Trial 47 finished with value: 0.8982676004423148 and parameters: {'lambda': 1.6362450315985404, 'alpha': 0.1376196066882826, 'colsample_bytree': 0.8847634214956399, 'subsample': 0.6, 'learning_rate': 0.18803525514942, 'n_estimators': 2000, 'max_depth': 10, 'min_child_weight': 18}. Best is trial 44 with value: 0.9001105786951714.\u001b[0m\n",
            "\u001b[32m[I 2022-02-26 15:31:55,909]\u001b[0m Trial 48 finished with value: 0.9001105786951714 and parameters: {'lambda': 2.6002190567010564, 'alpha': 0.2279227628384226, 'colsample_bytree': 0.7662725524893477, 'subsample': 0.6, 'learning_rate': 0.1243311409840804, 'n_estimators': 2000, 'max_depth': 9, 'min_child_weight': 20}. Best is trial 44 with value: 0.9001105786951714.\u001b[0m\n",
            "\u001b[32m[I 2022-02-26 15:32:10,649]\u001b[0m Trial 49 finished with value: 0.8973461113158865 and parameters: {'lambda': 0.7389187969379741, 'alpha': 0.04048338244279488, 'colsample_bytree': 0.7884526832058812, 'subsample': 0.6, 'learning_rate': 0.12836643308810078, 'n_estimators': 2500, 'max_depth': 9, 'min_child_weight': 20}. Best is trial 44 with value: 0.9001105786951714.\u001b[0m\n"
          ]
        },
        {
          "name": "stdout",
          "output_type": "stream",
          "text": [
            "Number of finished trials:  50\n",
            "Best trial:\n",
            "  Value: 0.9001105786951714\n",
            "  Params: \n",
            "    lambda: 3.3771685880676885\n",
            "    alpha: 0.25498185893590775\n",
            "    colsample_bytree: 0.8812797428917061\n",
            "    subsample: 0.6\n",
            "    learning_rate: 0.12293081695491133\n",
            "    n_estimators: 2000\n",
            "    max_depth: 10\n",
            "    min_child_weight: 19\n"
          ]
        }
      ],
      "source": [
        "study = optuna.create_study(direction=\"maximize\")\n",
        "study.optimize(objective, n_trials=50)\n",
        "\n",
        "print(\"Number of finished trials: \", len(study.trials))\n",
        "print(\"Best trial:\")\n",
        "trial = study.best_trial\n",
        "\n",
        "print(\"  Value: {}\".format(trial.value))\n",
        "print(\"  Params: \")\n",
        "\n",
        "hp = study.best_params\n",
        "\n",
        "for key, value in trial.params.items():\n",
        "    print(\"    {}: {}\".format(key, value))"
      ]
    },
    {
      "cell_type": "code",
      "execution_count": null,
      "metadata": {
        "id": "cKJJp6yenBKE"
      },
      "outputs": [],
      "source": [
        "xgb_model = xgb.XGBClassifier(**hp)"
      ]
    },
    {
      "cell_type": "code",
      "execution_count": null,
      "metadata": {
        "colab": {
          "base_uri": "https://localhost:8080/"
        },
        "id": "iM4oStB5t_2k",
        "outputId": "da5a2555-dd0b-4af0-b60c-405fe02c987d"
      },
      "outputs": [
        {
          "data": {
            "text/plain": [
              "XGBClassifier(alpha=0.25498185893590775, colsample_bytree=0.8812797428917061,\n",
              "              lambda=3.3771685880676885, learning_rate=0.12293081695491133,\n",
              "              max_depth=10, min_child_weight=19, n_estimators=2000,\n",
              "              subsample=0.6)"
            ]
          },
          "execution_count": 103,
          "metadata": {},
          "output_type": "execute_result"
        }
      ],
      "source": [
        "xgb_model.fit(X_train, y_train, eval_set=[(X_val, y_val)], early_stopping_rounds=100, verbose=0)"
      ]
    },
    {
      "cell_type": "code",
      "execution_count": null,
      "metadata": {
        "id": "Hxu-iKZKuEHy"
      },
      "outputs": [],
      "source": [
        "y_pred_xgb = xgb_model.predict(X_test)"
      ]
    },
    {
      "cell_type": "code",
      "execution_count": null,
      "metadata": {
        "colab": {
          "base_uri": "https://localhost:8080/"
        },
        "id": "qxtZ3QCRDGNS",
        "outputId": "83af49ea-eb6e-40eb-9c48-e004fe4970b4"
      },
      "outputs": [
        {
          "name": "stdout",
          "output_type": "stream",
          "text": [
            "XG Boost Classifier accuracy is 0.89\n"
          ]
        }
      ],
      "source": [
        "from sklearn.metrics import accuracy_score\n",
        "print (\"XG Boost Classifier accuracy is %2.2f\" % accuracy_score(y_test, y_pred_xgb))"
      ]
    },
    {
      "cell_type": "code",
      "execution_count": null,
      "metadata": {
        "colab": {
          "base_uri": "https://localhost:8080/"
        },
        "id": "DdL9O23nvWxs",
        "outputId": "41f20248-fe76-4044-8780-0696f9f8f543"
      },
      "outputs": [
        {
          "name": "stdout",
          "output_type": "stream",
          "text": [
            "Precision Score:  0.6265664160401002\n",
            "Recall Score:  0.23629489603024575\n"
          ]
        }
      ],
      "source": [
        "# Let's find the scores  for precision and recall.\n",
        "from sklearn.metrics import precision_score, recall_score\n",
        "# The model is 77% sure that the potential client will suscribe to a term deposit. \n",
        "# The model is only retaining 60% of clients that agree to suscribe a term deposit.\n",
        "print('Precision Score: ', precision_score(y_test, y_pred_xgb))\n",
        "# The classifier only detects 60% of potential clients that will suscribe to a term deposit.\n",
        "print('Recall Score: ', recall_score(y_test, y_pred_xgb))"
      ]
    },
    {
      "cell_type": "code",
      "execution_count": null,
      "metadata": {
        "colab": {
          "base_uri": "https://localhost:8080/"
        },
        "id": "KnoX0lv8wmlW",
        "outputId": "9c22b6fb-a5cd-4c89-a762-fc02b289ddc1"
      },
      "outputs": [
        {
          "data": {
            "text/plain": [
              "0.34317089910775567"
            ]
          },
          "execution_count": 107,
          "metadata": {},
          "output_type": "execute_result"
        }
      ],
      "source": [
        "from sklearn.metrics import f1_score\n",
        "\n",
        "f1_score(y_test, y_pred_xgb)"
      ]
    },
    {
      "cell_type": "code",
      "execution_count": null,
      "metadata": {
        "id": "h6yGgE4TulO9"
      },
      "outputs": [],
      "source": [
        "from sklearn.metrics import confusion_matrix, classification_report"
      ]
    },
    {
      "cell_type": "code",
      "execution_count": null,
      "metadata": {
        "colab": {
          "base_uri": "https://localhost:8080/"
        },
        "id": "isMO7H70rHEg",
        "outputId": "1dd5e765-b404-486d-dd37-eaddda8faa9c"
      },
      "outputs": [
        {
          "name": "stdout",
          "output_type": "stream",
          "text": [
            "[[7836  149]\n",
            " [ 808  250]]\n"
          ]
        }
      ],
      "source": [
        "print(confusion_matrix(y_test, y_pred_xgb))"
      ]
    },
    {
      "cell_type": "code",
      "execution_count": null,
      "metadata": {
        "colab": {
          "base_uri": "https://localhost:8080/"
        },
        "id": "NSKHUjs0uQwR",
        "outputId": "74dda720-e97d-45d7-e311-50aade0a305b"
      },
      "outputs": [
        {
          "name": "stdout",
          "output_type": "stream",
          "text": [
            "              precision    recall  f1-score   support\n",
            "\n",
            "          No       0.91      0.98      0.94      7985\n",
            "         Yes       0.63      0.24      0.34      1058\n",
            "\n",
            "    accuracy                           0.89      9043\n",
            "   macro avg       0.77      0.61      0.64      9043\n",
            "weighted avg       0.87      0.89      0.87      9043\n",
            "\n"
          ]
        }
      ],
      "source": [
        "print(classification_report(y_test, y_pred_xgb,target_names = ['No','Yes']))"
      ]
    },
    {
      "cell_type": "code",
      "execution_count": null,
      "metadata": {
        "colab": {
          "base_uri": "https://localhost:8080/",
          "height": 360
        },
        "id": "FlyRuG4zuVgY",
        "outputId": "82f76f8a-7387-4f5b-9244-fb68c6141a71"
      },
      "outputs": [
        {
          "data": {
            "image/png": "[encoded data removed]",
            "text/plain": [
              "<Figure size 288x360 with 1 Axes>"
            ]
          },
          "metadata": {},
          "output_type": "display_data"
        }
      ],
      "source": [
        "plt.figure(figsize = (4, 5))\n",
        "\n",
        "probs = xgb_model.predict_proba(X_test)\n",
        "preds = probs[:,1]\n",
        "fprxgb, tprxgb, _ = roc_curve(y_test, preds)\n",
        "roc_aucxgb = auc(fprxgb, tprxgb)\n",
        "\n",
        "plt.plot(fprxgb, tprxgb, 'b', label = 'AUC = %0.2f' % roc_aucxgb)\n",
        "plt.plot([0, 1], [0, 1],'r--')\n",
        "plt.title('ROC XGBoost ',fontsize=20)\n",
        "plt.ylabel('True Positive Rate',fontsize=15)\n",
        "plt.xlabel('False Positive Rate',fontsize=15)\n",
        "plt.legend(loc = 'lower right', fontsize=15, fancybox=True, shadow=True, frameon=True,handlelength=0)\n",
        "plt.show()"
      ]
    },
    {
      "cell_type": "code",
      "execution_count": null,
      "metadata": {
        "id": "hGZt0D7tuwYD"
      },
      "outputs": [],
      "source": [
        "X_train, X_test, y_train, y_test = train_test_split(X, y, test_size = 0.2, random_state=42)"
      ]
    },
    {
      "cell_type": "code",
      "execution_count": null,
      "metadata": {
        "colab": {
          "base_uri": "https://localhost:8080/",
          "height": 363
        },
        "id": "3KhjG6QU2Wvj",
        "outputId": "da6db289-c677-4cfb-c7ce-2c04c2558f1a"
      },
      "outputs": [
        {
          "name": "stdout",
          "output_type": "stream",
          "text": [
            "Requirement already satisfied: imbalanced-learn in /usr/local/lib/python3.7/dist-packages (0.8.1)\n",
            "Collecting imbalanced-learn\n",
            "  Downloading imbalanced_learn-0.9.0-py3-none-any.whl (199 kB)\n",
            "\u001b[K     |████████████████████████████████| 199 kB 4.1 MB/s \n",
            "\u001b[?25hRequirement already satisfied: numpy>=1.14.6 in /usr/local/lib/python3.7/dist-packages (from imbalanced-learn) (1.21.5)\n",
            "Requirement already satisfied: joblib>=0.11 in /usr/local/lib/python3.7/dist-packages (from imbalanced-learn) (1.1.0)\n",
            "Requirement already satisfied: scikit-learn>=1.0.1 in /usr/local/lib/python3.7/dist-packages (from imbalanced-learn) (1.0.2)\n",
            "Requirement already satisfied: threadpoolctl>=2.0.0 in /usr/local/lib/python3.7/dist-packages (from imbalanced-learn) (3.1.0)\n",
            "Requirement already satisfied: scipy>=1.1.0 in /usr/local/lib/python3.7/dist-packages (from imbalanced-learn) (1.4.1)\n",
            "Installing collected packages: imbalanced-learn\n",
            "  Attempting uninstall: imbalanced-learn\n",
            "    Found existing installation: imbalanced-learn 0.8.1\n",
            "    Uninstalling imbalanced-learn-0.8.1:\n",
            "      Successfully uninstalled imbalanced-learn-0.8.1\n",
            "Successfully installed imbalanced-learn-0.9.0\n"
          ]
        },
        {
          "data": {
            "application/vnd.colab-display-data+json": {
              "pip_warning": {
                "packages": [
                  "imblearn"
                ]
              }
            }
          },
          "metadata": {},
          "output_type": "display_data"
        }
      ],
      "source": [
        "#pip install -U imbalanced-learn"
      ]
    },
    {
      "cell_type": "code",
      "execution_count": null,
      "metadata": {
        "id": "XMWlu6ZH_RsT"
      },
      "outputs": [],
      "source": [
        "from imblearn.ensemble import EasyEnsembleClassifier"
      ]
    },
    {
      "cell_type": "code",
      "execution_count": null,
      "metadata": {
        "id": "IZwde-hY6VR_"
      },
      "outputs": [],
      "source": [
        "from sklearn.ensemble import AdaBoostClassifier"
      ]
    },
    {
      "cell_type": "code",
      "execution_count": null,
      "metadata": {
        "id": "OxmVhNfVyTzB"
      },
      "outputs": [],
      "source": [
        "eec = EasyEnsembleClassifier(n_estimators=10, base_estimator=AdaBoostClassifier(), warm_start=True, sampling_strategy='not majority', replacement=True, n_jobs=-1, random_state=42, verbose=0)"
      ]
    },
    {
      "cell_type": "code",
      "execution_count": null,
      "metadata": {
        "colab": {
          "base_uri": "https://localhost:8080/"
        },
        "id": "c_0c6BlltU37",
        "outputId": "5d86a53f-255f-4ef9-df09-7939e3ea8a4b"
      },
      "outputs": [
        {
          "data": {
            "text/plain": [
              "EasyEnsembleClassifier(base_estimator=AdaBoostClassifier(), n_jobs=-1,\n",
              "                       random_state=42, replacement=True,\n",
              "                       sampling_strategy='not majority', warm_start=True)"
            ]
          },
          "execution_count": 199,
          "metadata": {},
          "output_type": "execute_result"
        }
      ],
      "source": [
        "eec.fit(X_train, y_train)"
      ]
    },
    {
      "cell_type": "code",
      "execution_count": null,
      "metadata": {
        "id": "MObkXq1C4FJK"
      },
      "outputs": [],
      "source": [
        "y_pred = eec.predict(X_test)"
      ]
    },
    {
      "cell_type": "code",
      "execution_count": null,
      "metadata": {
        "colab": {
          "base_uri": "https://localhost:8080/"
        },
        "id": "aaM-6f7G4pbA",
        "outputId": "f2fa5279-45ca-4aa2-ef88-618d8ce938a5"
      },
      "outputs": [
        {
          "name": "stdout",
          "output_type": "stream",
          "text": [
            "[[7860   92]\n",
            " [ 886  205]]\n"
          ]
        }
      ],
      "source": [
        "print(confusion_matrix(y_test, y_pred))"
      ]
    },
    {
      "cell_type": "code",
      "execution_count": null,
      "metadata": {
        "colab": {
          "base_uri": "https://localhost:8080/"
        },
        "id": "3UqqITGu41yn",
        "outputId": "d2ddd973-0d7e-4bc3-eee6-74f3dce5c0f3"
      },
      "outputs": [
        {
          "name": "stdout",
          "output_type": "stream",
          "text": [
            "              precision    recall  f1-score   support\n",
            "\n",
            "          no       0.90      0.99      0.94      7952\n",
            "         yes       0.69      0.19      0.30      1091\n",
            "\n",
            "    accuracy                           0.89      9043\n",
            "   macro avg       0.79      0.59      0.62      9043\n",
            "weighted avg       0.87      0.89      0.86      9043\n",
            "\n"
          ]
        }
      ],
      "source": [
        "print(classification_report(y_test, y_pred))"
      ]
    },
    {
      "cell_type": "code",
      "execution_count": null,
      "metadata": {
        "colab": {
          "base_uri": "https://localhost:8080/"
        },
        "id": "al2jJOR74jXL",
        "outputId": "3614a2e5-e6fd-4383-a194-130080adc58c"
      },
      "outputs": [
        {
          "name": "stdout",
          "output_type": "stream",
          "text": [
            "Precision Score:  0.898696546992911\n",
            "Recall Score:  0.988430583501006\n"
          ]
        }
      ],
      "source": [
        "# Let's find the scores  for precision and recall.\n",
        "from sklearn.metrics import precision_score, recall_score\n",
        "# The model is 77% sure that the potential client will suscribe to a term deposit. \n",
        "# The model is only retaining 60% of clients that agree to suscribe a term deposit.\n",
        "print('Precision Score: ', precision_score(y_test, y_pred,pos_label=\"no\"))\n",
        "# The classifier only detects 60% of potential clients that will suscribe to a term deposit.\n",
        "print('Recall Score: ', recall_score(y_test, y_pred, pos_label = \"no\"))"
      ]
    },
    {
      "cell_type": "code",
      "execution_count": null,
      "metadata": {
        "colab": {
          "base_uri": "https://localhost:8080/"
        },
        "id": "6-9Xc12QHMte",
        "outputId": "fce593d4-7132-4806-85c5-0ff80881d5c7"
      },
      "outputs": [
        {
          "name": "stdout",
          "output_type": "stream",
          "text": [
            "Precision Score:  0.6902356902356902\n",
            "Recall Score:  0.18790100824931255\n"
          ]
        }
      ],
      "source": [
        "# Let's find the scores  for precision and recall.\n",
        "from sklearn.metrics import precision_score, recall_score\n",
        "# The model is 77% sure that the potential client will suscribe to a term deposit. \n",
        "# The model is only retaining 60% of clients that agree to suscribe a term deposit.\n",
        "print('Precision Score: ', precision_score(y_test, y_pred,pos_label=\"yes\"))\n",
        "# The classifier only detects 60% of potential clients that will suscribe to a term deposit.\n",
        "print('Recall Score: ', recall_score(y_test, y_pred, pos_label = \"yes\"))"
      ]
    },
    {
      "cell_type": "code",
      "execution_count": null,
      "metadata": {
        "colab": {
          "base_uri": "https://localhost:8080/"
        },
        "id": "KUSuwqcL5MCu",
        "outputId": "2b3245bf-4851-428d-c467-3806ad0d8e9c"
      },
      "outputs": [
        {
          "data": {
            "text/plain": [
              "0.9414301113905856"
            ]
          },
          "execution_count": 168,
          "metadata": {},
          "output_type": "execute_result"
        }
      ],
      "source": [
        "from sklearn.metrics import f1_score\n",
        "\n",
        "f1_score(y_test, y_pred,pos_label = \"no\")"
      ]
    },
    {
      "cell_type": "code",
      "execution_count": null,
      "metadata": {
        "colab": {
          "base_uri": "https://localhost:8080/"
        },
        "id": "4tUq66HyHTFy",
        "outputId": "6b95bfcf-181a-494c-f732-4a1945a6565d"
      },
      "outputs": [
        {
          "data": {
            "text/plain": [
              "0.2953890489913545"
            ]
          },
          "execution_count": 170,
          "metadata": {},
          "output_type": "execute_result"
        }
      ],
      "source": [
        "from sklearn.metrics import f1_score\n",
        "\n",
        "f1_score(y_test, y_pred,pos_label = \"yes\")"
      ]
    },
    {
      "cell_type": "code",
      "execution_count": null,
      "metadata": {
        "colab": {
          "base_uri": "https://localhost:8080/"
        },
        "id": "EH2hs23U5Q82",
        "outputId": "8d505b8c-8a5a-4a1c-be5e-3f3a59d3e13c"
      },
      "outputs": [
        {
          "name": "stdout",
          "output_type": "stream",
          "text": [
            "EEC accuracy is 0.89\n"
          ]
        }
      ],
      "source": [
        "from sklearn.metrics import accuracy_score\n",
        "print (\"EEC accuracy is %2.2f\" % accuracy_score(y_test, y_pred))"
      ]
    },
    {
      "cell_type": "code",
      "execution_count": null,
      "metadata": {
        "id": "W7BK1eLrHey4"
      },
      "outputs": [],
      "source": [
        ""
      ]
    },
    {
      "cell_type": "code",
      "execution_count": null,
      "metadata": {
        "id": "mb9gun0pHfDU"
      },
      "outputs": [],
      "source": [
        "eec = EasyEnsembleClassifier(n_estimators=10, base_estimator=AdaBoostClassifier(), warm_start=True, sampling_strategy='all', replacement=True, n_jobs=-1, random_state=42, verbose=0)"
      ]
    },
    {
      "cell_type": "code",
      "execution_count": null,
      "metadata": {
        "colab": {
          "base_uri": "https://localhost:8080/"
        },
        "id": "TL9fzVAPHfDV",
        "outputId": "caa0ba73-0c89-4964-c5ae-75a6e41b6802"
      },
      "outputs": [
        {
          "data": {
            "text/plain": [
              "EasyEnsembleClassifier(base_estimator=AdaBoostClassifier(), n_jobs=-1,\n",
              "                       random_state=42, replacement=True,\n",
              "                       sampling_strategy='all', warm_start=True)"
            ]
          },
          "execution_count": 184,
          "metadata": {},
          "output_type": "execute_result"
        }
      ],
      "source": [
        "eec.fit(X_train, y_train)"
      ]
    },
    {
      "cell_type": "code",
      "execution_count": null,
      "metadata": {
        "id": "HaPxk9KOHfDV"
      },
      "outputs": [],
      "source": [
        "y_pred1 = eec.predict(X_test)"
      ]
    },
    {
      "cell_type": "code",
      "execution_count": null,
      "metadata": {
        "colab": {
          "base_uri": "https://localhost:8080/"
        },
        "id": "cwz_yB6NHfDV",
        "outputId": "aad65df2-a9c2-4bde-aed1-a738ecc16622"
      },
      "outputs": [
        {
          "name": "stdout",
          "output_type": "stream",
          "text": [
            "[[6148 1804]\n",
            " [ 385  706]]\n"
          ]
        }
      ],
      "source": [
        "print(confusion_matrix(y_test, y_pred1))"
      ]
    },
    {
      "cell_type": "code",
      "execution_count": null,
      "metadata": {
        "colab": {
          "base_uri": "https://localhost:8080/"
        },
        "id": "A-Vw14pCHfDV",
        "outputId": "b3685a0c-311b-448b-d81c-9567702ca68b"
      },
      "outputs": [
        {
          "name": "stdout",
          "output_type": "stream",
          "text": [
            "              precision    recall  f1-score   support\n",
            "\n",
            "          no       0.94      0.77      0.85      7952\n",
            "         yes       0.28      0.65      0.39      1091\n",
            "\n",
            "    accuracy                           0.76      9043\n",
            "   macro avg       0.61      0.71      0.62      9043\n",
            "weighted avg       0.86      0.76      0.79      9043\n",
            "\n"
          ]
        }
      ],
      "source": [
        "print(classification_report(y_test, y_pred1))"
      ]
    },
    {
      "cell_type": "code",
      "execution_count": null,
      "metadata": {
        "colab": {
          "base_uri": "https://localhost:8080/"
        },
        "id": "yOBn-Q-vHfDW",
        "outputId": "b2bc6962-a216-4c08-b0ae-c7f91c449631"
      },
      "outputs": [
        {
          "name": "stdout",
          "output_type": "stream",
          "text": [
            "Precision Score:  0.9410684218582581\n",
            "Recall Score:  0.7731388329979879\n"
          ]
        }
      ],
      "source": [
        "# Let's find the scores  for precision and recall.\n",
        "from sklearn.metrics import precision_score, recall_score\n",
        "# The model is 77% sure that the potential client will suscribe to a term deposit. \n",
        "# The model is only retaining 60% of clients that agree to suscribe a term deposit.\n",
        "print('Precision Score: ', precision_score(y_test, y_pred1,pos_label=\"no\"))\n",
        "# The classifier only detects 60% of potential clients that will suscribe to a term deposit.\n",
        "print('Recall Score: ', recall_score(y_test, y_pred1, pos_label = \"no\"))"
      ]
    },
    {
      "cell_type": "code",
      "execution_count": null,
      "metadata": {
        "colab": {
          "base_uri": "https://localhost:8080/"
        },
        "id": "3Il1IAbyHfDW",
        "outputId": "acb8c689-35f3-4fc8-a362-7ef0ad541266"
      },
      "outputs": [
        {
          "name": "stdout",
          "output_type": "stream",
          "text": [
            "Precision Score:  0.28127490039840636\n",
            "Recall Score:  0.6471127406049496\n"
          ]
        }
      ],
      "source": [
        "# Let's find the scores  for precision and recall.\n",
        "from sklearn.metrics import precision_score, recall_score\n",
        "# The model is 77% sure that the potential client will suscribe to a term deposit. \n",
        "# The model is only retaining 60% of clients that agree to suscribe a term deposit.\n",
        "print('Precision Score: ', precision_score(y_test, y_pred1,pos_label=\"yes\"))\n",
        "# The classifier only detects 60% of potential clients that will suscribe to a term deposit.\n",
        "print('Recall Score: ', recall_score(y_test, y_pred1, pos_label = \"yes\"))"
      ]
    },
    {
      "cell_type": "code",
      "execution_count": null,
      "metadata": {
        "colab": {
          "base_uri": "https://localhost:8080/"
        },
        "id": "IomdWBrYHfDW",
        "outputId": "4c90a179-e60b-4fc8-efe0-3353d72018e8"
      },
      "outputs": [
        {
          "data": {
            "text/plain": [
              "0.8488781498101485"
            ]
          },
          "execution_count": 190,
          "metadata": {},
          "output_type": "execute_result"
        }
      ],
      "source": [
        "from sklearn.metrics import f1_score\n",
        "\n",
        "f1_score(y_test, y_pred,pos_label = \"no\")"
      ]
    },
    {
      "cell_type": "code",
      "execution_count": null,
      "metadata": {
        "colab": {
          "base_uri": "https://localhost:8080/"
        },
        "id": "vKGeL61dHfDX",
        "outputId": "6037b9d7-fe04-42d8-9fec-9e7d0e9c88ea"
      },
      "outputs": [
        {
          "data": {
            "text/plain": [
              "0.39211330186059423"
            ]
          },
          "execution_count": 191,
          "metadata": {},
          "output_type": "execute_result"
        }
      ],
      "source": [
        "from sklearn.metrics import f1_score\n",
        "\n",
        "f1_score(y_test, y_pred,pos_label = \"yes\")"
      ]
    },
    {
      "cell_type": "code",
      "execution_count": null,
      "metadata": {
        "colab": {
          "base_uri": "https://localhost:8080/"
        },
        "id": "bCZPnPYPHfDX",
        "outputId": "b83b4237-707b-463f-f8ae-5f2cd7d613ac"
      },
      "outputs": [
        {
          "name": "stdout",
          "output_type": "stream",
          "text": [
            "EEC accuracy is 0.76\n"
          ]
        }
      ],
      "source": [
        "from sklearn.metrics import accuracy_score\n",
        "print (\"EEC accuracy is %2.2f\" % accuracy_score(y_test, y_pred1))"
      ]
    },
    {
      "cell_type": "code",
      "execution_count": null,
      "metadata": {
        "id": "ANJMnyEjxuDs"
      },
      "outputs": [],
      "source": [
        "from imblearn.ensemble import BalancedBaggingClassifier \n",
        "from sklearn.tree import DecisionTreeClassifier"
      ]
    },
    {
      "cell_type": "code",
      "execution_count": null,
      "metadata": {
        "id": "hYinFMZBJmzf"
      },
      "outputs": [],
      "source": [
        "from imblearn.under_sampling import NearMiss"
      ]
    },
    {
      "cell_type": "code",
      "execution_count": null,
      "metadata": {
        "id": "pNW6bIjlxvof"
      },
      "outputs": [],
      "source": [
        "model = BalancedBaggingClassifier(base_estimator=DecisionTreeClassifier(),\n",
        "                                sampling_strategy='not majority', sampler = (NearMiss(version = 3)),\n",
        "                                replacement=True,\n",
        "                                random_state=0,warm_start = True)"
      ]
    },
    {
      "cell_type": "code",
      "execution_count": null,
      "metadata": {
        "colab": {
          "base_uri": "https://localhost:8080/"
        },
        "id": "yKWtS_2xzjIM",
        "outputId": "f01a690f-5e6a-4fe4-edd5-cf5fb4bc483c"
      },
      "outputs": [
        {
          "data": {
            "text/plain": [
              "BalancedBaggingClassifier(base_estimator=DecisionTreeClassifier(),\n",
              "                          random_state=0, replacement=True,\n",
              "                          sampler=NearMiss(version=3),\n",
              "                          sampling_strategy='not majority', warm_start=True)"
            ]
          },
          "execution_count": 202,
          "metadata": {},
          "output_type": "execute_result"
        }
      ],
      "source": [
        "model.fit(X_train, y_train)"
      ]
    },
    {
      "cell_type": "code",
      "execution_count": null,
      "metadata": {
        "id": "8gtk5LYa_XIS"
      },
      "outputs": [],
      "source": [
        "y_pred_bbc = model.predict(X_test)"
      ]
    },
    {
      "cell_type": "code",
      "execution_count": null,
      "metadata": {
        "colab": {
          "base_uri": "https://localhost:8080/"
        },
        "id": "67w5tnhU_XIT",
        "outputId": "7371bf55-7506-4ecf-9a07-6cd23512ab8c"
      },
      "outputs": [
        {
          "name": "stdout",
          "output_type": "stream",
          "text": [
            "[[7744  208]\n",
            " [ 834  257]]\n"
          ]
        }
      ],
      "source": [
        "print(confusion_matrix(y_test, y_pred_bbc))"
      ]
    },
    {
      "cell_type": "code",
      "execution_count": null,
      "metadata": {
        "colab": {
          "base_uri": "https://localhost:8080/"
        },
        "id": "Pi2XkYSd_XIU",
        "outputId": "09659c77-6f38-4186-b922-ab2c9df318eb"
      },
      "outputs": [
        {
          "name": "stdout",
          "output_type": "stream",
          "text": [
            "              precision    recall  f1-score   support\n",
            "\n",
            "          no       0.90      0.97      0.94      7952\n",
            "         yes       0.55      0.24      0.33      1091\n",
            "\n",
            "    accuracy                           0.88      9043\n",
            "   macro avg       0.73      0.60      0.63      9043\n",
            "weighted avg       0.86      0.88      0.86      9043\n",
            "\n"
          ]
        }
      ],
      "source": [
        "print(classification_report(y_test, y_pred_bbc))"
      ]
    },
    {
      "cell_type": "code",
      "execution_count": null,
      "metadata": {
        "colab": {
          "base_uri": "https://localhost:8080/"
        },
        "id": "Ns37rvj0_XIV",
        "outputId": "ee13bd62-905d-4790-880d-c30f404ba8a5"
      },
      "outputs": [
        {
          "name": "stdout",
          "output_type": "stream",
          "text": [
            "Precision Score:  0.9027745395197015\n",
            "Recall Score:  0.9738430583501007\n"
          ]
        }
      ],
      "source": [
        "# Let's find the scores  for precision and recall.\n",
        "from sklearn.metrics import precision_score, recall_score\n",
        "# The model is 77% sure that the potential client will suscribe to a term deposit. \n",
        "# The model is only retaining 60% of clients that agree to suscribe a term deposit.\n",
        "print('Precision Score: ', precision_score(y_test, y_pred_bbc,pos_label=\"no\"))\n",
        "# The classifier only detects 60% of potential clients that will suscribe to a term deposit.\n",
        "print('Recall Score: ', recall_score(y_test, y_pred_bbc, pos_label = \"no\"))"
      ]
    },
    {
      "cell_type": "code",
      "execution_count": null,
      "metadata": {
        "colab": {
          "base_uri": "https://localhost:8080/"
        },
        "id": "J4Y9PzwL_XIW",
        "outputId": "78c2c216-6a40-449b-d490-cc3ac2e48b8a"
      },
      "outputs": [
        {
          "data": {
            "text/plain": [
              "0.9369630973986691"
            ]
          },
          "execution_count": 207,
          "metadata": {},
          "output_type": "execute_result"
        }
      ],
      "source": [
        "from sklearn.metrics import f1_score\n",
        "\n",
        "f1_score(y_test, y_pred_bbc,pos_label = \"no\")"
      ]
    },
    {
      "cell_type": "code",
      "execution_count": null,
      "metadata": {
        "colab": {
          "base_uri": "https://localhost:8080/"
        },
        "id": "RPf86u1Z_XIW",
        "outputId": "14e839a2-8304-409d-bd11-9e4433bcfae8"
      },
      "outputs": [
        {
          "name": "stdout",
          "output_type": "stream",
          "text": [
            "BBC accuracy is 0.88\n"
          ]
        }
      ],
      "source": [
        "from sklearn.metrics import accuracy_score\n",
        "print (\"BBC accuracy is %2.2f\" % accuracy_score(y_test, y_pred_bbc))"
      ]
    },
    {
      "cell_type": "code",
      "execution_count": null,
      "metadata": {
        "id": "vGuKQfv__56N"
      },
      "outputs": [],
      "source": [
        "# Data visualization\n",
        "import matplotlib.pyplot as plt\n",
        "import seaborn as sns\n",
        "from collections import Counter\n",
        "# Model and performance\n",
        "from sklearn.model_selection import train_test_split, cross_validate\n",
        "from sklearn.ensemble import RandomForestClassifier\n",
        "from sklearn.metrics import classification_report\n",
        "# Ensembled sampling\n",
        "from imblearn.under_sampling import NearMiss\n",
        "from imblearn.over_sampling import SMOTE\n",
        "from imblearn.ensemble import BalancedRandomForestClassifier\n",
        "from imblearn.ensemble import RUSBoostClassifier\n",
        "from imblearn.ensemble import EasyEnsembleClassifier\n",
        "from imblearn.ensemble import BalancedBaggingClassifier"
      ]
    },
    {
      "cell_type": "code",
      "execution_count": null,
      "metadata": {
        "id": "W7vmdQuMX2hN"
      },
      "outputs": [],
      "source": [
        "brf = BalancedRandomForestClassifier(random_state=42,sampling_strategy='not minority')\n",
        "#brf_model_cv = cross_validate(brf, X_train, y_train, cv = 5, n_jobs = -1, scoring=\"f1_macro\")"
      ]
    },
    {
      "cell_type": "code",
      "execution_count": null,
      "metadata": {
        "colab": {
          "base_uri": "https://localhost:8080/"
        },
        "id": "OJqok5bHZw4x",
        "outputId": "64006047-7d99-4133-d2a9-306eeb9f1ec1"
      },
      "outputs": [
        {
          "name": "stdout",
          "output_type": "stream",
          "text": [
            "0.623 +/- 0.003\n"
          ]
        }
      ],
      "source": [
        "print(f\"{brf_model_cv['test_score'].mean():.3f} +/- {brf_model_cv['test_score'].std():.3f}\")"
      ]
    },
    {
      "cell_type": "code",
      "execution_count": null,
      "metadata": {
        "colab": {
          "base_uri": "https://localhost:8080/"
        },
        "id": "BqPeUrXHYlpP",
        "outputId": "a1516799-8bd6-4ecc-ed3d-bdb4f23c3ac9"
      },
      "outputs": [
        {
          "data": {
            "text/plain": [
              "BalancedRandomForestClassifier(random_state=42,\n",
              "                               sampling_strategy='not minority')"
            ]
          },
          "execution_count": 244,
          "metadata": {},
          "output_type": "execute_result"
        }
      ],
      "source": [
        "brf.fit(X_train,y_train)"
      ]
    },
    {
      "cell_type": "code",
      "execution_count": null,
      "metadata": {
        "id": "RuGwChv5Y3zo"
      },
      "outputs": [],
      "source": [
        "y_pred_brc = brf.predict(X_test)"
      ]
    },
    {
      "cell_type": "code",
      "execution_count": null,
      "metadata": {
        "colab": {
          "base_uri": "https://localhost:8080/"
        },
        "id": "J1Q_XcxTY3zp",
        "outputId": "586375ee-a038-4352-a2db-475efb215920"
      },
      "outputs": [
        {
          "name": "stdout",
          "output_type": "stream",
          "text": [
            "[[6153 1799]\n",
            " [ 362  729]]\n"
          ]
        }
      ],
      "source": [
        "print(confusion_matrix(y_test, y_pred_brc))"
      ]
    },
    {
      "cell_type": "code",
      "execution_count": null,
      "metadata": {
        "colab": {
          "base_uri": "https://localhost:8080/"
        },
        "id": "XtlKv0hIY3zq",
        "outputId": "8871a0d1-6f82-4f04-b081-449f5a3bcda1"
      },
      "outputs": [
        {
          "name": "stdout",
          "output_type": "stream",
          "text": [
            "              precision    recall  f1-score   support\n",
            "\n",
            "          no       0.90      0.97      0.94      7952\n",
            "         yes       0.55      0.24      0.33      1091\n",
            "\n",
            "    accuracy                           0.88      9043\n",
            "   macro avg       0.73      0.60      0.63      9043\n",
            "weighted avg       0.86      0.88      0.86      9043\n",
            "\n"
          ]
        }
      ],
      "source": [
        "print(classification_report(y_test, y_pred_bbc))"
      ]
    },
    {
      "cell_type": "code",
      "execution_count": null,
      "metadata": {
        "colab": {
          "base_uri": "https://localhost:8080/"
        },
        "id": "T4vs6hPKY3zr",
        "outputId": "da1d3ad2-1fbe-45fa-e21f-2e6e87bd19d4"
      },
      "outputs": [
        {
          "name": "stdout",
          "output_type": "stream",
          "text": [
            "Precision Score:  0.28837025316455694\n",
            "Recall Score:  0.6681943171402384\n"
          ]
        }
      ],
      "source": [
        "# Let's find the scores  for precision and recall.\n",
        "from sklearn.metrics import precision_score, recall_score\n",
        "# The model is 77% sure that the potential client will suscribe to a term deposit. \n",
        "# The model is only retaining 60% of clients that agree to suscribe a term deposit.\n",
        "print('Precision Score: ', precision_score(y_test, y_pred_brc,pos_label=\"yes\"))\n",
        "# The classifier only detects 60% of potential clients that will suscribe to a term deposit.\n",
        "print('Recall Score: ', recall_score(y_test, y_pred_brc, pos_label = \"yes\"))"
      ]
    },
    {
      "cell_type": "code",
      "execution_count": null,
      "metadata": {
        "colab": {
          "base_uri": "https://localhost:8080/"
        },
        "id": "6RjSzwDPY3zs",
        "outputId": "06056452-0288-4aaf-9dcd-bf0f4b95c533"
      },
      "outputs": [
        {
          "data": {
            "text/plain": [
              "0.40287372202265814"
            ]
          },
          "execution_count": 251,
          "metadata": {},
          "output_type": "execute_result"
        }
      ],
      "source": [
        "from sklearn.metrics import f1_score\n",
        "\n",
        "f1_score(y_test, y_pred_brc,pos_label = \"yes\")"
      ]
    },
    {
      "cell_type": "code",
      "execution_count": null,
      "metadata": {
        "colab": {
          "base_uri": "https://localhost:8080/"
        },
        "id": "wm9hwqF5Y3zt",
        "outputId": "4311d1d6-21f8-477a-88e9-679ef1948461"
      },
      "outputs": [
        {
          "name": "stdout",
          "output_type": "stream",
          "text": [
            "BBC accuracy is 0.76\n"
          ]
        }
      ],
      "source": [
        "from sklearn.metrics import accuracy_score\n",
        "print (\"BBC accuracy is %2.2f\" % accuracy_score(y_test, y_pred_brc))"
      ]
    },
    {
      "cell_type": "code",
      "execution_count": null,
      "metadata": {
        "id": "GpUojinXa1Qx"
      },
      "outputs": [],
      "source": [
        ""
      ]
    }
  ],
  "metadata": {
    "colab": {
      "collapsed_sections": [],
      "name": "Bank Marketing - Capstone Project.ipynb",
      "provenance": [],
      "include_colab_link": true
    },
    "kernelspec": {
      "display_name": "Python 3",
      "language": "python",
      "name": "python3"
    },
    "language_info": {
      "codemirror_mode": {
        "name": "ipython",
        "version": 3
      },
      "file_extension": ".py",
      "mimetype": "text/x-python",
      "name": "python",
      "nbconvert_exporter": "python",
      "pygments_lexer": "ipython3",
      "version": "3.6.6"
    }
  },
  "nbformat": 4,
  "nbformat_minor": 0
}